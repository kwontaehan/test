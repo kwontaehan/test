{
 "cells": [
  {
   "cell_type": "code",
   "execution_count": 10,
   "id": "eaab557c",
   "metadata": {},
   "outputs": [
    {
     "data": {
      "text/html": [
       "        <script type=\"text/javascript\">\n",
       "        window.PlotlyConfig = {MathJaxConfig: 'local'};\n",
       "        if (window.MathJax) {MathJax.Hub.Config({SVG: {font: \"STIX-Web\"}});}\n",
       "        if (typeof require !== 'undefined') {\n",
       "        require.undef(\"plotly\");\n",
       "        requirejs.config({\n",
       "            paths: {\n",
       "                'plotly': ['https://cdn.plot.ly/plotly-2.9.0.min']\n",
       "            }\n",
       "        });\n",
       "        require(['plotly'], function(Plotly) {\n",
       "            window._Plotly = Plotly;\n",
       "        });\n",
       "        }\n",
       "        </script>\n",
       "        "
      ]
     },
     "metadata": {},
     "output_type": "display_data"
    }
   ],
   "source": [
    "import numpy as np\n",
    "import pandas as pd\n",
    "from tqdm import tqdm\n",
    "import my_utils2 as mu\n",
    "import lol_gamedata2 as lg\n",
    "import time\n",
    "import requests\n",
    "import matplotlib.pyplot as plt\n",
    "import seaborn as sns\n",
    "import plotly\n",
    "import plotly.express as px\n",
    "import plotly.graph_objs as go\n",
    "plotly.offline.init_notebook_mode(connected=True)"
   ]
  },
  {
   "cell_type": "code",
   "execution_count": 11,
   "id": "28c44856",
   "metadata": {},
   "outputs": [],
   "source": [
    "lg.set_api_key('RGAPI-c6971573-ba96-4db1-8fcb-c9917af0467a')"
   ]
  },
  {
   "cell_type": "code",
   "execution_count": 12,
   "id": "12dff2db",
   "metadata": {},
   "outputs": [
    {
     "name": "stderr",
     "output_type": "stream",
     "text": [
      "100%|████████████████████████████████████████████████████████████████████████████████████| 4/4 [00:01<00:00,  2.65it/s]\n",
      "100%|████████████████████████████████████████████████████████████████████████████████████| 5/5 [00:01<00:00,  2.76it/s]\n",
      "100%|████████████████████████████████████████████████████████████████████████████████████| 3/3 [00:04<00:00,  1.47s/it]\n"
     ]
    }
   ],
   "source": [
    "# 1번 문제\n",
    "df=lg.get_rawData('GOLD')"
   ]
  },
  {
   "cell_type": "code",
   "execution_count": 13,
   "id": "44893cca",
   "metadata": {
    "scrolled": true
   },
   "outputs": [
    {
     "name": "stderr",
     "output_type": "stream",
     "text": [
      "100%|███████████████████████████████████████████████████████████████████████████████████| 3/3 [00:00<00:00, 320.97it/s]"
     ]
    },
    {
     "name": "stdout",
     "output_type": "stream",
     "text": [
      "complete! the number of df is 3\n"
     ]
    },
    {
     "name": "stderr",
     "output_type": "stream",
     "text": [
      "\n"
     ]
    }
   ],
   "source": [
    "# 2번 문제\n",
    "# 3번 문제\n",
    "df1=lg.get_dataframe_from_game_data(df)"
   ]
  },
  {
   "cell_type": "code",
   "execution_count": null,
   "id": "6a8e415e",
   "metadata": {},
   "outputs": [],
   "source": [
    "c_sql=\"\"\"\n",
    "create table match_data_take(gameId number(20),participantId number(10),gameDuration number(20),\n",
    "gameVersion varchar(30),summonerName varchar(30),summonerLevel number(10),championName varchar(20),\n",
    "champExperience number(20),teamPosition varchar(15),teamId number(10),win varchar(10),kills number(10),\n",
    "deaths number(10),assists number(10),totalDamageDealtToChampions number(20),totalDamageTaken number(20),\n",
    "baronKills number(10),teamElderDragonKills number(10),dragonKills number(10),teamRiftHeraldKills number(10),g_5 number(10),g_6 number(10),\n",
    "g_7 number(10),g_8 number(10),g_9 number(10),g_10 number(10),g_11 number(10),\n",
    "g_12 number(10),g_13 number(10),g_14 number(10),g_15 number(10),g_16 number(10),g_17 number(10),\n",
    "g_18 number(10),g_19 number(10),g_20 number(10),g_21 number(10),g_22 number(10),g_23 number(10),\n",
    "g_24 number(10),g_25 number(10))\n",
    "\"\"\""
   ]
  },
  {
   "cell_type": "code",
   "execution_count": null,
   "id": "0a545723",
   "metadata": {},
   "outputs": [],
   "source": [
    "mu.db_open()\n",
    "mu.sql_execute(c_sql)"
   ]
  },
  {
   "cell_type": "code",
   "execution_count": null,
   "id": "dbe3b863",
   "metadata": {},
   "outputs": [],
   "source": [
    "count = 1\n",
    "for i in range(1):\n",
    "    df = lg.get_rawData(tier)\n",
    "    all_df = lg.get_df_with_mon(df)\n",
    "\n",
    "    mu.db_open()\n",
    "    mu.insert_of(all_df)\n",
    "    mu.db_close()\n",
    "\n",
    "    print(count)\n",
    "    count += 1\n",
    "    time.sleep(30)"
   ]
  },
  {
   "cell_type": "code",
   "execution_count": 38,
   "id": "985bfb64",
   "metadata": {
    "collapsed": true
   },
   "outputs": [
    {
     "data": {
      "text/plain": [
       "dict_keys(['assists', 'baronKills', 'basicPings', 'bountyLevel', 'challenges', 'champExperience', 'champLevel', 'championId', 'championName', 'championTransform', 'consumablesPurchased', 'damageDealtToBuildings', 'damageDealtToObjectives', 'damageDealtToTurrets', 'damageSelfMitigated', 'deaths', 'detectorWardsPlaced', 'doubleKills', 'dragonKills', 'eligibleForProgression', 'firstBloodAssist', 'firstBloodKill', 'firstTowerAssist', 'firstTowerKill', 'gameEndedInEarlySurrender', 'gameEndedInSurrender', 'goldEarned', 'goldSpent', 'individualPosition', 'inhibitorKills', 'inhibitorTakedowns', 'inhibitorsLost', 'item0', 'item1', 'item2', 'item3', 'item4', 'item5', 'item6', 'itemsPurchased', 'killingSprees', 'kills', 'lane', 'largestCriticalStrike', 'largestKillingSpree', 'largestMultiKill', 'longestTimeSpentLiving', 'magicDamageDealt', 'magicDamageDealtToChampions', 'magicDamageTaken', 'neutralMinionsKilled', 'nexusKills', 'nexusLost', 'nexusTakedowns', 'objectivesStolen', 'objectivesStolenAssists', 'participantId', 'pentaKills', 'perks', 'physicalDamageDealt', 'physicalDamageDealtToChampions', 'physicalDamageTaken', 'profileIcon', 'puuid', 'quadraKills', 'riotIdName', 'riotIdTagline', 'role', 'sightWardsBoughtInGame', 'spell1Casts', 'spell2Casts', 'spell3Casts', 'spell4Casts', 'summoner1Casts', 'summoner1Id', 'summoner2Casts', 'summoner2Id', 'summonerId', 'summonerLevel', 'summonerName', 'teamEarlySurrendered', 'teamId', 'teamPosition', 'timeCCingOthers', 'timePlayed', 'totalDamageDealt', 'totalDamageDealtToChampions', 'totalDamageShieldedOnTeammates', 'totalDamageTaken', 'totalHeal', 'totalHealsOnTeammates', 'totalMinionsKilled', 'totalTimeCCDealt', 'totalTimeSpentDead', 'totalUnitsHealed', 'tripleKills', 'trueDamageDealt', 'trueDamageDealtToChampions', 'trueDamageTaken', 'turretKills', 'turretTakedowns', 'turretsLost', 'unrealKills', 'visionScore', 'visionWardsBoughtInGame', 'wardsKilled', 'wardsPlaced', 'win'])"
      ]
     },
     "execution_count": 38,
     "metadata": {},
     "output_type": "execute_result"
    }
   ],
   "source": [
    "df['matches'][0]['info']['participants'][0].keys()"
   ]
  },
  {
   "cell_type": "code",
   "execution_count": 15,
   "id": "0db72c7e",
   "metadata": {},
   "outputs": [
    {
     "name": "stdout",
     "output_type": "stream",
     "text": [
      "open!\n"
     ]
    },
    {
     "name": "stderr",
     "output_type": "stream",
     "text": [
      "C:\\Users\\kwon\\anaconda3\\lib\\site-packages\\pandas\\io\\sql.py:761: UserWarning:\n",
      "\n",
      "pandas only support SQLAlchemy connectable(engine/connection) ordatabase string URI or sqlite3 DBAPI2 connectionother DBAPI2 objects are not tested, please consider using SQLAlchemy\n",
      "\n"
     ]
    },
    {
     "data": {
      "text/plain": [
       "'close!'"
      ]
     },
     "execution_count": 15,
     "metadata": {},
     "output_type": "execute_result"
    }
   ],
   "source": [
    "mu.db_open()\n",
    "df=mu.sql_execute('select * from match_data_take')\n",
    "mu.db_close()"
   ]
  },
  {
   "cell_type": "code",
   "execution_count": 21,
   "id": "bcdb0396",
   "metadata": {},
   "outputs": [
    {
     "data": {
      "text/html": [
       "<div>\n",
       "<style scoped>\n",
       "    .dataframe tbody tr th:only-of-type {\n",
       "        vertical-align: middle;\n",
       "    }\n",
       "\n",
       "    .dataframe tbody tr th {\n",
       "        vertical-align: top;\n",
       "    }\n",
       "\n",
       "    .dataframe thead th {\n",
       "        text-align: right;\n",
       "    }\n",
       "</style>\n",
       "<table border=\"1\" class=\"dataframe\">\n",
       "  <thead>\n",
       "    <tr style=\"text-align: right;\">\n",
       "      <th></th>\n",
       "      <th>GAMEID</th>\n",
       "      <th>PARTICIPANTID</th>\n",
       "      <th>GAMEDURATION</th>\n",
       "      <th>GAMEVERSION</th>\n",
       "      <th>SUMMONERNAME</th>\n",
       "      <th>SUMMONERLEVEL</th>\n",
       "      <th>CHAMPIONNAME</th>\n",
       "      <th>CHAMPEXPERIENCE</th>\n",
       "      <th>TEAMPOSITION</th>\n",
       "      <th>TEAMID</th>\n",
       "      <th>...</th>\n",
       "      <th>G_16</th>\n",
       "      <th>G_17</th>\n",
       "      <th>G_18</th>\n",
       "      <th>G_19</th>\n",
       "      <th>G_20</th>\n",
       "      <th>G_21</th>\n",
       "      <th>G_22</th>\n",
       "      <th>G_23</th>\n",
       "      <th>G_24</th>\n",
       "      <th>G_25</th>\n",
       "    </tr>\n",
       "  </thead>\n",
       "  <tbody>\n",
       "    <tr>\n",
       "      <th>0</th>\n",
       "      <td>5991140185</td>\n",
       "      <td>1</td>\n",
       "      <td>2617</td>\n",
       "      <td>12.12.450.4196</td>\n",
       "      <td>심 킴</td>\n",
       "      <td>253</td>\n",
       "      <td>Sejuani</td>\n",
       "      <td>19563</td>\n",
       "      <td>TOP</td>\n",
       "      <td>100</td>\n",
       "      <td>...</td>\n",
       "      <td>4071</td>\n",
       "      <td>4340</td>\n",
       "      <td>4561</td>\n",
       "      <td>4880</td>\n",
       "      <td>5095</td>\n",
       "      <td>5218</td>\n",
       "      <td>5703</td>\n",
       "      <td>5898</td>\n",
       "      <td>6021</td>\n",
       "      <td>6634</td>\n",
       "    </tr>\n",
       "    <tr>\n",
       "      <th>1</th>\n",
       "      <td>5991140185</td>\n",
       "      <td>2</td>\n",
       "      <td>2617</td>\n",
       "      <td>12.12.450.4196</td>\n",
       "      <td>Insulator</td>\n",
       "      <td>127</td>\n",
       "      <td>RekSai</td>\n",
       "      <td>22775</td>\n",
       "      <td>JUNGLE</td>\n",
       "      <td>100</td>\n",
       "      <td>...</td>\n",
       "      <td>7790</td>\n",
       "      <td>8047</td>\n",
       "      <td>8530</td>\n",
       "      <td>8766</td>\n",
       "      <td>9344</td>\n",
       "      <td>9481</td>\n",
       "      <td>9748</td>\n",
       "      <td>10052</td>\n",
       "      <td>10359</td>\n",
       "      <td>10914</td>\n",
       "    </tr>\n",
       "    <tr>\n",
       "      <th>2</th>\n",
       "      <td>5991140185</td>\n",
       "      <td>3</td>\n",
       "      <td>2617</td>\n",
       "      <td>12.12.450.4196</td>\n",
       "      <td>갓진수</td>\n",
       "      <td>163</td>\n",
       "      <td>Viktor</td>\n",
       "      <td>23684</td>\n",
       "      <td>MIDDLE</td>\n",
       "      <td>100</td>\n",
       "      <td>...</td>\n",
       "      <td>6357</td>\n",
       "      <td>7003</td>\n",
       "      <td>7329</td>\n",
       "      <td>8095</td>\n",
       "      <td>8832</td>\n",
       "      <td>9500</td>\n",
       "      <td>9781</td>\n",
       "      <td>10293</td>\n",
       "      <td>10774</td>\n",
       "      <td>11833</td>\n",
       "    </tr>\n",
       "    <tr>\n",
       "      <th>3</th>\n",
       "      <td>5991140185</td>\n",
       "      <td>4</td>\n",
       "      <td>2617</td>\n",
       "      <td>12.12.450.4196</td>\n",
       "      <td>스파크카푸어</td>\n",
       "      <td>185</td>\n",
       "      <td>Ezreal</td>\n",
       "      <td>22088</td>\n",
       "      <td>BOTTOM</td>\n",
       "      <td>100</td>\n",
       "      <td>...</td>\n",
       "      <td>6256</td>\n",
       "      <td>6657</td>\n",
       "      <td>7685</td>\n",
       "      <td>8219</td>\n",
       "      <td>8559</td>\n",
       "      <td>9411</td>\n",
       "      <td>9859</td>\n",
       "      <td>10240</td>\n",
       "      <td>10599</td>\n",
       "      <td>11131</td>\n",
       "    </tr>\n",
       "    <tr>\n",
       "      <th>4</th>\n",
       "      <td>5991140185</td>\n",
       "      <td>5</td>\n",
       "      <td>2617</td>\n",
       "      <td>12.12.450.4196</td>\n",
       "      <td>퇴마사의손</td>\n",
       "      <td>257</td>\n",
       "      <td>Ashe</td>\n",
       "      <td>17798</td>\n",
       "      <td>UTILITY</td>\n",
       "      <td>100</td>\n",
       "      <td>...</td>\n",
       "      <td>4871</td>\n",
       "      <td>5121</td>\n",
       "      <td>5571</td>\n",
       "      <td>5931</td>\n",
       "      <td>6151</td>\n",
       "      <td>6710</td>\n",
       "      <td>6865</td>\n",
       "      <td>7005</td>\n",
       "      <td>7146</td>\n",
       "      <td>7562</td>\n",
       "    </tr>\n",
       "    <tr>\n",
       "      <th>...</th>\n",
       "      <td>...</td>\n",
       "      <td>...</td>\n",
       "      <td>...</td>\n",
       "      <td>...</td>\n",
       "      <td>...</td>\n",
       "      <td>...</td>\n",
       "      <td>...</td>\n",
       "      <td>...</td>\n",
       "      <td>...</td>\n",
       "      <td>...</td>\n",
       "      <td>...</td>\n",
       "      <td>...</td>\n",
       "      <td>...</td>\n",
       "      <td>...</td>\n",
       "      <td>...</td>\n",
       "      <td>...</td>\n",
       "      <td>...</td>\n",
       "      <td>...</td>\n",
       "      <td>...</td>\n",
       "      <td>...</td>\n",
       "      <td>...</td>\n",
       "    </tr>\n",
       "    <tr>\n",
       "      <th>15104</th>\n",
       "      <td>6004611548</td>\n",
       "      <td>6</td>\n",
       "      <td>666</td>\n",
       "      <td>12.12.450.4196</td>\n",
       "      <td>인생산으로가네</td>\n",
       "      <td>120</td>\n",
       "      <td>Lillia</td>\n",
       "      <td>5070</td>\n",
       "      <td>TOP</td>\n",
       "      <td>200</td>\n",
       "      <td>...</td>\n",
       "      <td>0</td>\n",
       "      <td>0</td>\n",
       "      <td>0</td>\n",
       "      <td>0</td>\n",
       "      <td>0</td>\n",
       "      <td>0</td>\n",
       "      <td>0</td>\n",
       "      <td>0</td>\n",
       "      <td>0</td>\n",
       "      <td>0</td>\n",
       "    </tr>\n",
       "    <tr>\n",
       "      <th>15105</th>\n",
       "      <td>6004611548</td>\n",
       "      <td>7</td>\n",
       "      <td>666</td>\n",
       "      <td>12.12.450.4196</td>\n",
       "      <td>JJungllerr</td>\n",
       "      <td>269</td>\n",
       "      <td>Zed</td>\n",
       "      <td>4745</td>\n",
       "      <td>JUNGLE</td>\n",
       "      <td>200</td>\n",
       "      <td>...</td>\n",
       "      <td>0</td>\n",
       "      <td>0</td>\n",
       "      <td>0</td>\n",
       "      <td>0</td>\n",
       "      <td>0</td>\n",
       "      <td>0</td>\n",
       "      <td>0</td>\n",
       "      <td>0</td>\n",
       "      <td>0</td>\n",
       "      <td>0</td>\n",
       "    </tr>\n",
       "    <tr>\n",
       "      <th>15106</th>\n",
       "      <td>6004611548</td>\n",
       "      <td>8</td>\n",
       "      <td>666</td>\n",
       "      <td>12.12.450.4196</td>\n",
       "      <td>Lil Keshi</td>\n",
       "      <td>62</td>\n",
       "      <td>Yone</td>\n",
       "      <td>1086</td>\n",
       "      <td>MIDDLE</td>\n",
       "      <td>200</td>\n",
       "      <td>...</td>\n",
       "      <td>0</td>\n",
       "      <td>0</td>\n",
       "      <td>0</td>\n",
       "      <td>0</td>\n",
       "      <td>0</td>\n",
       "      <td>0</td>\n",
       "      <td>0</td>\n",
       "      <td>0</td>\n",
       "      <td>0</td>\n",
       "      <td>0</td>\n",
       "    </tr>\n",
       "    <tr>\n",
       "      <th>15107</th>\n",
       "      <td>6004611548</td>\n",
       "      <td>9</td>\n",
       "      <td>666</td>\n",
       "      <td>12.12.450.4196</td>\n",
       "      <td>진우사랑벚꽃말고</td>\n",
       "      <td>213</td>\n",
       "      <td>Ezreal</td>\n",
       "      <td>2980</td>\n",
       "      <td>BOTTOM</td>\n",
       "      <td>200</td>\n",
       "      <td>...</td>\n",
       "      <td>0</td>\n",
       "      <td>0</td>\n",
       "      <td>0</td>\n",
       "      <td>0</td>\n",
       "      <td>0</td>\n",
       "      <td>0</td>\n",
       "      <td>0</td>\n",
       "      <td>0</td>\n",
       "      <td>0</td>\n",
       "      <td>0</td>\n",
       "    </tr>\n",
       "    <tr>\n",
       "      <th>15108</th>\n",
       "      <td>6004611548</td>\n",
       "      <td>10</td>\n",
       "      <td>666</td>\n",
       "      <td>12.12.450.4196</td>\n",
       "      <td>어려브네</td>\n",
       "      <td>223</td>\n",
       "      <td>LeeSin</td>\n",
       "      <td>3313</td>\n",
       "      <td>UTILITY</td>\n",
       "      <td>200</td>\n",
       "      <td>...</td>\n",
       "      <td>0</td>\n",
       "      <td>0</td>\n",
       "      <td>0</td>\n",
       "      <td>0</td>\n",
       "      <td>0</td>\n",
       "      <td>0</td>\n",
       "      <td>0</td>\n",
       "      <td>0</td>\n",
       "      <td>0</td>\n",
       "      <td>0</td>\n",
       "    </tr>\n",
       "  </tbody>\n",
       "</table>\n",
       "<p>15109 rows × 41 columns</p>\n",
       "</div>"
      ],
      "text/plain": [
       "           GAMEID  PARTICIPANTID  GAMEDURATION     GAMEVERSION SUMMONERNAME  \\\n",
       "0      5991140185              1          2617  12.12.450.4196          심 킴   \n",
       "1      5991140185              2          2617  12.12.450.4196    Insulator   \n",
       "2      5991140185              3          2617  12.12.450.4196          갓진수   \n",
       "3      5991140185              4          2617  12.12.450.4196       스파크카푸어   \n",
       "4      5991140185              5          2617  12.12.450.4196        퇴마사의손   \n",
       "...           ...            ...           ...             ...          ...   \n",
       "15104  6004611548              6           666  12.12.450.4196      인생산으로가네   \n",
       "15105  6004611548              7           666  12.12.450.4196   JJungllerr   \n",
       "15106  6004611548              8           666  12.12.450.4196    Lil Keshi   \n",
       "15107  6004611548              9           666  12.12.450.4196     진우사랑벚꽃말고   \n",
       "15108  6004611548             10           666  12.12.450.4196         어려브네   \n",
       "\n",
       "       SUMMONERLEVEL CHAMPIONNAME  CHAMPEXPERIENCE TEAMPOSITION  TEAMID  ...  \\\n",
       "0                253      Sejuani            19563          TOP     100  ...   \n",
       "1                127       RekSai            22775       JUNGLE     100  ...   \n",
       "2                163       Viktor            23684       MIDDLE     100  ...   \n",
       "3                185       Ezreal            22088       BOTTOM     100  ...   \n",
       "4                257         Ashe            17798      UTILITY     100  ...   \n",
       "...              ...          ...              ...          ...     ...  ...   \n",
       "15104            120       Lillia             5070          TOP     200  ...   \n",
       "15105            269          Zed             4745       JUNGLE     200  ...   \n",
       "15106             62         Yone             1086       MIDDLE     200  ...   \n",
       "15107            213       Ezreal             2980       BOTTOM     200  ...   \n",
       "15108            223       LeeSin             3313      UTILITY     200  ...   \n",
       "\n",
       "       G_16  G_17  G_18  G_19  G_20  G_21  G_22   G_23   G_24   G_25  \n",
       "0      4071  4340  4561  4880  5095  5218  5703   5898   6021   6634  \n",
       "1      7790  8047  8530  8766  9344  9481  9748  10052  10359  10914  \n",
       "2      6357  7003  7329  8095  8832  9500  9781  10293  10774  11833  \n",
       "3      6256  6657  7685  8219  8559  9411  9859  10240  10599  11131  \n",
       "4      4871  5121  5571  5931  6151  6710  6865   7005   7146   7562  \n",
       "...     ...   ...   ...   ...   ...   ...   ...    ...    ...    ...  \n",
       "15104     0     0     0     0     0     0     0      0      0      0  \n",
       "15105     0     0     0     0     0     0     0      0      0      0  \n",
       "15106     0     0     0     0     0     0     0      0      0      0  \n",
       "15107     0     0     0     0     0     0     0      0      0      0  \n",
       "15108     0     0     0     0     0     0     0      0      0      0  \n",
       "\n",
       "[15109 rows x 41 columns]"
      ]
     },
     "execution_count": 21,
     "metadata": {},
     "output_type": "execute_result"
    }
   ],
   "source": [
    "df"
   ]
  },
  {
   "cell_type": "code",
   "execution_count": 16,
   "id": "4c14338a",
   "metadata": {},
   "outputs": [],
   "source": [
    "my_df = df [['CHAMPIONNAME','TOTALDAMAGEDEALTTOCHAMPIONS','TOTALDAMAGETAKEN']]"
   ]
  },
  {
   "cell_type": "code",
   "execution_count": 17,
   "id": "9ffdac20",
   "metadata": {},
   "outputs": [],
   "source": [
    "my_df.columns=['Champ','Damage','Taken']"
   ]
  },
  {
   "cell_type": "code",
   "execution_count": 18,
   "id": "ea894207",
   "metadata": {},
   "outputs": [],
   "source": [
    "# 5번 문제\n",
    "my_df=my_df.groupby(['Champ']).mean().round(2).reset_index()"
   ]
  },
  {
   "cell_type": "code",
   "execution_count": 20,
   "id": "35d1b509",
   "metadata": {},
   "outputs": [
    {
     "data": {
      "text/html": [
       "<div>\n",
       "<style scoped>\n",
       "    .dataframe tbody tr th:only-of-type {\n",
       "        vertical-align: middle;\n",
       "    }\n",
       "\n",
       "    .dataframe tbody tr th {\n",
       "        vertical-align: top;\n",
       "    }\n",
       "\n",
       "    .dataframe thead th {\n",
       "        text-align: right;\n",
       "    }\n",
       "</style>\n",
       "<table border=\"1\" class=\"dataframe\">\n",
       "  <thead>\n",
       "    <tr style=\"text-align: right;\">\n",
       "      <th></th>\n",
       "      <th>Champ</th>\n",
       "      <th>Damage</th>\n",
       "      <th>Taken</th>\n",
       "    </tr>\n",
       "  </thead>\n",
       "  <tbody>\n",
       "    <tr>\n",
       "      <th>0</th>\n",
       "      <td>Aatrox</td>\n",
       "      <td>18081.76</td>\n",
       "      <td>28542.66</td>\n",
       "    </tr>\n",
       "    <tr>\n",
       "      <th>1</th>\n",
       "      <td>Ahri</td>\n",
       "      <td>17841.53</td>\n",
       "      <td>20075.60</td>\n",
       "    </tr>\n",
       "    <tr>\n",
       "      <th>2</th>\n",
       "      <td>Akali</td>\n",
       "      <td>21445.22</td>\n",
       "      <td>26320.37</td>\n",
       "    </tr>\n",
       "    <tr>\n",
       "      <th>3</th>\n",
       "      <td>Akshan</td>\n",
       "      <td>17970.51</td>\n",
       "      <td>18962.41</td>\n",
       "    </tr>\n",
       "    <tr>\n",
       "      <th>4</th>\n",
       "      <td>Alistar</td>\n",
       "      <td>7410.66</td>\n",
       "      <td>23253.59</td>\n",
       "    </tr>\n",
       "    <tr>\n",
       "      <th>...</th>\n",
       "      <td>...</td>\n",
       "      <td>...</td>\n",
       "      <td>...</td>\n",
       "    </tr>\n",
       "    <tr>\n",
       "      <th>155</th>\n",
       "      <td>Zeri</td>\n",
       "      <td>21744.21</td>\n",
       "      <td>22696.96</td>\n",
       "    </tr>\n",
       "    <tr>\n",
       "      <th>156</th>\n",
       "      <td>Ziggs</td>\n",
       "      <td>26902.30</td>\n",
       "      <td>17268.79</td>\n",
       "    </tr>\n",
       "    <tr>\n",
       "      <th>157</th>\n",
       "      <td>Zilean</td>\n",
       "      <td>10600.50</td>\n",
       "      <td>16021.45</td>\n",
       "    </tr>\n",
       "    <tr>\n",
       "      <th>158</th>\n",
       "      <td>Zoe</td>\n",
       "      <td>19533.24</td>\n",
       "      <td>17558.56</td>\n",
       "    </tr>\n",
       "    <tr>\n",
       "      <th>159</th>\n",
       "      <td>Zyra</td>\n",
       "      <td>20840.25</td>\n",
       "      <td>15985.62</td>\n",
       "    </tr>\n",
       "  </tbody>\n",
       "</table>\n",
       "<p>160 rows × 3 columns</p>\n",
       "</div>"
      ],
      "text/plain": [
       "       Champ    Damage     Taken\n",
       "0     Aatrox  18081.76  28542.66\n",
       "1       Ahri  17841.53  20075.60\n",
       "2      Akali  21445.22  26320.37\n",
       "3     Akshan  17970.51  18962.41\n",
       "4    Alistar   7410.66  23253.59\n",
       "..       ...       ...       ...\n",
       "155     Zeri  21744.21  22696.96\n",
       "156    Ziggs  26902.30  17268.79\n",
       "157   Zilean  10600.50  16021.45\n",
       "158      Zoe  19533.24  17558.56\n",
       "159     Zyra  20840.25  15985.62\n",
       "\n",
       "[160 rows x 3 columns]"
      ]
     },
     "execution_count": 20,
     "metadata": {},
     "output_type": "execute_result"
    }
   ],
   "source": [
    "my_df"
   ]
  },
  {
   "cell_type": "code",
   "execution_count": 22,
   "id": "12becfe1",
   "metadata": {},
   "outputs": [],
   "source": [
    "# 한글 폰트 \n",
    "from matplotlib import font_manager,rc\n",
    "font_path = \"C:/Windows/Fonts/gulim.ttc\"\n",
    "font = font_manager.FontProperties(fname = font_path).get_name()\n",
    "rc('font',family=font)"
   ]
  },
  {
   "cell_type": "code",
   "execution_count": 23,
   "id": "9e35ef1d",
   "metadata": {},
   "outputs": [],
   "source": [
    "xdata = my_df.Damage\n",
    "ydata = my_df.Taken"
   ]
  },
  {
   "cell_type": "code",
   "execution_count": 24,
   "id": "e6a689b3",
   "metadata": {},
   "outputs": [
    {
     "data": {
      "application/vnd.plotly.v1+json": {
       "config": {
        "linkText": "Export to plot.ly",
        "plotlyServerURL": "https://plot.ly",
        "showLink": false
       },
       "data": [
        {
         "hovertemplate": "Champ=Aatrox<br>Damage=%{x}<br>Taken=%{y}<extra></extra>",
         "legendgroup": "Aatrox",
         "marker": {
          "color": "#636efa",
          "symbol": "circle"
         },
         "mode": "markers",
         "name": "Aatrox",
         "orientation": "v",
         "showlegend": true,
         "type": "scatter",
         "x": [
          18081.76
         ],
         "xaxis": "x",
         "y": [
          28542.66
         ],
         "yaxis": "y"
        },
        {
         "hovertemplate": "Champ=Ahri<br>Damage=%{x}<br>Taken=%{y}<extra></extra>",
         "legendgroup": "Ahri",
         "marker": {
          "color": "#EF553B",
          "symbol": "circle"
         },
         "mode": "markers",
         "name": "Ahri",
         "orientation": "v",
         "showlegend": true,
         "type": "scatter",
         "x": [
          17841.53
         ],
         "xaxis": "x",
         "y": [
          20075.6
         ],
         "yaxis": "y"
        },
        {
         "hovertemplate": "Champ=Akali<br>Damage=%{x}<br>Taken=%{y}<extra></extra>",
         "legendgroup": "Akali",
         "marker": {
          "color": "#00cc96",
          "symbol": "circle"
         },
         "mode": "markers",
         "name": "Akali",
         "orientation": "v",
         "showlegend": true,
         "type": "scatter",
         "x": [
          21445.22
         ],
         "xaxis": "x",
         "y": [
          26320.37
         ],
         "yaxis": "y"
        },
        {
         "hovertemplate": "Champ=Akshan<br>Damage=%{x}<br>Taken=%{y}<extra></extra>",
         "legendgroup": "Akshan",
         "marker": {
          "color": "#ab63fa",
          "symbol": "circle"
         },
         "mode": "markers",
         "name": "Akshan",
         "orientation": "v",
         "showlegend": true,
         "type": "scatter",
         "x": [
          17970.51
         ],
         "xaxis": "x",
         "y": [
          18962.41
         ],
         "yaxis": "y"
        },
        {
         "hovertemplate": "Champ=Alistar<br>Damage=%{x}<br>Taken=%{y}<extra></extra>",
         "legendgroup": "Alistar",
         "marker": {
          "color": "#FFA15A",
          "symbol": "circle"
         },
         "mode": "markers",
         "name": "Alistar",
         "orientation": "v",
         "showlegend": true,
         "type": "scatter",
         "x": [
          7410.66
         ],
         "xaxis": "x",
         "y": [
          23253.59
         ],
         "yaxis": "y"
        },
        {
         "hovertemplate": "Champ=Amumu<br>Damage=%{x}<br>Taken=%{y}<extra></extra>",
         "legendgroup": "Amumu",
         "marker": {
          "color": "#19d3f3",
          "symbol": "circle"
         },
         "mode": "markers",
         "name": "Amumu",
         "orientation": "v",
         "showlegend": true,
         "type": "scatter",
         "x": [
          13295.77
         ],
         "xaxis": "x",
         "y": [
          24632.05
         ],
         "yaxis": "y"
        },
        {
         "hovertemplate": "Champ=Anivia<br>Damage=%{x}<br>Taken=%{y}<extra></extra>",
         "legendgroup": "Anivia",
         "marker": {
          "color": "#FF6692",
          "symbol": "circle"
         },
         "mode": "markers",
         "name": "Anivia",
         "orientation": "v",
         "showlegend": true,
         "type": "scatter",
         "x": [
          14107.55
         ],
         "xaxis": "x",
         "y": [
          21334.75
         ],
         "yaxis": "y"
        },
        {
         "hovertemplate": "Champ=Annie<br>Damage=%{x}<br>Taken=%{y}<extra></extra>",
         "legendgroup": "Annie",
         "marker": {
          "color": "#B6E880",
          "symbol": "circle"
         },
         "mode": "markers",
         "name": "Annie",
         "orientation": "v",
         "showlegend": true,
         "type": "scatter",
         "x": [
          17847.54
         ],
         "xaxis": "x",
         "y": [
          14888.77
         ],
         "yaxis": "y"
        },
        {
         "hovertemplate": "Champ=Aphelios<br>Damage=%{x}<br>Taken=%{y}<extra></extra>",
         "legendgroup": "Aphelios",
         "marker": {
          "color": "#FF97FF",
          "symbol": "circle"
         },
         "mode": "markers",
         "name": "Aphelios",
         "orientation": "v",
         "showlegend": true,
         "type": "scatter",
         "x": [
          19922.61
         ],
         "xaxis": "x",
         "y": [
          18110.82
         ],
         "yaxis": "y"
        },
        {
         "hovertemplate": "Champ=Ashe<br>Damage=%{x}<br>Taken=%{y}<extra></extra>",
         "legendgroup": "Ashe",
         "marker": {
          "color": "#FECB52",
          "symbol": "circle"
         },
         "mode": "markers",
         "name": "Ashe",
         "orientation": "v",
         "showlegend": true,
         "type": "scatter",
         "x": [
          16279.1
         ],
         "xaxis": "x",
         "y": [
          17829.75
         ],
         "yaxis": "y"
        },
        {
         "hovertemplate": "Champ=AurelionSol<br>Damage=%{x}<br>Taken=%{y}<extra></extra>",
         "legendgroup": "AurelionSol",
         "marker": {
          "color": "#636efa",
          "symbol": "circle"
         },
         "mode": "markers",
         "name": "AurelionSol",
         "orientation": "v",
         "showlegend": true,
         "type": "scatter",
         "x": [
          15480.6
         ],
         "xaxis": "x",
         "y": [
          27271.8
         ],
         "yaxis": "y"
        },
        {
         "hovertemplate": "Champ=Azir<br>Damage=%{x}<br>Taken=%{y}<extra></extra>",
         "legendgroup": "Azir",
         "marker": {
          "color": "#EF553B",
          "symbol": "circle"
         },
         "mode": "markers",
         "name": "Azir",
         "orientation": "v",
         "showlegend": true,
         "type": "scatter",
         "x": [
          19399.39
         ],
         "xaxis": "x",
         "y": [
          18949.43
         ],
         "yaxis": "y"
        },
        {
         "hovertemplate": "Champ=Bard<br>Damage=%{x}<br>Taken=%{y}<extra></extra>",
         "legendgroup": "Bard",
         "marker": {
          "color": "#00cc96",
          "symbol": "circle"
         },
         "mode": "markers",
         "name": "Bard",
         "orientation": "v",
         "showlegend": true,
         "type": "scatter",
         "x": [
          9029.93
         ],
         "xaxis": "x",
         "y": [
          16883.53
         ],
         "yaxis": "y"
        },
        {
         "hovertemplate": "Champ=Belveth<br>Damage=%{x}<br>Taken=%{y}<extra></extra>",
         "legendgroup": "Belveth",
         "marker": {
          "color": "#ab63fa",
          "symbol": "circle"
         },
         "mode": "markers",
         "name": "Belveth",
         "orientation": "v",
         "showlegend": true,
         "type": "scatter",
         "x": [
          17253.26
         ],
         "xaxis": "x",
         "y": [
          28726.52
         ],
         "yaxis": "y"
        },
        {
         "hovertemplate": "Champ=Blitzcrank<br>Damage=%{x}<br>Taken=%{y}<extra></extra>",
         "legendgroup": "Blitzcrank",
         "marker": {
          "color": "#FFA15A",
          "symbol": "circle"
         },
         "mode": "markers",
         "name": "Blitzcrank",
         "orientation": "v",
         "showlegend": true,
         "type": "scatter",
         "x": [
          9094.15
         ],
         "xaxis": "x",
         "y": [
          22132.72
         ],
         "yaxis": "y"
        },
        {
         "hovertemplate": "Champ=Brand<br>Damage=%{x}<br>Taken=%{y}<extra></extra>",
         "legendgroup": "Brand",
         "marker": {
          "color": "#19d3f3",
          "symbol": "circle"
         },
         "mode": "markers",
         "name": "Brand",
         "orientation": "v",
         "showlegend": true,
         "type": "scatter",
         "x": [
          21936.76
         ],
         "xaxis": "x",
         "y": [
          18910.44
         ],
         "yaxis": "y"
        },
        {
         "hovertemplate": "Champ=Braum<br>Damage=%{x}<br>Taken=%{y}<extra></extra>",
         "legendgroup": "Braum",
         "marker": {
          "color": "#FF6692",
          "symbol": "circle"
         },
         "mode": "markers",
         "name": "Braum",
         "orientation": "v",
         "showlegend": true,
         "type": "scatter",
         "x": [
          6763.9
         ],
         "xaxis": "x",
         "y": [
          22250.86
         ],
         "yaxis": "y"
        },
        {
         "hovertemplate": "Champ=Caitlyn<br>Damage=%{x}<br>Taken=%{y}<extra></extra>",
         "legendgroup": "Caitlyn",
         "marker": {
          "color": "#B6E880",
          "symbol": "circle"
         },
         "mode": "markers",
         "name": "Caitlyn",
         "orientation": "v",
         "showlegend": true,
         "type": "scatter",
         "x": [
          18845.12
         ],
         "xaxis": "x",
         "y": [
          18188.39
         ],
         "yaxis": "y"
        },
        {
         "hovertemplate": "Champ=Camille<br>Damage=%{x}<br>Taken=%{y}<extra></extra>",
         "legendgroup": "Camille",
         "marker": {
          "color": "#FF97FF",
          "symbol": "circle"
         },
         "mode": "markers",
         "name": "Camille",
         "orientation": "v",
         "showlegend": true,
         "type": "scatter",
         "x": [
          17494.37
         ],
         "xaxis": "x",
         "y": [
          25825.82
         ],
         "yaxis": "y"
        },
        {
         "hovertemplate": "Champ=Cassiopeia<br>Damage=%{x}<br>Taken=%{y}<extra></extra>",
         "legendgroup": "Cassiopeia",
         "marker": {
          "color": "#FECB52",
          "symbol": "circle"
         },
         "mode": "markers",
         "name": "Cassiopeia",
         "orientation": "v",
         "showlegend": true,
         "type": "scatter",
         "x": [
          21327.52
         ],
         "xaxis": "x",
         "y": [
          23222.06
         ],
         "yaxis": "y"
        },
        {
         "hovertemplate": "Champ=Chogath<br>Damage=%{x}<br>Taken=%{y}<extra></extra>",
         "legendgroup": "Chogath",
         "marker": {
          "color": "#636efa",
          "symbol": "circle"
         },
         "mode": "markers",
         "name": "Chogath",
         "orientation": "v",
         "showlegend": true,
         "type": "scatter",
         "x": [
          19827.89
         ],
         "xaxis": "x",
         "y": [
          38054
         ],
         "yaxis": "y"
        },
        {
         "hovertemplate": "Champ=Corki<br>Damage=%{x}<br>Taken=%{y}<extra></extra>",
         "legendgroup": "Corki",
         "marker": {
          "color": "#EF553B",
          "symbol": "circle"
         },
         "mode": "markers",
         "name": "Corki",
         "orientation": "v",
         "showlegend": true,
         "type": "scatter",
         "x": [
          27855.23
         ],
         "xaxis": "x",
         "y": [
          21706.23
         ],
         "yaxis": "y"
        },
        {
         "hovertemplate": "Champ=Darius<br>Damage=%{x}<br>Taken=%{y}<extra></extra>",
         "legendgroup": "Darius",
         "marker": {
          "color": "#00cc96",
          "symbol": "circle"
         },
         "mode": "markers",
         "name": "Darius",
         "orientation": "v",
         "showlegend": true,
         "type": "scatter",
         "x": [
          17742.65
         ],
         "xaxis": "x",
         "y": [
          26527.49
         ],
         "yaxis": "y"
        },
        {
         "hovertemplate": "Champ=Diana<br>Damage=%{x}<br>Taken=%{y}<extra></extra>",
         "legendgroup": "Diana",
         "marker": {
          "color": "#ab63fa",
          "symbol": "circle"
         },
         "mode": "markers",
         "name": "Diana",
         "orientation": "v",
         "showlegend": true,
         "type": "scatter",
         "x": [
          19966.12
         ],
         "xaxis": "x",
         "y": [
          25086.87
         ],
         "yaxis": "y"
        },
        {
         "hovertemplate": "Champ=DrMundo<br>Damage=%{x}<br>Taken=%{y}<extra></extra>",
         "legendgroup": "DrMundo",
         "marker": {
          "color": "#FFA15A",
          "symbol": "circle"
         },
         "mode": "markers",
         "name": "DrMundo",
         "orientation": "v",
         "showlegend": true,
         "type": "scatter",
         "x": [
          21094.62
         ],
         "xaxis": "x",
         "y": [
          38515.2
         ],
         "yaxis": "y"
        },
        {
         "hovertemplate": "Champ=Draven<br>Damage=%{x}<br>Taken=%{y}<extra></extra>",
         "legendgroup": "Draven",
         "marker": {
          "color": "#19d3f3",
          "symbol": "circle"
         },
         "mode": "markers",
         "name": "Draven",
         "orientation": "v",
         "showlegend": true,
         "type": "scatter",
         "x": [
          20634.54
         ],
         "xaxis": "x",
         "y": [
          19583.04
         ],
         "yaxis": "y"
        },
        {
         "hovertemplate": "Champ=Ekko<br>Damage=%{x}<br>Taken=%{y}<extra></extra>",
         "legendgroup": "Ekko",
         "marker": {
          "color": "#FF6692",
          "symbol": "circle"
         },
         "mode": "markers",
         "name": "Ekko",
         "orientation": "v",
         "showlegend": true,
         "type": "scatter",
         "x": [
          18975.67
         ],
         "xaxis": "x",
         "y": [
          27603.61
         ],
         "yaxis": "y"
        },
        {
         "hovertemplate": "Champ=Elise<br>Damage=%{x}<br>Taken=%{y}<extra></extra>",
         "legendgroup": "Elise",
         "marker": {
          "color": "#B6E880",
          "symbol": "circle"
         },
         "mode": "markers",
         "name": "Elise",
         "orientation": "v",
         "showlegend": true,
         "type": "scatter",
         "x": [
          17444.47
         ],
         "xaxis": "x",
         "y": [
          26331.59
         ],
         "yaxis": "y"
        },
        {
         "hovertemplate": "Champ=Evelynn<br>Damage=%{x}<br>Taken=%{y}<extra></extra>",
         "legendgroup": "Evelynn",
         "marker": {
          "color": "#FF97FF",
          "symbol": "circle"
         },
         "mode": "markers",
         "name": "Evelynn",
         "orientation": "v",
         "showlegend": true,
         "type": "scatter",
         "x": [
          15811.43
         ],
         "xaxis": "x",
         "y": [
          22238.22
         ],
         "yaxis": "y"
        },
        {
         "hovertemplate": "Champ=Ezreal<br>Damage=%{x}<br>Taken=%{y}<extra></extra>",
         "legendgroup": "Ezreal",
         "marker": {
          "color": "#FECB52",
          "symbol": "circle"
         },
         "mode": "markers",
         "name": "Ezreal",
         "orientation": "v",
         "showlegend": true,
         "type": "scatter",
         "x": [
          23332.35
         ],
         "xaxis": "x",
         "y": [
          19444.35
         ],
         "yaxis": "y"
        },
        {
         "hovertemplate": "Champ=FiddleSticks<br>Damage=%{x}<br>Taken=%{y}<extra></extra>",
         "legendgroup": "FiddleSticks",
         "marker": {
          "color": "#636efa",
          "symbol": "circle"
         },
         "mode": "markers",
         "name": "FiddleSticks",
         "orientation": "v",
         "showlegend": true,
         "type": "scatter",
         "x": [
          16309.72
         ],
         "xaxis": "x",
         "y": [
          26534.5
         ],
         "yaxis": "y"
        },
        {
         "hovertemplate": "Champ=Fiora<br>Damage=%{x}<br>Taken=%{y}<extra></extra>",
         "legendgroup": "Fiora",
         "marker": {
          "color": "#EF553B",
          "symbol": "circle"
         },
         "mode": "markers",
         "name": "Fiora",
         "orientation": "v",
         "showlegend": true,
         "type": "scatter",
         "x": [
          20601.04
         ],
         "xaxis": "x",
         "y": [
          30196.92
         ],
         "yaxis": "y"
        },
        {
         "hovertemplate": "Champ=Fizz<br>Damage=%{x}<br>Taken=%{y}<extra></extra>",
         "legendgroup": "Fizz",
         "marker": {
          "color": "#00cc96",
          "symbol": "circle"
         },
         "mode": "markers",
         "name": "Fizz",
         "orientation": "v",
         "showlegend": true,
         "type": "scatter",
         "x": [
          19664.61
         ],
         "xaxis": "x",
         "y": [
          20728.47
         ],
         "yaxis": "y"
        },
        {
         "hovertemplate": "Champ=Galio<br>Damage=%{x}<br>Taken=%{y}<extra></extra>",
         "legendgroup": "Galio",
         "marker": {
          "color": "#ab63fa",
          "symbol": "circle"
         },
         "mode": "markers",
         "name": "Galio",
         "orientation": "v",
         "showlegend": true,
         "type": "scatter",
         "x": [
          14364.61
         ],
         "xaxis": "x",
         "y": [
          23297.3
         ],
         "yaxis": "y"
        },
        {
         "hovertemplate": "Champ=Gangplank<br>Damage=%{x}<br>Taken=%{y}<extra></extra>",
         "legendgroup": "Gangplank",
         "marker": {
          "color": "#FFA15A",
          "symbol": "circle"
         },
         "mode": "markers",
         "name": "Gangplank",
         "orientation": "v",
         "showlegend": true,
         "type": "scatter",
         "x": [
          22069.57
         ],
         "xaxis": "x",
         "y": [
          25955.9
         ],
         "yaxis": "y"
        },
        {
         "hovertemplate": "Champ=Garen<br>Damage=%{x}<br>Taken=%{y}<extra></extra>",
         "legendgroup": "Garen",
         "marker": {
          "color": "#19d3f3",
          "symbol": "circle"
         },
         "mode": "markers",
         "name": "Garen",
         "orientation": "v",
         "showlegend": true,
         "type": "scatter",
         "x": [
          18450.57
         ],
         "xaxis": "x",
         "y": [
          27076.25
         ],
         "yaxis": "y"
        },
        {
         "hovertemplate": "Champ=Gnar<br>Damage=%{x}<br>Taken=%{y}<extra></extra>",
         "legendgroup": "Gnar",
         "marker": {
          "color": "#FF6692",
          "symbol": "circle"
         },
         "mode": "markers",
         "name": "Gnar",
         "orientation": "v",
         "showlegend": true,
         "type": "scatter",
         "x": [
          21031.26
         ],
         "xaxis": "x",
         "y": [
          28822.42
         ],
         "yaxis": "y"
        },
        {
         "hovertemplate": "Champ=Gragas<br>Damage=%{x}<br>Taken=%{y}<extra></extra>",
         "legendgroup": "Gragas",
         "marker": {
          "color": "#B6E880",
          "symbol": "circle"
         },
         "mode": "markers",
         "name": "Gragas",
         "orientation": "v",
         "showlegend": true,
         "type": "scatter",
         "x": [
          16694.48
         ],
         "xaxis": "x",
         "y": [
          29343.05
         ],
         "yaxis": "y"
        },
        {
         "hovertemplate": "Champ=Graves<br>Damage=%{x}<br>Taken=%{y}<extra></extra>",
         "legendgroup": "Graves",
         "marker": {
          "color": "#FF97FF",
          "symbol": "circle"
         },
         "mode": "markers",
         "name": "Graves",
         "orientation": "v",
         "showlegend": true,
         "type": "scatter",
         "x": [
          18520.8
         ],
         "xaxis": "x",
         "y": [
          23027.71
         ],
         "yaxis": "y"
        },
        {
         "hovertemplate": "Champ=Gwen<br>Damage=%{x}<br>Taken=%{y}<extra></extra>",
         "legendgroup": "Gwen",
         "marker": {
          "color": "#FECB52",
          "symbol": "circle"
         },
         "mode": "markers",
         "name": "Gwen",
         "orientation": "v",
         "showlegend": true,
         "type": "scatter",
         "x": [
          20657.85
         ],
         "xaxis": "x",
         "y": [
          30766.28
         ],
         "yaxis": "y"
        },
        {
         "hovertemplate": "Champ=Hecarim<br>Damage=%{x}<br>Taken=%{y}<extra></extra>",
         "legendgroup": "Hecarim",
         "marker": {
          "color": "#636efa",
          "symbol": "circle"
         },
         "mode": "markers",
         "name": "Hecarim",
         "orientation": "v",
         "showlegend": true,
         "type": "scatter",
         "x": [
          19105.54
         ],
         "xaxis": "x",
         "y": [
          36126.49
         ],
         "yaxis": "y"
        },
        {
         "hovertemplate": "Champ=Heimerdinger<br>Damage=%{x}<br>Taken=%{y}<extra></extra>",
         "legendgroup": "Heimerdinger",
         "marker": {
          "color": "#EF553B",
          "symbol": "circle"
         },
         "mode": "markers",
         "name": "Heimerdinger",
         "orientation": "v",
         "showlegend": true,
         "type": "scatter",
         "x": [
          22237.19
         ],
         "xaxis": "x",
         "y": [
          16043.88
         ],
         "yaxis": "y"
        },
        {
         "hovertemplate": "Champ=Illaoi<br>Damage=%{x}<br>Taken=%{y}<extra></extra>",
         "legendgroup": "Illaoi",
         "marker": {
          "color": "#00cc96",
          "symbol": "circle"
         },
         "mode": "markers",
         "name": "Illaoi",
         "orientation": "v",
         "showlegend": true,
         "type": "scatter",
         "x": [
          20005.62
         ],
         "xaxis": "x",
         "y": [
          30245.48
         ],
         "yaxis": "y"
        },
        {
         "hovertemplate": "Champ=Irelia<br>Damage=%{x}<br>Taken=%{y}<extra></extra>",
         "legendgroup": "Irelia",
         "marker": {
          "color": "#ab63fa",
          "symbol": "circle"
         },
         "mode": "markers",
         "name": "Irelia",
         "orientation": "v",
         "showlegend": true,
         "type": "scatter",
         "x": [
          21718.25
         ],
         "xaxis": "x",
         "y": [
          28831.84
         ],
         "yaxis": "y"
        },
        {
         "hovertemplate": "Champ=Ivern<br>Damage=%{x}<br>Taken=%{y}<extra></extra>",
         "legendgroup": "Ivern",
         "marker": {
          "color": "#FFA15A",
          "symbol": "circle"
         },
         "mode": "markers",
         "name": "Ivern",
         "orientation": "v",
         "showlegend": true,
         "type": "scatter",
         "x": [
          8365.8
         ],
         "xaxis": "x",
         "y": [
          12338.2
         ],
         "yaxis": "y"
        },
        {
         "hovertemplate": "Champ=Janna<br>Damage=%{x}<br>Taken=%{y}<extra></extra>",
         "legendgroup": "Janna",
         "marker": {
          "color": "#19d3f3",
          "symbol": "circle"
         },
         "mode": "markers",
         "name": "Janna",
         "orientation": "v",
         "showlegend": true,
         "type": "scatter",
         "x": [
          5734.9
         ],
         "xaxis": "x",
         "y": [
          13926.45
         ],
         "yaxis": "y"
        },
        {
         "hovertemplate": "Champ=JarvanIV<br>Damage=%{x}<br>Taken=%{y}<extra></extra>",
         "legendgroup": "JarvanIV",
         "marker": {
          "color": "#FF6692",
          "symbol": "circle"
         },
         "mode": "markers",
         "name": "JarvanIV",
         "orientation": "v",
         "showlegend": true,
         "type": "scatter",
         "x": [
          15056.18
         ],
         "xaxis": "x",
         "y": [
          28034.61
         ],
         "yaxis": "y"
        },
        {
         "hovertemplate": "Champ=Jax<br>Damage=%{x}<br>Taken=%{y}<extra></extra>",
         "legendgroup": "Jax",
         "marker": {
          "color": "#B6E880",
          "symbol": "circle"
         },
         "mode": "markers",
         "name": "Jax",
         "orientation": "v",
         "showlegend": true,
         "type": "scatter",
         "x": [
          20925.03
         ],
         "xaxis": "x",
         "y": [
          28800.22
         ],
         "yaxis": "y"
        },
        {
         "hovertemplate": "Champ=Jayce<br>Damage=%{x}<br>Taken=%{y}<extra></extra>",
         "legendgroup": "Jayce",
         "marker": {
          "color": "#FF97FF",
          "symbol": "circle"
         },
         "mode": "markers",
         "name": "Jayce",
         "orientation": "v",
         "showlegend": true,
         "type": "scatter",
         "x": [
          23750.41
         ],
         "xaxis": "x",
         "y": [
          21243.85
         ],
         "yaxis": "y"
        },
        {
         "hovertemplate": "Champ=Jhin<br>Damage=%{x}<br>Taken=%{y}<extra></extra>",
         "legendgroup": "Jhin",
         "marker": {
          "color": "#FECB52",
          "symbol": "circle"
         },
         "mode": "markers",
         "name": "Jhin",
         "orientation": "v",
         "showlegend": true,
         "type": "scatter",
         "x": [
          17957.56
         ],
         "xaxis": "x",
         "y": [
          17966.53
         ],
         "yaxis": "y"
        },
        {
         "hovertemplate": "Champ=Jinx<br>Damage=%{x}<br>Taken=%{y}<extra></extra>",
         "legendgroup": "Jinx",
         "marker": {
          "color": "#636efa",
          "symbol": "circle"
         },
         "mode": "markers",
         "name": "Jinx",
         "orientation": "v",
         "showlegend": true,
         "type": "scatter",
         "x": [
          20570.69
         ],
         "xaxis": "x",
         "y": [
          19563.08
         ],
         "yaxis": "y"
        },
        {
         "hovertemplate": "Champ=Kaisa<br>Damage=%{x}<br>Taken=%{y}<extra></extra>",
         "legendgroup": "Kaisa",
         "marker": {
          "color": "#EF553B",
          "symbol": "circle"
         },
         "mode": "markers",
         "name": "Kaisa",
         "orientation": "v",
         "showlegend": true,
         "type": "scatter",
         "x": [
          20485.34
         ],
         "xaxis": "x",
         "y": [
          19421.33
         ],
         "yaxis": "y"
        },
        {
         "hovertemplate": "Champ=Kalista<br>Damage=%{x}<br>Taken=%{y}<extra></extra>",
         "legendgroup": "Kalista",
         "marker": {
          "color": "#00cc96",
          "symbol": "circle"
         },
         "mode": "markers",
         "name": "Kalista",
         "orientation": "v",
         "showlegend": true,
         "type": "scatter",
         "x": [
          21751.48
         ],
         "xaxis": "x",
         "y": [
          22992.24
         ],
         "yaxis": "y"
        },
        {
         "hovertemplate": "Champ=Karma<br>Damage=%{x}<br>Taken=%{y}<extra></extra>",
         "legendgroup": "Karma",
         "marker": {
          "color": "#ab63fa",
          "symbol": "circle"
         },
         "mode": "markers",
         "name": "Karma",
         "orientation": "v",
         "showlegend": true,
         "type": "scatter",
         "x": [
          10753.85
         ],
         "xaxis": "x",
         "y": [
          17483.36
         ],
         "yaxis": "y"
        },
        {
         "hovertemplate": "Champ=Karthus<br>Damage=%{x}<br>Taken=%{y}<extra></extra>",
         "legendgroup": "Karthus",
         "marker": {
          "color": "#FFA15A",
          "symbol": "circle"
         },
         "mode": "markers",
         "name": "Karthus",
         "orientation": "v",
         "showlegend": true,
         "type": "scatter",
         "x": [
          30480.97
         ],
         "xaxis": "x",
         "y": [
          26787.27
         ],
         "yaxis": "y"
        },
        {
         "hovertemplate": "Champ=Kassadin<br>Damage=%{x}<br>Taken=%{y}<extra></extra>",
         "legendgroup": "Kassadin",
         "marker": {
          "color": "#19d3f3",
          "symbol": "circle"
         },
         "mode": "markers",
         "name": "Kassadin",
         "orientation": "v",
         "showlegend": true,
         "type": "scatter",
         "x": [
          20508.88
         ],
         "xaxis": "x",
         "y": [
          26534.17
         ],
         "yaxis": "y"
        },
        {
         "hovertemplate": "Champ=Katarina<br>Damage=%{x}<br>Taken=%{y}<extra></extra>",
         "legendgroup": "Katarina",
         "marker": {
          "color": "#FF6692",
          "symbol": "circle"
         },
         "mode": "markers",
         "name": "Katarina",
         "orientation": "v",
         "showlegend": true,
         "type": "scatter",
         "x": [
          22650
         ],
         "xaxis": "x",
         "y": [
          23436.32
         ],
         "yaxis": "y"
        },
        {
         "hovertemplate": "Champ=Kayle<br>Damage=%{x}<br>Taken=%{y}<extra></extra>",
         "legendgroup": "Kayle",
         "marker": {
          "color": "#B6E880",
          "symbol": "circle"
         },
         "mode": "markers",
         "name": "Kayle",
         "orientation": "v",
         "showlegend": true,
         "type": "scatter",
         "x": [
          20262.96
         ],
         "xaxis": "x",
         "y": [
          24078.32
         ],
         "yaxis": "y"
        },
        {
         "hovertemplate": "Champ=Kayn<br>Damage=%{x}<br>Taken=%{y}<extra></extra>",
         "legendgroup": "Kayn",
         "marker": {
          "color": "#FF97FF",
          "symbol": "circle"
         },
         "mode": "markers",
         "name": "Kayn",
         "orientation": "v",
         "showlegend": true,
         "type": "scatter",
         "x": [
          20281.58
         ],
         "xaxis": "x",
         "y": [
          33399.14
         ],
         "yaxis": "y"
        },
        {
         "hovertemplate": "Champ=Kennen<br>Damage=%{x}<br>Taken=%{y}<extra></extra>",
         "legendgroup": "Kennen",
         "marker": {
          "color": "#FECB52",
          "symbol": "circle"
         },
         "mode": "markers",
         "name": "Kennen",
         "orientation": "v",
         "showlegend": true,
         "type": "scatter",
         "x": [
          14983.62
         ],
         "xaxis": "x",
         "y": [
          16862.44
         ],
         "yaxis": "y"
        },
        {
         "hovertemplate": "Champ=Khazix<br>Damage=%{x}<br>Taken=%{y}<extra></extra>",
         "legendgroup": "Khazix",
         "marker": {
          "color": "#636efa",
          "symbol": "circle"
         },
         "mode": "markers",
         "name": "Khazix",
         "orientation": "v",
         "showlegend": true,
         "type": "scatter",
         "x": [
          18542.69
         ],
         "xaxis": "x",
         "y": [
          27297.35
         ],
         "yaxis": "y"
        },
        {
         "hovertemplate": "Champ=Kindred<br>Damage=%{x}<br>Taken=%{y}<extra></extra>",
         "legendgroup": "Kindred",
         "marker": {
          "color": "#EF553B",
          "symbol": "circle"
         },
         "mode": "markers",
         "name": "Kindred",
         "orientation": "v",
         "showlegend": true,
         "type": "scatter",
         "x": [
          22513.89
         ],
         "xaxis": "x",
         "y": [
          28710.67
         ],
         "yaxis": "y"
        },
        {
         "hovertemplate": "Champ=Kled<br>Damage=%{x}<br>Taken=%{y}<extra></extra>",
         "legendgroup": "Kled",
         "marker": {
          "color": "#00cc96",
          "symbol": "circle"
         },
         "mode": "markers",
         "name": "Kled",
         "orientation": "v",
         "showlegend": true,
         "type": "scatter",
         "x": [
          23507.81
         ],
         "xaxis": "x",
         "y": [
          37573.75
         ],
         "yaxis": "y"
        },
        {
         "hovertemplate": "Champ=KogMaw<br>Damage=%{x}<br>Taken=%{y}<extra></extra>",
         "legendgroup": "KogMaw",
         "marker": {
          "color": "#ab63fa",
          "symbol": "circle"
         },
         "mode": "markers",
         "name": "KogMaw",
         "orientation": "v",
         "showlegend": true,
         "type": "scatter",
         "x": [
          24573.17
         ],
         "xaxis": "x",
         "y": [
          20942.19
         ],
         "yaxis": "y"
        },
        {
         "hovertemplate": "Champ=Leblanc<br>Damage=%{x}<br>Taken=%{y}<extra></extra>",
         "legendgroup": "Leblanc",
         "marker": {
          "color": "#FFA15A",
          "symbol": "circle"
         },
         "mode": "markers",
         "name": "Leblanc",
         "orientation": "v",
         "showlegend": true,
         "type": "scatter",
         "x": [
          18814.05
         ],
         "xaxis": "x",
         "y": [
          20996.12
         ],
         "yaxis": "y"
        },
        {
         "hovertemplate": "Champ=LeeSin<br>Damage=%{x}<br>Taken=%{y}<extra></extra>",
         "legendgroup": "LeeSin",
         "marker": {
          "color": "#19d3f3",
          "symbol": "circle"
         },
         "mode": "markers",
         "name": "LeeSin",
         "orientation": "v",
         "showlegend": true,
         "type": "scatter",
         "x": [
          16023.09
         ],
         "xaxis": "x",
         "y": [
          29807.27
         ],
         "yaxis": "y"
        },
        {
         "hovertemplate": "Champ=Leona<br>Damage=%{x}<br>Taken=%{y}<extra></extra>",
         "legendgroup": "Leona",
         "marker": {
          "color": "#FF6692",
          "symbol": "circle"
         },
         "mode": "markers",
         "name": "Leona",
         "orientation": "v",
         "showlegend": true,
         "type": "scatter",
         "x": [
          6343.61
         ],
         "xaxis": "x",
         "y": [
          19656.76
         ],
         "yaxis": "y"
        },
        {
         "hovertemplate": "Champ=Lillia<br>Damage=%{x}<br>Taken=%{y}<extra></extra>",
         "legendgroup": "Lillia",
         "marker": {
          "color": "#B6E880",
          "symbol": "circle"
         },
         "mode": "markers",
         "name": "Lillia",
         "orientation": "v",
         "showlegend": true,
         "type": "scatter",
         "x": [
          24242.45
         ],
         "xaxis": "x",
         "y": [
          29933.42
         ],
         "yaxis": "y"
        },
        {
         "hovertemplate": "Champ=Lissandra<br>Damage=%{x}<br>Taken=%{y}<extra></extra>",
         "legendgroup": "Lissandra",
         "marker": {
          "color": "#FF97FF",
          "symbol": "circle"
         },
         "mode": "markers",
         "name": "Lissandra",
         "orientation": "v",
         "showlegend": true,
         "type": "scatter",
         "x": [
          16740.76
         ],
         "xaxis": "x",
         "y": [
          21490.87
         ],
         "yaxis": "y"
        },
        {
         "hovertemplate": "Champ=Lucian<br>Damage=%{x}<br>Taken=%{y}<extra></extra>",
         "legendgroup": "Lucian",
         "marker": {
          "color": "#FECB52",
          "symbol": "circle"
         },
         "mode": "markers",
         "name": "Lucian",
         "orientation": "v",
         "showlegend": true,
         "type": "scatter",
         "x": [
          21908.67
         ],
         "xaxis": "x",
         "y": [
          20839.47
         ],
         "yaxis": "y"
        },
        {
         "hovertemplate": "Champ=Lulu<br>Damage=%{x}<br>Taken=%{y}<extra></extra>",
         "legendgroup": "Lulu",
         "marker": {
          "color": "#636efa",
          "symbol": "circle"
         },
         "mode": "markers",
         "name": "Lulu",
         "orientation": "v",
         "showlegend": true,
         "type": "scatter",
         "x": [
          5273.53
         ],
         "xaxis": "x",
         "y": [
          13981.34
         ],
         "yaxis": "y"
        },
        {
         "hovertemplate": "Champ=Lux<br>Damage=%{x}<br>Taken=%{y}<extra></extra>",
         "legendgroup": "Lux",
         "marker": {
          "color": "#EF553B",
          "symbol": "circle"
         },
         "mode": "markers",
         "name": "Lux",
         "orientation": "v",
         "showlegend": true,
         "type": "scatter",
         "x": [
          16609.54
         ],
         "xaxis": "x",
         "y": [
          14668.36
         ],
         "yaxis": "y"
        },
        {
         "hovertemplate": "Champ=Malphite<br>Damage=%{x}<br>Taken=%{y}<extra></extra>",
         "legendgroup": "Malphite",
         "marker": {
          "color": "#00cc96",
          "symbol": "circle"
         },
         "mode": "markers",
         "name": "Malphite",
         "orientation": "v",
         "showlegend": true,
         "type": "scatter",
         "x": [
          16414.01
         ],
         "xaxis": "x",
         "y": [
          21661.57
         ],
         "yaxis": "y"
        },
        {
         "hovertemplate": "Champ=Malzahar<br>Damage=%{x}<br>Taken=%{y}<extra></extra>",
         "legendgroup": "Malzahar",
         "marker": {
          "color": "#ab63fa",
          "symbol": "circle"
         },
         "mode": "markers",
         "name": "Malzahar",
         "orientation": "v",
         "showlegend": true,
         "type": "scatter",
         "x": [
          23211.67
         ],
         "xaxis": "x",
         "y": [
          18222.78
         ],
         "yaxis": "y"
        },
        {
         "hovertemplate": "Champ=Maokai<br>Damage=%{x}<br>Taken=%{y}<extra></extra>",
         "legendgroup": "Maokai",
         "marker": {
          "color": "#FFA15A",
          "symbol": "circle"
         },
         "mode": "markers",
         "name": "Maokai",
         "orientation": "v",
         "showlegend": true,
         "type": "scatter",
         "x": [
          16183.25
         ],
         "xaxis": "x",
         "y": [
          26575.12
         ],
         "yaxis": "y"
        },
        {
         "hovertemplate": "Champ=MasterYi<br>Damage=%{x}<br>Taken=%{y}<extra></extra>",
         "legendgroup": "MasterYi",
         "marker": {
          "color": "#19d3f3",
          "symbol": "circle"
         },
         "mode": "markers",
         "name": "MasterYi",
         "orientation": "v",
         "showlegend": true,
         "type": "scatter",
         "x": [
          16054.04
         ],
         "xaxis": "x",
         "y": [
          25813.3
         ],
         "yaxis": "y"
        },
        {
         "hovertemplate": "Champ=MissFortune<br>Damage=%{x}<br>Taken=%{y}<extra></extra>",
         "legendgroup": "MissFortune",
         "marker": {
          "color": "#FF6692",
          "symbol": "circle"
         },
         "mode": "markers",
         "name": "MissFortune",
         "orientation": "v",
         "showlegend": true,
         "type": "scatter",
         "x": [
          21655.99
         ],
         "xaxis": "x",
         "y": [
          18025.41
         ],
         "yaxis": "y"
        },
        {
         "hovertemplate": "Champ=MonkeyKing<br>Damage=%{x}<br>Taken=%{y}<extra></extra>",
         "legendgroup": "MonkeyKing",
         "marker": {
          "color": "#B6E880",
          "symbol": "circle"
         },
         "mode": "markers",
         "name": "MonkeyKing",
         "orientation": "v",
         "showlegend": true,
         "type": "scatter",
         "x": [
          16942.35
         ],
         "xaxis": "x",
         "y": [
          27970.62
         ],
         "yaxis": "y"
        },
        {
         "hovertemplate": "Champ=Mordekaiser<br>Damage=%{x}<br>Taken=%{y}<extra></extra>",
         "legendgroup": "Mordekaiser",
         "marker": {
          "color": "#FF97FF",
          "symbol": "circle"
         },
         "mode": "markers",
         "name": "Mordekaiser",
         "orientation": "v",
         "showlegend": true,
         "type": "scatter",
         "x": [
          22086.88
         ],
         "xaxis": "x",
         "y": [
          29278.76
         ],
         "yaxis": "y"
        },
        {
         "hovertemplate": "Champ=Morgana<br>Damage=%{x}<br>Taken=%{y}<extra></extra>",
         "legendgroup": "Morgana",
         "marker": {
          "color": "#FECB52",
          "symbol": "circle"
         },
         "mode": "markers",
         "name": "Morgana",
         "orientation": "v",
         "showlegend": true,
         "type": "scatter",
         "x": [
          13586.24
         ],
         "xaxis": "x",
         "y": [
          18138.42
         ],
         "yaxis": "y"
        },
        {
         "hovertemplate": "Champ=Nami<br>Damage=%{x}<br>Taken=%{y}<extra></extra>",
         "legendgroup": "Nami",
         "marker": {
          "color": "#636efa",
          "symbol": "circle"
         },
         "mode": "markers",
         "name": "Nami",
         "orientation": "v",
         "showlegend": true,
         "type": "scatter",
         "x": [
          8648.95
         ],
         "xaxis": "x",
         "y": [
          14538.33
         ],
         "yaxis": "y"
        },
        {
         "hovertemplate": "Champ=Nasus<br>Damage=%{x}<br>Taken=%{y}<extra></extra>",
         "legendgroup": "Nasus",
         "marker": {
          "color": "#EF553B",
          "symbol": "circle"
         },
         "mode": "markers",
         "name": "Nasus",
         "orientation": "v",
         "showlegend": true,
         "type": "scatter",
         "x": [
          14878.39
         ],
         "xaxis": "x",
         "y": [
          29452.92
         ],
         "yaxis": "y"
        },
        {
         "hovertemplate": "Champ=Nautilus<br>Damage=%{x}<br>Taken=%{y}<extra></extra>",
         "legendgroup": "Nautilus",
         "marker": {
          "color": "#00cc96",
          "symbol": "circle"
         },
         "mode": "markers",
         "name": "Nautilus",
         "orientation": "v",
         "showlegend": true,
         "type": "scatter",
         "x": [
          8016.15
         ],
         "xaxis": "x",
         "y": [
          19136.11
         ],
         "yaxis": "y"
        },
        {
         "hovertemplate": "Champ=Neeko<br>Damage=%{x}<br>Taken=%{y}<extra></extra>",
         "legendgroup": "Neeko",
         "marker": {
          "color": "#ab63fa",
          "symbol": "circle"
         },
         "mode": "markers",
         "name": "Neeko",
         "orientation": "v",
         "showlegend": true,
         "type": "scatter",
         "x": [
          16860.93
         ],
         "xaxis": "x",
         "y": [
          20106.1
         ],
         "yaxis": "y"
        },
        {
         "hovertemplate": "Champ=Nidalee<br>Damage=%{x}<br>Taken=%{y}<extra></extra>",
         "legendgroup": "Nidalee",
         "marker": {
          "color": "#FFA15A",
          "symbol": "circle"
         },
         "mode": "markers",
         "name": "Nidalee",
         "orientation": "v",
         "showlegend": true,
         "type": "scatter",
         "x": [
          20291.89
         ],
         "xaxis": "x",
         "y": [
          28331.04
         ],
         "yaxis": "y"
        },
        {
         "hovertemplate": "Champ=Nocturne<br>Damage=%{x}<br>Taken=%{y}<extra></extra>",
         "legendgroup": "Nocturne",
         "marker": {
          "color": "#19d3f3",
          "symbol": "circle"
         },
         "mode": "markers",
         "name": "Nocturne",
         "orientation": "v",
         "showlegend": true,
         "type": "scatter",
         "x": [
          16412.18
         ],
         "xaxis": "x",
         "y": [
          28342.48
         ],
         "yaxis": "y"
        },
        {
         "hovertemplate": "Champ=Nunu<br>Damage=%{x}<br>Taken=%{y}<extra></extra>",
         "legendgroup": "Nunu",
         "marker": {
          "color": "#FF6692",
          "symbol": "circle"
         },
         "mode": "markers",
         "name": "Nunu",
         "orientation": "v",
         "showlegend": true,
         "type": "scatter",
         "x": [
          13335.97
         ],
         "xaxis": "x",
         "y": [
          32671.84
         ],
         "yaxis": "y"
        },
        {
         "hovertemplate": "Champ=Olaf<br>Damage=%{x}<br>Taken=%{y}<extra></extra>",
         "legendgroup": "Olaf",
         "marker": {
          "color": "#B6E880",
          "symbol": "circle"
         },
         "mode": "markers",
         "name": "Olaf",
         "orientation": "v",
         "showlegend": true,
         "type": "scatter",
         "x": [
          20035.65
         ],
         "xaxis": "x",
         "y": [
          27257.25
         ],
         "yaxis": "y"
        },
        {
         "hovertemplate": "Champ=Orianna<br>Damage=%{x}<br>Taken=%{y}<extra></extra>",
         "legendgroup": "Orianna",
         "marker": {
          "color": "#FF97FF",
          "symbol": "circle"
         },
         "mode": "markers",
         "name": "Orianna",
         "orientation": "v",
         "showlegend": true,
         "type": "scatter",
         "x": [
          19850.98
         ],
         "xaxis": "x",
         "y": [
          16201.24
         ],
         "yaxis": "y"
        },
        {
         "hovertemplate": "Champ=Ornn<br>Damage=%{x}<br>Taken=%{y}<extra></extra>",
         "legendgroup": "Ornn",
         "marker": {
          "color": "#FECB52",
          "symbol": "circle"
         },
         "mode": "markers",
         "name": "Ornn",
         "orientation": "v",
         "showlegend": true,
         "type": "scatter",
         "x": [
          15491.04
         ],
         "xaxis": "x",
         "y": [
          26088.84
         ],
         "yaxis": "y"
        },
        {
         "hovertemplate": "Champ=Pantheon<br>Damage=%{x}<br>Taken=%{y}<extra></extra>",
         "legendgroup": "Pantheon",
         "marker": {
          "color": "#636efa",
          "symbol": "circle"
         },
         "mode": "markers",
         "name": "Pantheon",
         "orientation": "v",
         "showlegend": true,
         "type": "scatter",
         "x": [
          15589.12
         ],
         "xaxis": "x",
         "y": [
          20693.58
         ],
         "yaxis": "y"
        },
        {
         "hovertemplate": "Champ=Poppy<br>Damage=%{x}<br>Taken=%{y}<extra></extra>",
         "legendgroup": "Poppy",
         "marker": {
          "color": "#EF553B",
          "symbol": "circle"
         },
         "mode": "markers",
         "name": "Poppy",
         "orientation": "v",
         "showlegend": true,
         "type": "scatter",
         "x": [
          14663.96
         ],
         "xaxis": "x",
         "y": [
          26416.24
         ],
         "yaxis": "y"
        },
        {
         "hovertemplate": "Champ=Pyke<br>Damage=%{x}<br>Taken=%{y}<extra></extra>",
         "legendgroup": "Pyke",
         "marker": {
          "color": "#00cc96",
          "symbol": "circle"
         },
         "mode": "markers",
         "name": "Pyke",
         "orientation": "v",
         "showlegend": true,
         "type": "scatter",
         "x": [
          9978.11
         ],
         "xaxis": "x",
         "y": [
          18770.41
         ],
         "yaxis": "y"
        },
        {
         "hovertemplate": "Champ=Qiyana<br>Damage=%{x}<br>Taken=%{y}<extra></extra>",
         "legendgroup": "Qiyana",
         "marker": {
          "color": "#ab63fa",
          "symbol": "circle"
         },
         "mode": "markers",
         "name": "Qiyana",
         "orientation": "v",
         "showlegend": true,
         "type": "scatter",
         "x": [
          22073.06
         ],
         "xaxis": "x",
         "y": [
          25396.32
         ],
         "yaxis": "y"
        },
        {
         "hovertemplate": "Champ=Quinn<br>Damage=%{x}<br>Taken=%{y}<extra></extra>",
         "legendgroup": "Quinn",
         "marker": {
          "color": "#FFA15A",
          "symbol": "circle"
         },
         "mode": "markers",
         "name": "Quinn",
         "orientation": "v",
         "showlegend": true,
         "type": "scatter",
         "x": [
          24109.84
         ],
         "xaxis": "x",
         "y": [
          22303.38
         ],
         "yaxis": "y"
        },
        {
         "hovertemplate": "Champ=Rakan<br>Damage=%{x}<br>Taken=%{y}<extra></extra>",
         "legendgroup": "Rakan",
         "marker": {
          "color": "#19d3f3",
          "symbol": "circle"
         },
         "mode": "markers",
         "name": "Rakan",
         "orientation": "v",
         "showlegend": true,
         "type": "scatter",
         "x": [
          6135.12
         ],
         "xaxis": "x",
         "y": [
          14195.5
         ],
         "yaxis": "y"
        },
        {
         "hovertemplate": "Champ=Rammus<br>Damage=%{x}<br>Taken=%{y}<extra></extra>",
         "legendgroup": "Rammus",
         "marker": {
          "color": "#FF6692",
          "symbol": "circle"
         },
         "mode": "markers",
         "name": "Rammus",
         "orientation": "v",
         "showlegend": true,
         "type": "scatter",
         "x": [
          12567.14
         ],
         "xaxis": "x",
         "y": [
          26446.72
         ],
         "yaxis": "y"
        },
        {
         "hovertemplate": "Champ=RekSai<br>Damage=%{x}<br>Taken=%{y}<extra></extra>",
         "legendgroup": "RekSai",
         "marker": {
          "color": "#B6E880",
          "symbol": "circle"
         },
         "mode": "markers",
         "name": "RekSai",
         "orientation": "v",
         "showlegend": true,
         "type": "scatter",
         "x": [
          16228.3
         ],
         "xaxis": "x",
         "y": [
          25576.12
         ],
         "yaxis": "y"
        },
        {
         "hovertemplate": "Champ=Rell<br>Damage=%{x}<br>Taken=%{y}<extra></extra>",
         "legendgroup": "Rell",
         "marker": {
          "color": "#FF97FF",
          "symbol": "circle"
         },
         "mode": "markers",
         "name": "Rell",
         "orientation": "v",
         "showlegend": true,
         "type": "scatter",
         "x": [
          8459
         ],
         "xaxis": "x",
         "y": [
          21903.12
         ],
         "yaxis": "y"
        },
        {
         "hovertemplate": "Champ=Renata<br>Damage=%{x}<br>Taken=%{y}<extra></extra>",
         "legendgroup": "Renata",
         "marker": {
          "color": "#FECB52",
          "symbol": "circle"
         },
         "mode": "markers",
         "name": "Renata",
         "orientation": "v",
         "showlegend": true,
         "type": "scatter",
         "x": [
          8945.88
         ],
         "xaxis": "x",
         "y": [
          18010.9
         ],
         "yaxis": "y"
        },
        {
         "hovertemplate": "Champ=Renekton<br>Damage=%{x}<br>Taken=%{y}<extra></extra>",
         "legendgroup": "Renekton",
         "marker": {
          "color": "#636efa",
          "symbol": "circle"
         },
         "mode": "markers",
         "name": "Renekton",
         "orientation": "v",
         "showlegend": true,
         "type": "scatter",
         "x": [
          18031.23
         ],
         "xaxis": "x",
         "y": [
          30676.29
         ],
         "yaxis": "y"
        },
        {
         "hovertemplate": "Champ=Rengar<br>Damage=%{x}<br>Taken=%{y}<extra></extra>",
         "legendgroup": "Rengar",
         "marker": {
          "color": "#EF553B",
          "symbol": "circle"
         },
         "mode": "markers",
         "name": "Rengar",
         "orientation": "v",
         "showlegend": true,
         "type": "scatter",
         "x": [
          15046.82
         ],
         "xaxis": "x",
         "y": [
          23377.06
         ],
         "yaxis": "y"
        },
        {
         "hovertemplate": "Champ=Riven<br>Damage=%{x}<br>Taken=%{y}<extra></extra>",
         "legendgroup": "Riven",
         "marker": {
          "color": "#00cc96",
          "symbol": "circle"
         },
         "mode": "markers",
         "name": "Riven",
         "orientation": "v",
         "showlegend": true,
         "type": "scatter",
         "x": [
          16136.57
         ],
         "xaxis": "x",
         "y": [
          24817.66
         ],
         "yaxis": "y"
        },
        {
         "hovertemplate": "Champ=Rumble<br>Damage=%{x}<br>Taken=%{y}<extra></extra>",
         "legendgroup": "Rumble",
         "marker": {
          "color": "#ab63fa",
          "symbol": "circle"
         },
         "mode": "markers",
         "name": "Rumble",
         "orientation": "v",
         "showlegend": true,
         "type": "scatter",
         "x": [
          21279.54
         ],
         "xaxis": "x",
         "y": [
          21700.05
         ],
         "yaxis": "y"
        },
        {
         "hovertemplate": "Champ=Ryze<br>Damage=%{x}<br>Taken=%{y}<extra></extra>",
         "legendgroup": "Ryze",
         "marker": {
          "color": "#FFA15A",
          "symbol": "circle"
         },
         "mode": "markers",
         "name": "Ryze",
         "orientation": "v",
         "showlegend": true,
         "type": "scatter",
         "x": [
          18625.54
         ],
         "xaxis": "x",
         "y": [
          24717.39
         ],
         "yaxis": "y"
        },
        {
         "hovertemplate": "Champ=Samira<br>Damage=%{x}<br>Taken=%{y}<extra></extra>",
         "legendgroup": "Samira",
         "marker": {
          "color": "#19d3f3",
          "symbol": "circle"
         },
         "mode": "markers",
         "name": "Samira",
         "orientation": "v",
         "showlegend": true,
         "type": "scatter",
         "x": [
          22928.84
         ],
         "xaxis": "x",
         "y": [
          23111.18
         ],
         "yaxis": "y"
        },
        {
         "hovertemplate": "Champ=Sejuani<br>Damage=%{x}<br>Taken=%{y}<extra></extra>",
         "legendgroup": "Sejuani",
         "marker": {
          "color": "#FF6692",
          "symbol": "circle"
         },
         "mode": "markers",
         "name": "Sejuani",
         "orientation": "v",
         "showlegend": true,
         "type": "scatter",
         "x": [
          16001.22
         ],
         "xaxis": "x",
         "y": [
          29707.91
         ],
         "yaxis": "y"
        },
        {
         "hovertemplate": "Champ=Senna<br>Damage=%{x}<br>Taken=%{y}<extra></extra>",
         "legendgroup": "Senna",
         "marker": {
          "color": "#B6E880",
          "symbol": "circle"
         },
         "mode": "markers",
         "name": "Senna",
         "orientation": "v",
         "showlegend": true,
         "type": "scatter",
         "x": [
          16014.16
         ],
         "xaxis": "x",
         "y": [
          17957.38
         ],
         "yaxis": "y"
        },
        {
         "hovertemplate": "Champ=Seraphine<br>Damage=%{x}<br>Taken=%{y}<extra></extra>",
         "legendgroup": "Seraphine",
         "marker": {
          "color": "#FF97FF",
          "symbol": "circle"
         },
         "mode": "markers",
         "name": "Seraphine",
         "orientation": "v",
         "showlegend": true,
         "type": "scatter",
         "x": [
          12945.53
         ],
         "xaxis": "x",
         "y": [
          18133.71
         ],
         "yaxis": "y"
        },
        {
         "hovertemplate": "Champ=Sett<br>Damage=%{x}<br>Taken=%{y}<extra></extra>",
         "legendgroup": "Sett",
         "marker": {
          "color": "#FECB52",
          "symbol": "circle"
         },
         "mode": "markers",
         "name": "Sett",
         "orientation": "v",
         "showlegend": true,
         "type": "scatter",
         "x": [
          18457.11
         ],
         "xaxis": "x",
         "y": [
          29389.7
         ],
         "yaxis": "y"
        },
        {
         "hovertemplate": "Champ=Shaco<br>Damage=%{x}<br>Taken=%{y}<extra></extra>",
         "legendgroup": "Shaco",
         "marker": {
          "color": "#636efa",
          "symbol": "circle"
         },
         "mode": "markers",
         "name": "Shaco",
         "orientation": "v",
         "showlegend": true,
         "type": "scatter",
         "x": [
          18613.05
         ],
         "xaxis": "x",
         "y": [
          21372.8
         ],
         "yaxis": "y"
        },
        {
         "hovertemplate": "Champ=Shen<br>Damage=%{x}<br>Taken=%{y}<extra></extra>",
         "legendgroup": "Shen",
         "marker": {
          "color": "#EF553B",
          "symbol": "circle"
         },
         "mode": "markers",
         "name": "Shen",
         "orientation": "v",
         "showlegend": true,
         "type": "scatter",
         "x": [
          12035.43
         ],
         "xaxis": "x",
         "y": [
          25383
         ],
         "yaxis": "y"
        },
        {
         "hovertemplate": "Champ=Shyvana<br>Damage=%{x}<br>Taken=%{y}<extra></extra>",
         "legendgroup": "Shyvana",
         "marker": {
          "color": "#00cc96",
          "symbol": "circle"
         },
         "mode": "markers",
         "name": "Shyvana",
         "orientation": "v",
         "showlegend": true,
         "type": "scatter",
         "x": [
          24653.88
         ],
         "xaxis": "x",
         "y": [
          35611.53
         ],
         "yaxis": "y"
        },
        {
         "hovertemplate": "Champ=Singed<br>Damage=%{x}<br>Taken=%{y}<extra></extra>",
         "legendgroup": "Singed",
         "marker": {
          "color": "#ab63fa",
          "symbol": "circle"
         },
         "mode": "markers",
         "name": "Singed",
         "orientation": "v",
         "showlegend": true,
         "type": "scatter",
         "x": [
          15351.82
         ],
         "xaxis": "x",
         "y": [
          28175.41
         ],
         "yaxis": "y"
        },
        {
         "hovertemplate": "Champ=Sion<br>Damage=%{x}<br>Taken=%{y}<extra></extra>",
         "legendgroup": "Sion",
         "marker": {
          "color": "#FFA15A",
          "symbol": "circle"
         },
         "mode": "markers",
         "name": "Sion",
         "orientation": "v",
         "showlegend": true,
         "type": "scatter",
         "x": [
          18066.74
         ],
         "xaxis": "x",
         "y": [
          35154.56
         ],
         "yaxis": "y"
        },
        {
         "hovertemplate": "Champ=Sivir<br>Damage=%{x}<br>Taken=%{y}<extra></extra>",
         "legendgroup": "Sivir",
         "marker": {
          "color": "#19d3f3",
          "symbol": "circle"
         },
         "mode": "markers",
         "name": "Sivir",
         "orientation": "v",
         "showlegend": true,
         "type": "scatter",
         "x": [
          18067.61
         ],
         "xaxis": "x",
         "y": [
          15042.26
         ],
         "yaxis": "y"
        },
        {
         "hovertemplate": "Champ=Skarner<br>Damage=%{x}<br>Taken=%{y}<extra></extra>",
         "legendgroup": "Skarner",
         "marker": {
          "color": "#FF6692",
          "symbol": "circle"
         },
         "mode": "markers",
         "name": "Skarner",
         "orientation": "v",
         "showlegend": true,
         "type": "scatter",
         "x": [
          10927
         ],
         "xaxis": "x",
         "y": [
          24864.78
         ],
         "yaxis": "y"
        },
        {
         "hovertemplate": "Champ=Sona<br>Damage=%{x}<br>Taken=%{y}<extra></extra>",
         "legendgroup": "Sona",
         "marker": {
          "color": "#B6E880",
          "symbol": "circle"
         },
         "mode": "markers",
         "name": "Sona",
         "orientation": "v",
         "showlegend": true,
         "type": "scatter",
         "x": [
          8575.33
         ],
         "xaxis": "x",
         "y": [
          17443.47
         ],
         "yaxis": "y"
        },
        {
         "hovertemplate": "Champ=Soraka<br>Damage=%{x}<br>Taken=%{y}<extra></extra>",
         "legendgroup": "Soraka",
         "marker": {
          "color": "#FF97FF",
          "symbol": "circle"
         },
         "mode": "markers",
         "name": "Soraka",
         "orientation": "v",
         "showlegend": true,
         "type": "scatter",
         "x": [
          5392.8
         ],
         "xaxis": "x",
         "y": [
          13597.09
         ],
         "yaxis": "y"
        },
        {
         "hovertemplate": "Champ=Swain<br>Damage=%{x}<br>Taken=%{y}<extra></extra>",
         "legendgroup": "Swain",
         "marker": {
          "color": "#FECB52",
          "symbol": "circle"
         },
         "mode": "markers",
         "name": "Swain",
         "orientation": "v",
         "showlegend": true,
         "type": "scatter",
         "x": [
          19822.66
         ],
         "xaxis": "x",
         "y": [
          26442.08
         ],
         "yaxis": "y"
        },
        {
         "hovertemplate": "Champ=Sylas<br>Damage=%{x}<br>Taken=%{y}<extra></extra>",
         "legendgroup": "Sylas",
         "marker": {
          "color": "#636efa",
          "symbol": "circle"
         },
         "mode": "markers",
         "name": "Sylas",
         "orientation": "v",
         "showlegend": true,
         "type": "scatter",
         "x": [
          18631.54
         ],
         "xaxis": "x",
         "y": [
          28968.97
         ],
         "yaxis": "y"
        },
        {
         "hovertemplate": "Champ=Syndra<br>Damage=%{x}<br>Taken=%{y}<extra></extra>",
         "legendgroup": "Syndra",
         "marker": {
          "color": "#EF553B",
          "symbol": "circle"
         },
         "mode": "markers",
         "name": "Syndra",
         "orientation": "v",
         "showlegend": true,
         "type": "scatter",
         "x": [
          22657.84
         ],
         "xaxis": "x",
         "y": [
          19255.22
         ],
         "yaxis": "y"
        },
        {
         "hovertemplate": "Champ=TahmKench<br>Damage=%{x}<br>Taken=%{y}<extra></extra>",
         "legendgroup": "TahmKench",
         "marker": {
          "color": "#00cc96",
          "symbol": "circle"
         },
         "mode": "markers",
         "name": "TahmKench",
         "orientation": "v",
         "showlegend": true,
         "type": "scatter",
         "x": [
          13678.11
         ],
         "xaxis": "x",
         "y": [
          27777.35
         ],
         "yaxis": "y"
        },
        {
         "hovertemplate": "Champ=Taliyah<br>Damage=%{x}<br>Taken=%{y}<extra></extra>",
         "legendgroup": "Taliyah",
         "marker": {
          "color": "#ab63fa",
          "symbol": "circle"
         },
         "mode": "markers",
         "name": "Taliyah",
         "orientation": "v",
         "showlegend": true,
         "type": "scatter",
         "x": [
          23186.17
         ],
         "xaxis": "x",
         "y": [
          21507.8
         ],
         "yaxis": "y"
        },
        {
         "hovertemplate": "Champ=Talon<br>Damage=%{x}<br>Taken=%{y}<extra></extra>",
         "legendgroup": "Talon",
         "marker": {
          "color": "#FFA15A",
          "symbol": "circle"
         },
         "mode": "markers",
         "name": "Talon",
         "orientation": "v",
         "showlegend": true,
         "type": "scatter",
         "x": [
          19960.12
         ],
         "xaxis": "x",
         "y": [
          26073.33
         ],
         "yaxis": "y"
        },
        {
         "hovertemplate": "Champ=Taric<br>Damage=%{x}<br>Taken=%{y}<extra></extra>",
         "legendgroup": "Taric",
         "marker": {
          "color": "#19d3f3",
          "symbol": "circle"
         },
         "mode": "markers",
         "name": "Taric",
         "orientation": "v",
         "showlegend": true,
         "type": "scatter",
         "x": [
          4780.88
         ],
         "xaxis": "x",
         "y": [
          20079.72
         ],
         "yaxis": "y"
        },
        {
         "hovertemplate": "Champ=Teemo<br>Damage=%{x}<br>Taken=%{y}<extra></extra>",
         "legendgroup": "Teemo",
         "marker": {
          "color": "#FF6692",
          "symbol": "circle"
         },
         "mode": "markers",
         "name": "Teemo",
         "orientation": "v",
         "showlegend": true,
         "type": "scatter",
         "x": [
          21004.74
         ],
         "xaxis": "x",
         "y": [
          19961.65
         ],
         "yaxis": "y"
        },
        {
         "hovertemplate": "Champ=Thresh<br>Damage=%{x}<br>Taken=%{y}<extra></extra>",
         "legendgroup": "Thresh",
         "marker": {
          "color": "#B6E880",
          "symbol": "circle"
         },
         "mode": "markers",
         "name": "Thresh",
         "orientation": "v",
         "showlegend": true,
         "type": "scatter",
         "x": [
          7210.07
         ],
         "xaxis": "x",
         "y": [
          19870.03
         ],
         "yaxis": "y"
        },
        {
         "hovertemplate": "Champ=Tristana<br>Damage=%{x}<br>Taken=%{y}<extra></extra>",
         "legendgroup": "Tristana",
         "marker": {
          "color": "#FF97FF",
          "symbol": "circle"
         },
         "mode": "markers",
         "name": "Tristana",
         "orientation": "v",
         "showlegend": true,
         "type": "scatter",
         "x": [
          20853.48
         ],
         "xaxis": "x",
         "y": [
          20126.68
         ],
         "yaxis": "y"
        },
        {
         "hovertemplate": "Champ=Trundle<br>Damage=%{x}<br>Taken=%{y}<extra></extra>",
         "legendgroup": "Trundle",
         "marker": {
          "color": "#FECB52",
          "symbol": "circle"
         },
         "mode": "markers",
         "name": "Trundle",
         "orientation": "v",
         "showlegend": true,
         "type": "scatter",
         "x": [
          15691.56
         ],
         "xaxis": "x",
         "y": [
          32767.97
         ],
         "yaxis": "y"
        },
        {
         "hovertemplate": "Champ=Tryndamere<br>Damage=%{x}<br>Taken=%{y}<extra></extra>",
         "legendgroup": "Tryndamere",
         "marker": {
          "color": "#636efa",
          "symbol": "circle"
         },
         "mode": "markers",
         "name": "Tryndamere",
         "orientation": "v",
         "showlegend": true,
         "type": "scatter",
         "x": [
          18850.37
         ],
         "xaxis": "x",
         "y": [
          33315.78
         ],
         "yaxis": "y"
        },
        {
         "hovertemplate": "Champ=TwistedFate<br>Damage=%{x}<br>Taken=%{y}<extra></extra>",
         "legendgroup": "TwistedFate",
         "marker": {
          "color": "#EF553B",
          "symbol": "circle"
         },
         "mode": "markers",
         "name": "TwistedFate",
         "orientation": "v",
         "showlegend": true,
         "type": "scatter",
         "x": [
          16382.31
         ],
         "xaxis": "x",
         "y": [
          22379.33
         ],
         "yaxis": "y"
        },
        {
         "hovertemplate": "Champ=Twitch<br>Damage=%{x}<br>Taken=%{y}<extra></extra>",
         "legendgroup": "Twitch",
         "marker": {
          "color": "#00cc96",
          "symbol": "circle"
         },
         "mode": "markers",
         "name": "Twitch",
         "orientation": "v",
         "showlegend": true,
         "type": "scatter",
         "x": [
          22356.59
         ],
         "xaxis": "x",
         "y": [
          22078.34
         ],
         "yaxis": "y"
        },
        {
         "hovertemplate": "Champ=Udyr<br>Damage=%{x}<br>Taken=%{y}<extra></extra>",
         "legendgroup": "Udyr",
         "marker": {
          "color": "#ab63fa",
          "symbol": "circle"
         },
         "mode": "markers",
         "name": "Udyr",
         "orientation": "v",
         "showlegend": true,
         "type": "scatter",
         "x": [
          14098.29
         ],
         "xaxis": "x",
         "y": [
          33327.76
         ],
         "yaxis": "y"
        },
        {
         "hovertemplate": "Champ=Urgot<br>Damage=%{x}<br>Taken=%{y}<extra></extra>",
         "legendgroup": "Urgot",
         "marker": {
          "color": "#FFA15A",
          "symbol": "circle"
         },
         "mode": "markers",
         "name": "Urgot",
         "orientation": "v",
         "showlegend": true,
         "type": "scatter",
         "x": [
          19222.44
         ],
         "xaxis": "x",
         "y": [
          24993.56
         ],
         "yaxis": "y"
        },
        {
         "hovertemplate": "Champ=Varus<br>Damage=%{x}<br>Taken=%{y}<extra></extra>",
         "legendgroup": "Varus",
         "marker": {
          "color": "#19d3f3",
          "symbol": "circle"
         },
         "mode": "markers",
         "name": "Varus",
         "orientation": "v",
         "showlegend": true,
         "type": "scatter",
         "x": [
          19544.3
         ],
         "xaxis": "x",
         "y": [
          19216.09
         ],
         "yaxis": "y"
        },
        {
         "hovertemplate": "Champ=Vayne<br>Damage=%{x}<br>Taken=%{y}<extra></extra>",
         "legendgroup": "Vayne",
         "marker": {
          "color": "#FF6692",
          "symbol": "circle"
         },
         "mode": "markers",
         "name": "Vayne",
         "orientation": "v",
         "showlegend": true,
         "type": "scatter",
         "x": [
          20248.51
         ],
         "xaxis": "x",
         "y": [
          20563
         ],
         "yaxis": "y"
        },
        {
         "hovertemplate": "Champ=Veigar<br>Damage=%{x}<br>Taken=%{y}<extra></extra>",
         "legendgroup": "Veigar",
         "marker": {
          "color": "#B6E880",
          "symbol": "circle"
         },
         "mode": "markers",
         "name": "Veigar",
         "orientation": "v",
         "showlegend": true,
         "type": "scatter",
         "x": [
          20794.11
         ],
         "xaxis": "x",
         "y": [
          18903.87
         ],
         "yaxis": "y"
        },
        {
         "hovertemplate": "Champ=Velkoz<br>Damage=%{x}<br>Taken=%{y}<extra></extra>",
         "legendgroup": "Velkoz",
         "marker": {
          "color": "#FF97FF",
          "symbol": "circle"
         },
         "mode": "markers",
         "name": "Velkoz",
         "orientation": "v",
         "showlegend": true,
         "type": "scatter",
         "x": [
          18337.05
         ],
         "xaxis": "x",
         "y": [
          14473.58
         ],
         "yaxis": "y"
        },
        {
         "hovertemplate": "Champ=Vex<br>Damage=%{x}<br>Taken=%{y}<extra></extra>",
         "legendgroup": "Vex",
         "marker": {
          "color": "#FECB52",
          "symbol": "circle"
         },
         "mode": "markers",
         "name": "Vex",
         "orientation": "v",
         "showlegend": true,
         "type": "scatter",
         "x": [
          19193.66
         ],
         "xaxis": "x",
         "y": [
          18952.23
         ],
         "yaxis": "y"
        },
        {
         "hovertemplate": "Champ=Vi<br>Damage=%{x}<br>Taken=%{y}<extra></extra>",
         "legendgroup": "Vi",
         "marker": {
          "color": "#636efa",
          "symbol": "circle"
         },
         "mode": "markers",
         "name": "Vi",
         "orientation": "v",
         "showlegend": true,
         "type": "scatter",
         "x": [
          15490.84
         ],
         "xaxis": "x",
         "y": [
          23051.65
         ],
         "yaxis": "y"
        },
        {
         "hovertemplate": "Champ=Viego<br>Damage=%{x}<br>Taken=%{y}<extra></extra>",
         "legendgroup": "Viego",
         "marker": {
          "color": "#EF553B",
          "symbol": "circle"
         },
         "mode": "markers",
         "name": "Viego",
         "orientation": "v",
         "showlegend": true,
         "type": "scatter",
         "x": [
          18272.44
         ],
         "xaxis": "x",
         "y": [
          30670.46
         ],
         "yaxis": "y"
        },
        {
         "hovertemplate": "Champ=Viktor<br>Damage=%{x}<br>Taken=%{y}<extra></extra>",
         "legendgroup": "Viktor",
         "marker": {
          "color": "#00cc96",
          "symbol": "circle"
         },
         "mode": "markers",
         "name": "Viktor",
         "orientation": "v",
         "showlegend": true,
         "type": "scatter",
         "x": [
          25268.33
         ],
         "xaxis": "x",
         "y": [
          19082.86
         ],
         "yaxis": "y"
        },
        {
         "hovertemplate": "Champ=Vladimir<br>Damage=%{x}<br>Taken=%{y}<extra></extra>",
         "legendgroup": "Vladimir",
         "marker": {
          "color": "#ab63fa",
          "symbol": "circle"
         },
         "mode": "markers",
         "name": "Vladimir",
         "orientation": "v",
         "showlegend": true,
         "type": "scatter",
         "x": [
          21275.4
         ],
         "xaxis": "x",
         "y": [
          27686.16
         ],
         "yaxis": "y"
        },
        {
         "hovertemplate": "Champ=Volibear<br>Damage=%{x}<br>Taken=%{y}<extra></extra>",
         "legendgroup": "Volibear",
         "marker": {
          "color": "#FFA15A",
          "symbol": "circle"
         },
         "mode": "markers",
         "name": "Volibear",
         "orientation": "v",
         "showlegend": true,
         "type": "scatter",
         "x": [
          15474.49
         ],
         "xaxis": "x",
         "y": [
          27896.48
         ],
         "yaxis": "y"
        },
        {
         "hovertemplate": "Champ=Warwick<br>Damage=%{x}<br>Taken=%{y}<extra></extra>",
         "legendgroup": "Warwick",
         "marker": {
          "color": "#19d3f3",
          "symbol": "circle"
         },
         "mode": "markers",
         "name": "Warwick",
         "orientation": "v",
         "showlegend": true,
         "type": "scatter",
         "x": [
          16262.3
         ],
         "xaxis": "x",
         "y": [
          33631.92
         ],
         "yaxis": "y"
        },
        {
         "hovertemplate": "Champ=Xayah<br>Damage=%{x}<br>Taken=%{y}<extra></extra>",
         "legendgroup": "Xayah",
         "marker": {
          "color": "#FF6692",
          "symbol": "circle"
         },
         "mode": "markers",
         "name": "Xayah",
         "orientation": "v",
         "showlegend": true,
         "type": "scatter",
         "x": [
          20867.93
         ],
         "xaxis": "x",
         "y": [
          18098.33
         ],
         "yaxis": "y"
        },
        {
         "hovertemplate": "Champ=Xerath<br>Damage=%{x}<br>Taken=%{y}<extra></extra>",
         "legendgroup": "Xerath",
         "marker": {
          "color": "#B6E880",
          "symbol": "circle"
         },
         "mode": "markers",
         "name": "Xerath",
         "orientation": "v",
         "showlegend": true,
         "type": "scatter",
         "x": [
          21669.84
         ],
         "xaxis": "x",
         "y": [
          15464.48
         ],
         "yaxis": "y"
        },
        {
         "hovertemplate": "Champ=XinZhao<br>Damage=%{x}<br>Taken=%{y}<extra></extra>",
         "legendgroup": "XinZhao",
         "marker": {
          "color": "#FF97FF",
          "symbol": "circle"
         },
         "mode": "markers",
         "name": "XinZhao",
         "orientation": "v",
         "showlegend": true,
         "type": "scatter",
         "x": [
          18681.79
         ],
         "xaxis": "x",
         "y": [
          30844.53
         ],
         "yaxis": "y"
        },
        {
         "hovertemplate": "Champ=Yasuo<br>Damage=%{x}<br>Taken=%{y}<extra></extra>",
         "legendgroup": "Yasuo",
         "marker": {
          "color": "#FECB52",
          "symbol": "circle"
         },
         "mode": "markers",
         "name": "Yasuo",
         "orientation": "v",
         "showlegend": true,
         "type": "scatter",
         "x": [
          18125
         ],
         "xaxis": "x",
         "y": [
          22317.41
         ],
         "yaxis": "y"
        },
        {
         "hovertemplate": "Champ=Yone<br>Damage=%{x}<br>Taken=%{y}<extra></extra>",
         "legendgroup": "Yone",
         "marker": {
          "color": "#636efa",
          "symbol": "circle"
         },
         "mode": "markers",
         "name": "Yone",
         "orientation": "v",
         "showlegend": true,
         "type": "scatter",
         "x": [
          20274.53
         ],
         "xaxis": "x",
         "y": [
          23482.04
         ],
         "yaxis": "y"
        },
        {
         "hovertemplate": "Champ=Yorick<br>Damage=%{x}<br>Taken=%{y}<extra></extra>",
         "legendgroup": "Yorick",
         "marker": {
          "color": "#EF553B",
          "symbol": "circle"
         },
         "mode": "markers",
         "name": "Yorick",
         "orientation": "v",
         "showlegend": true,
         "type": "scatter",
         "x": [
          21294.59
         ],
         "xaxis": "x",
         "y": [
          28655.21
         ],
         "yaxis": "y"
        },
        {
         "hovertemplate": "Champ=Yuumi<br>Damage=%{x}<br>Taken=%{y}<extra></extra>",
         "legendgroup": "Yuumi",
         "marker": {
          "color": "#00cc96",
          "symbol": "circle"
         },
         "mode": "markers",
         "name": "Yuumi",
         "orientation": "v",
         "showlegend": true,
         "type": "scatter",
         "x": [
          9154.82
         ],
         "xaxis": "x",
         "y": [
          8705.01
         ],
         "yaxis": "y"
        },
        {
         "hovertemplate": "Champ=Zac<br>Damage=%{x}<br>Taken=%{y}<extra></extra>",
         "legendgroup": "Zac",
         "marker": {
          "color": "#ab63fa",
          "symbol": "circle"
         },
         "mode": "markers",
         "name": "Zac",
         "orientation": "v",
         "showlegend": true,
         "type": "scatter",
         "x": [
          15075.4
         ],
         "xaxis": "x",
         "y": [
          34032.69
         ],
         "yaxis": "y"
        },
        {
         "hovertemplate": "Champ=Zed<br>Damage=%{x}<br>Taken=%{y}<extra></extra>",
         "legendgroup": "Zed",
         "marker": {
          "color": "#FFA15A",
          "symbol": "circle"
         },
         "mode": "markers",
         "name": "Zed",
         "orientation": "v",
         "showlegend": true,
         "type": "scatter",
         "x": [
          21811.29
         ],
         "xaxis": "x",
         "y": [
          20680.91
         ],
         "yaxis": "y"
        },
        {
         "hovertemplate": "Champ=Zeri<br>Damage=%{x}<br>Taken=%{y}<extra></extra>",
         "legendgroup": "Zeri",
         "marker": {
          "color": "#19d3f3",
          "symbol": "circle"
         },
         "mode": "markers",
         "name": "Zeri",
         "orientation": "v",
         "showlegend": true,
         "type": "scatter",
         "x": [
          21744.21
         ],
         "xaxis": "x",
         "y": [
          22696.96
         ],
         "yaxis": "y"
        },
        {
         "hovertemplate": "Champ=Ziggs<br>Damage=%{x}<br>Taken=%{y}<extra></extra>",
         "legendgroup": "Ziggs",
         "marker": {
          "color": "#FF6692",
          "symbol": "circle"
         },
         "mode": "markers",
         "name": "Ziggs",
         "orientation": "v",
         "showlegend": true,
         "type": "scatter",
         "x": [
          26902.3
         ],
         "xaxis": "x",
         "y": [
          17268.79
         ],
         "yaxis": "y"
        },
        {
         "hovertemplate": "Champ=Zilean<br>Damage=%{x}<br>Taken=%{y}<extra></extra>",
         "legendgroup": "Zilean",
         "marker": {
          "color": "#B6E880",
          "symbol": "circle"
         },
         "mode": "markers",
         "name": "Zilean",
         "orientation": "v",
         "showlegend": true,
         "type": "scatter",
         "x": [
          10600.5
         ],
         "xaxis": "x",
         "y": [
          16021.45
         ],
         "yaxis": "y"
        },
        {
         "hovertemplate": "Champ=Zoe<br>Damage=%{x}<br>Taken=%{y}<extra></extra>",
         "legendgroup": "Zoe",
         "marker": {
          "color": "#FF97FF",
          "symbol": "circle"
         },
         "mode": "markers",
         "name": "Zoe",
         "orientation": "v",
         "showlegend": true,
         "type": "scatter",
         "x": [
          19533.24
         ],
         "xaxis": "x",
         "y": [
          17558.56
         ],
         "yaxis": "y"
        },
        {
         "hovertemplate": "Champ=Zyra<br>Damage=%{x}<br>Taken=%{y}<extra></extra>",
         "legendgroup": "Zyra",
         "marker": {
          "color": "#FECB52",
          "symbol": "circle"
         },
         "mode": "markers",
         "name": "Zyra",
         "orientation": "v",
         "showlegend": true,
         "type": "scatter",
         "x": [
          20840.25
         ],
         "xaxis": "x",
         "y": [
          15985.62
         ],
         "yaxis": "y"
        }
       ],
       "layout": {
        "legend": {
         "title": {
          "text": "Champ"
         },
         "tracegroupgap": 0
        },
        "template": {
         "data": {
          "bar": [
           {
            "error_x": {
             "color": "#2a3f5f"
            },
            "error_y": {
             "color": "#2a3f5f"
            },
            "marker": {
             "line": {
              "color": "#E5ECF6",
              "width": 0.5
             },
             "pattern": {
              "fillmode": "overlay",
              "size": 10,
              "solidity": 0.2
             }
            },
            "type": "bar"
           }
          ],
          "barpolar": [
           {
            "marker": {
             "line": {
              "color": "#E5ECF6",
              "width": 0.5
             },
             "pattern": {
              "fillmode": "overlay",
              "size": 10,
              "solidity": 0.2
             }
            },
            "type": "barpolar"
           }
          ],
          "carpet": [
           {
            "aaxis": {
             "endlinecolor": "#2a3f5f",
             "gridcolor": "white",
             "linecolor": "white",
             "minorgridcolor": "white",
             "startlinecolor": "#2a3f5f"
            },
            "baxis": {
             "endlinecolor": "#2a3f5f",
             "gridcolor": "white",
             "linecolor": "white",
             "minorgridcolor": "white",
             "startlinecolor": "#2a3f5f"
            },
            "type": "carpet"
           }
          ],
          "choropleth": [
           {
            "colorbar": {
             "outlinewidth": 0,
             "ticks": ""
            },
            "type": "choropleth"
           }
          ],
          "contour": [
           {
            "colorbar": {
             "outlinewidth": 0,
             "ticks": ""
            },
            "colorscale": [
             [
              0,
              "#0d0887"
             ],
             [
              0.1111111111111111,
              "#46039f"
             ],
             [
              0.2222222222222222,
              "#7201a8"
             ],
             [
              0.3333333333333333,
              "#9c179e"
             ],
             [
              0.4444444444444444,
              "#bd3786"
             ],
             [
              0.5555555555555556,
              "#d8576b"
             ],
             [
              0.6666666666666666,
              "#ed7953"
             ],
             [
              0.7777777777777778,
              "#fb9f3a"
             ],
             [
              0.8888888888888888,
              "#fdca26"
             ],
             [
              1,
              "#f0f921"
             ]
            ],
            "type": "contour"
           }
          ],
          "contourcarpet": [
           {
            "colorbar": {
             "outlinewidth": 0,
             "ticks": ""
            },
            "type": "contourcarpet"
           }
          ],
          "heatmap": [
           {
            "colorbar": {
             "outlinewidth": 0,
             "ticks": ""
            },
            "colorscale": [
             [
              0,
              "#0d0887"
             ],
             [
              0.1111111111111111,
              "#46039f"
             ],
             [
              0.2222222222222222,
              "#7201a8"
             ],
             [
              0.3333333333333333,
              "#9c179e"
             ],
             [
              0.4444444444444444,
              "#bd3786"
             ],
             [
              0.5555555555555556,
              "#d8576b"
             ],
             [
              0.6666666666666666,
              "#ed7953"
             ],
             [
              0.7777777777777778,
              "#fb9f3a"
             ],
             [
              0.8888888888888888,
              "#fdca26"
             ],
             [
              1,
              "#f0f921"
             ]
            ],
            "type": "heatmap"
           }
          ],
          "heatmapgl": [
           {
            "colorbar": {
             "outlinewidth": 0,
             "ticks": ""
            },
            "colorscale": [
             [
              0,
              "#0d0887"
             ],
             [
              0.1111111111111111,
              "#46039f"
             ],
             [
              0.2222222222222222,
              "#7201a8"
             ],
             [
              0.3333333333333333,
              "#9c179e"
             ],
             [
              0.4444444444444444,
              "#bd3786"
             ],
             [
              0.5555555555555556,
              "#d8576b"
             ],
             [
              0.6666666666666666,
              "#ed7953"
             ],
             [
              0.7777777777777778,
              "#fb9f3a"
             ],
             [
              0.8888888888888888,
              "#fdca26"
             ],
             [
              1,
              "#f0f921"
             ]
            ],
            "type": "heatmapgl"
           }
          ],
          "histogram": [
           {
            "marker": {
             "pattern": {
              "fillmode": "overlay",
              "size": 10,
              "solidity": 0.2
             }
            },
            "type": "histogram"
           }
          ],
          "histogram2d": [
           {
            "colorbar": {
             "outlinewidth": 0,
             "ticks": ""
            },
            "colorscale": [
             [
              0,
              "#0d0887"
             ],
             [
              0.1111111111111111,
              "#46039f"
             ],
             [
              0.2222222222222222,
              "#7201a8"
             ],
             [
              0.3333333333333333,
              "#9c179e"
             ],
             [
              0.4444444444444444,
              "#bd3786"
             ],
             [
              0.5555555555555556,
              "#d8576b"
             ],
             [
              0.6666666666666666,
              "#ed7953"
             ],
             [
              0.7777777777777778,
              "#fb9f3a"
             ],
             [
              0.8888888888888888,
              "#fdca26"
             ],
             [
              1,
              "#f0f921"
             ]
            ],
            "type": "histogram2d"
           }
          ],
          "histogram2dcontour": [
           {
            "colorbar": {
             "outlinewidth": 0,
             "ticks": ""
            },
            "colorscale": [
             [
              0,
              "#0d0887"
             ],
             [
              0.1111111111111111,
              "#46039f"
             ],
             [
              0.2222222222222222,
              "#7201a8"
             ],
             [
              0.3333333333333333,
              "#9c179e"
             ],
             [
              0.4444444444444444,
              "#bd3786"
             ],
             [
              0.5555555555555556,
              "#d8576b"
             ],
             [
              0.6666666666666666,
              "#ed7953"
             ],
             [
              0.7777777777777778,
              "#fb9f3a"
             ],
             [
              0.8888888888888888,
              "#fdca26"
             ],
             [
              1,
              "#f0f921"
             ]
            ],
            "type": "histogram2dcontour"
           }
          ],
          "mesh3d": [
           {
            "colorbar": {
             "outlinewidth": 0,
             "ticks": ""
            },
            "type": "mesh3d"
           }
          ],
          "parcoords": [
           {
            "line": {
             "colorbar": {
              "outlinewidth": 0,
              "ticks": ""
             }
            },
            "type": "parcoords"
           }
          ],
          "pie": [
           {
            "automargin": true,
            "type": "pie"
           }
          ],
          "scatter": [
           {
            "marker": {
             "colorbar": {
              "outlinewidth": 0,
              "ticks": ""
             }
            },
            "type": "scatter"
           }
          ],
          "scatter3d": [
           {
            "line": {
             "colorbar": {
              "outlinewidth": 0,
              "ticks": ""
             }
            },
            "marker": {
             "colorbar": {
              "outlinewidth": 0,
              "ticks": ""
             }
            },
            "type": "scatter3d"
           }
          ],
          "scattercarpet": [
           {
            "marker": {
             "colorbar": {
              "outlinewidth": 0,
              "ticks": ""
             }
            },
            "type": "scattercarpet"
           }
          ],
          "scattergeo": [
           {
            "marker": {
             "colorbar": {
              "outlinewidth": 0,
              "ticks": ""
             }
            },
            "type": "scattergeo"
           }
          ],
          "scattergl": [
           {
            "marker": {
             "colorbar": {
              "outlinewidth": 0,
              "ticks": ""
             }
            },
            "type": "scattergl"
           }
          ],
          "scattermapbox": [
           {
            "marker": {
             "colorbar": {
              "outlinewidth": 0,
              "ticks": ""
             }
            },
            "type": "scattermapbox"
           }
          ],
          "scatterpolar": [
           {
            "marker": {
             "colorbar": {
              "outlinewidth": 0,
              "ticks": ""
             }
            },
            "type": "scatterpolar"
           }
          ],
          "scatterpolargl": [
           {
            "marker": {
             "colorbar": {
              "outlinewidth": 0,
              "ticks": ""
             }
            },
            "type": "scatterpolargl"
           }
          ],
          "scatterternary": [
           {
            "marker": {
             "colorbar": {
              "outlinewidth": 0,
              "ticks": ""
             }
            },
            "type": "scatterternary"
           }
          ],
          "surface": [
           {
            "colorbar": {
             "outlinewidth": 0,
             "ticks": ""
            },
            "colorscale": [
             [
              0,
              "#0d0887"
             ],
             [
              0.1111111111111111,
              "#46039f"
             ],
             [
              0.2222222222222222,
              "#7201a8"
             ],
             [
              0.3333333333333333,
              "#9c179e"
             ],
             [
              0.4444444444444444,
              "#bd3786"
             ],
             [
              0.5555555555555556,
              "#d8576b"
             ],
             [
              0.6666666666666666,
              "#ed7953"
             ],
             [
              0.7777777777777778,
              "#fb9f3a"
             ],
             [
              0.8888888888888888,
              "#fdca26"
             ],
             [
              1,
              "#f0f921"
             ]
            ],
            "type": "surface"
           }
          ],
          "table": [
           {
            "cells": {
             "fill": {
              "color": "#EBF0F8"
             },
             "line": {
              "color": "white"
             }
            },
            "header": {
             "fill": {
              "color": "#C8D4E3"
             },
             "line": {
              "color": "white"
             }
            },
            "type": "table"
           }
          ]
         },
         "layout": {
          "annotationdefaults": {
           "arrowcolor": "#2a3f5f",
           "arrowhead": 0,
           "arrowwidth": 1
          },
          "autotypenumbers": "strict",
          "coloraxis": {
           "colorbar": {
            "outlinewidth": 0,
            "ticks": ""
           }
          },
          "colorscale": {
           "diverging": [
            [
             0,
             "#8e0152"
            ],
            [
             0.1,
             "#c51b7d"
            ],
            [
             0.2,
             "#de77ae"
            ],
            [
             0.3,
             "#f1b6da"
            ],
            [
             0.4,
             "#fde0ef"
            ],
            [
             0.5,
             "#f7f7f7"
            ],
            [
             0.6,
             "#e6f5d0"
            ],
            [
             0.7,
             "#b8e186"
            ],
            [
             0.8,
             "#7fbc41"
            ],
            [
             0.9,
             "#4d9221"
            ],
            [
             1,
             "#276419"
            ]
           ],
           "sequential": [
            [
             0,
             "#0d0887"
            ],
            [
             0.1111111111111111,
             "#46039f"
            ],
            [
             0.2222222222222222,
             "#7201a8"
            ],
            [
             0.3333333333333333,
             "#9c179e"
            ],
            [
             0.4444444444444444,
             "#bd3786"
            ],
            [
             0.5555555555555556,
             "#d8576b"
            ],
            [
             0.6666666666666666,
             "#ed7953"
            ],
            [
             0.7777777777777778,
             "#fb9f3a"
            ],
            [
             0.8888888888888888,
             "#fdca26"
            ],
            [
             1,
             "#f0f921"
            ]
           ],
           "sequentialminus": [
            [
             0,
             "#0d0887"
            ],
            [
             0.1111111111111111,
             "#46039f"
            ],
            [
             0.2222222222222222,
             "#7201a8"
            ],
            [
             0.3333333333333333,
             "#9c179e"
            ],
            [
             0.4444444444444444,
             "#bd3786"
            ],
            [
             0.5555555555555556,
             "#d8576b"
            ],
            [
             0.6666666666666666,
             "#ed7953"
            ],
            [
             0.7777777777777778,
             "#fb9f3a"
            ],
            [
             0.8888888888888888,
             "#fdca26"
            ],
            [
             1,
             "#f0f921"
            ]
           ]
          },
          "colorway": [
           "#636efa",
           "#EF553B",
           "#00cc96",
           "#ab63fa",
           "#FFA15A",
           "#19d3f3",
           "#FF6692",
           "#B6E880",
           "#FF97FF",
           "#FECB52"
          ],
          "font": {
           "color": "#2a3f5f"
          },
          "geo": {
           "bgcolor": "white",
           "lakecolor": "white",
           "landcolor": "#E5ECF6",
           "showlakes": true,
           "showland": true,
           "subunitcolor": "white"
          },
          "hoverlabel": {
           "align": "left"
          },
          "hovermode": "closest",
          "mapbox": {
           "style": "light"
          },
          "paper_bgcolor": "white",
          "plot_bgcolor": "#E5ECF6",
          "polar": {
           "angularaxis": {
            "gridcolor": "white",
            "linecolor": "white",
            "ticks": ""
           },
           "bgcolor": "#E5ECF6",
           "radialaxis": {
            "gridcolor": "white",
            "linecolor": "white",
            "ticks": ""
           }
          },
          "scene": {
           "xaxis": {
            "backgroundcolor": "#E5ECF6",
            "gridcolor": "white",
            "gridwidth": 2,
            "linecolor": "white",
            "showbackground": true,
            "ticks": "",
            "zerolinecolor": "white"
           },
           "yaxis": {
            "backgroundcolor": "#E5ECF6",
            "gridcolor": "white",
            "gridwidth": 2,
            "linecolor": "white",
            "showbackground": true,
            "ticks": "",
            "zerolinecolor": "white"
           },
           "zaxis": {
            "backgroundcolor": "#E5ECF6",
            "gridcolor": "white",
            "gridwidth": 2,
            "linecolor": "white",
            "showbackground": true,
            "ticks": "",
            "zerolinecolor": "white"
           }
          },
          "shapedefaults": {
           "line": {
            "color": "#2a3f5f"
           }
          },
          "ternary": {
           "aaxis": {
            "gridcolor": "white",
            "linecolor": "white",
            "ticks": ""
           },
           "baxis": {
            "gridcolor": "white",
            "linecolor": "white",
            "ticks": ""
           },
           "bgcolor": "#E5ECF6",
           "caxis": {
            "gridcolor": "white",
            "linecolor": "white",
            "ticks": ""
           }
          },
          "title": {
           "x": 0.05
          },
          "xaxis": {
           "automargin": true,
           "gridcolor": "white",
           "linecolor": "white",
           "ticks": "",
           "title": {
            "standoff": 15
           },
           "zerolinecolor": "white",
           "zerolinewidth": 2
          },
          "yaxis": {
           "automargin": true,
           "gridcolor": "white",
           "linecolor": "white",
           "ticks": "",
           "title": {
            "standoff": 15
           },
           "zerolinecolor": "white",
           "zerolinewidth": 2
          }
         }
        },
        "title": {
         "text": "권태한_챔피언별 딜량 및 피해량"
        },
        "xaxis": {
         "anchor": "y",
         "domain": [
          0,
          1
         ],
         "title": {
          "text": "Damage"
         }
        },
        "yaxis": {
         "anchor": "x",
         "domain": [
          0,
          1
         ],
         "title": {
          "text": "Taken"
         }
        }
       }
      },
      "text/html": [
       "<div>                            <div id=\"11962c6d-7f22-4cbb-bffc-00beb0c3cbb6\" class=\"plotly-graph-div\" style=\"height:525px; width:100%;\"></div>            <script type=\"text/javascript\">                require([\"plotly\"], function(Plotly) {                    window.PLOTLYENV=window.PLOTLYENV || {};                                    if (document.getElementById(\"11962c6d-7f22-4cbb-bffc-00beb0c3cbb6\")) {                    Plotly.newPlot(                        \"11962c6d-7f22-4cbb-bffc-00beb0c3cbb6\",                        [{\"hovertemplate\":\"Champ=Aatrox<br>Damage=%{x}<br>Taken=%{y}<extra></extra>\",\"legendgroup\":\"Aatrox\",\"marker\":{\"color\":\"#636efa\",\"symbol\":\"circle\"},\"mode\":\"markers\",\"name\":\"Aatrox\",\"orientation\":\"v\",\"showlegend\":true,\"x\":[18081.76],\"xaxis\":\"x\",\"y\":[28542.66],\"yaxis\":\"y\",\"type\":\"scatter\"},{\"hovertemplate\":\"Champ=Ahri<br>Damage=%{x}<br>Taken=%{y}<extra></extra>\",\"legendgroup\":\"Ahri\",\"marker\":{\"color\":\"#EF553B\",\"symbol\":\"circle\"},\"mode\":\"markers\",\"name\":\"Ahri\",\"orientation\":\"v\",\"showlegend\":true,\"x\":[17841.53],\"xaxis\":\"x\",\"y\":[20075.6],\"yaxis\":\"y\",\"type\":\"scatter\"},{\"hovertemplate\":\"Champ=Akali<br>Damage=%{x}<br>Taken=%{y}<extra></extra>\",\"legendgroup\":\"Akali\",\"marker\":{\"color\":\"#00cc96\",\"symbol\":\"circle\"},\"mode\":\"markers\",\"name\":\"Akali\",\"orientation\":\"v\",\"showlegend\":true,\"x\":[21445.22],\"xaxis\":\"x\",\"y\":[26320.37],\"yaxis\":\"y\",\"type\":\"scatter\"},{\"hovertemplate\":\"Champ=Akshan<br>Damage=%{x}<br>Taken=%{y}<extra></extra>\",\"legendgroup\":\"Akshan\",\"marker\":{\"color\":\"#ab63fa\",\"symbol\":\"circle\"},\"mode\":\"markers\",\"name\":\"Akshan\",\"orientation\":\"v\",\"showlegend\":true,\"x\":[17970.51],\"xaxis\":\"x\",\"y\":[18962.41],\"yaxis\":\"y\",\"type\":\"scatter\"},{\"hovertemplate\":\"Champ=Alistar<br>Damage=%{x}<br>Taken=%{y}<extra></extra>\",\"legendgroup\":\"Alistar\",\"marker\":{\"color\":\"#FFA15A\",\"symbol\":\"circle\"},\"mode\":\"markers\",\"name\":\"Alistar\",\"orientation\":\"v\",\"showlegend\":true,\"x\":[7410.66],\"xaxis\":\"x\",\"y\":[23253.59],\"yaxis\":\"y\",\"type\":\"scatter\"},{\"hovertemplate\":\"Champ=Amumu<br>Damage=%{x}<br>Taken=%{y}<extra></extra>\",\"legendgroup\":\"Amumu\",\"marker\":{\"color\":\"#19d3f3\",\"symbol\":\"circle\"},\"mode\":\"markers\",\"name\":\"Amumu\",\"orientation\":\"v\",\"showlegend\":true,\"x\":[13295.77],\"xaxis\":\"x\",\"y\":[24632.05],\"yaxis\":\"y\",\"type\":\"scatter\"},{\"hovertemplate\":\"Champ=Anivia<br>Damage=%{x}<br>Taken=%{y}<extra></extra>\",\"legendgroup\":\"Anivia\",\"marker\":{\"color\":\"#FF6692\",\"symbol\":\"circle\"},\"mode\":\"markers\",\"name\":\"Anivia\",\"orientation\":\"v\",\"showlegend\":true,\"x\":[14107.55],\"xaxis\":\"x\",\"y\":[21334.75],\"yaxis\":\"y\",\"type\":\"scatter\"},{\"hovertemplate\":\"Champ=Annie<br>Damage=%{x}<br>Taken=%{y}<extra></extra>\",\"legendgroup\":\"Annie\",\"marker\":{\"color\":\"#B6E880\",\"symbol\":\"circle\"},\"mode\":\"markers\",\"name\":\"Annie\",\"orientation\":\"v\",\"showlegend\":true,\"x\":[17847.54],\"xaxis\":\"x\",\"y\":[14888.77],\"yaxis\":\"y\",\"type\":\"scatter\"},{\"hovertemplate\":\"Champ=Aphelios<br>Damage=%{x}<br>Taken=%{y}<extra></extra>\",\"legendgroup\":\"Aphelios\",\"marker\":{\"color\":\"#FF97FF\",\"symbol\":\"circle\"},\"mode\":\"markers\",\"name\":\"Aphelios\",\"orientation\":\"v\",\"showlegend\":true,\"x\":[19922.61],\"xaxis\":\"x\",\"y\":[18110.82],\"yaxis\":\"y\",\"type\":\"scatter\"},{\"hovertemplate\":\"Champ=Ashe<br>Damage=%{x}<br>Taken=%{y}<extra></extra>\",\"legendgroup\":\"Ashe\",\"marker\":{\"color\":\"#FECB52\",\"symbol\":\"circle\"},\"mode\":\"markers\",\"name\":\"Ashe\",\"orientation\":\"v\",\"showlegend\":true,\"x\":[16279.1],\"xaxis\":\"x\",\"y\":[17829.75],\"yaxis\":\"y\",\"type\":\"scatter\"},{\"hovertemplate\":\"Champ=AurelionSol<br>Damage=%{x}<br>Taken=%{y}<extra></extra>\",\"legendgroup\":\"AurelionSol\",\"marker\":{\"color\":\"#636efa\",\"symbol\":\"circle\"},\"mode\":\"markers\",\"name\":\"AurelionSol\",\"orientation\":\"v\",\"showlegend\":true,\"x\":[15480.6],\"xaxis\":\"x\",\"y\":[27271.8],\"yaxis\":\"y\",\"type\":\"scatter\"},{\"hovertemplate\":\"Champ=Azir<br>Damage=%{x}<br>Taken=%{y}<extra></extra>\",\"legendgroup\":\"Azir\",\"marker\":{\"color\":\"#EF553B\",\"symbol\":\"circle\"},\"mode\":\"markers\",\"name\":\"Azir\",\"orientation\":\"v\",\"showlegend\":true,\"x\":[19399.39],\"xaxis\":\"x\",\"y\":[18949.43],\"yaxis\":\"y\",\"type\":\"scatter\"},{\"hovertemplate\":\"Champ=Bard<br>Damage=%{x}<br>Taken=%{y}<extra></extra>\",\"legendgroup\":\"Bard\",\"marker\":{\"color\":\"#00cc96\",\"symbol\":\"circle\"},\"mode\":\"markers\",\"name\":\"Bard\",\"orientation\":\"v\",\"showlegend\":true,\"x\":[9029.93],\"xaxis\":\"x\",\"y\":[16883.53],\"yaxis\":\"y\",\"type\":\"scatter\"},{\"hovertemplate\":\"Champ=Belveth<br>Damage=%{x}<br>Taken=%{y}<extra></extra>\",\"legendgroup\":\"Belveth\",\"marker\":{\"color\":\"#ab63fa\",\"symbol\":\"circle\"},\"mode\":\"markers\",\"name\":\"Belveth\",\"orientation\":\"v\",\"showlegend\":true,\"x\":[17253.26],\"xaxis\":\"x\",\"y\":[28726.52],\"yaxis\":\"y\",\"type\":\"scatter\"},{\"hovertemplate\":\"Champ=Blitzcrank<br>Damage=%{x}<br>Taken=%{y}<extra></extra>\",\"legendgroup\":\"Blitzcrank\",\"marker\":{\"color\":\"#FFA15A\",\"symbol\":\"circle\"},\"mode\":\"markers\",\"name\":\"Blitzcrank\",\"orientation\":\"v\",\"showlegend\":true,\"x\":[9094.15],\"xaxis\":\"x\",\"y\":[22132.72],\"yaxis\":\"y\",\"type\":\"scatter\"},{\"hovertemplate\":\"Champ=Brand<br>Damage=%{x}<br>Taken=%{y}<extra></extra>\",\"legendgroup\":\"Brand\",\"marker\":{\"color\":\"#19d3f3\",\"symbol\":\"circle\"},\"mode\":\"markers\",\"name\":\"Brand\",\"orientation\":\"v\",\"showlegend\":true,\"x\":[21936.76],\"xaxis\":\"x\",\"y\":[18910.44],\"yaxis\":\"y\",\"type\":\"scatter\"},{\"hovertemplate\":\"Champ=Braum<br>Damage=%{x}<br>Taken=%{y}<extra></extra>\",\"legendgroup\":\"Braum\",\"marker\":{\"color\":\"#FF6692\",\"symbol\":\"circle\"},\"mode\":\"markers\",\"name\":\"Braum\",\"orientation\":\"v\",\"showlegend\":true,\"x\":[6763.9],\"xaxis\":\"x\",\"y\":[22250.86],\"yaxis\":\"y\",\"type\":\"scatter\"},{\"hovertemplate\":\"Champ=Caitlyn<br>Damage=%{x}<br>Taken=%{y}<extra></extra>\",\"legendgroup\":\"Caitlyn\",\"marker\":{\"color\":\"#B6E880\",\"symbol\":\"circle\"},\"mode\":\"markers\",\"name\":\"Caitlyn\",\"orientation\":\"v\",\"showlegend\":true,\"x\":[18845.12],\"xaxis\":\"x\",\"y\":[18188.39],\"yaxis\":\"y\",\"type\":\"scatter\"},{\"hovertemplate\":\"Champ=Camille<br>Damage=%{x}<br>Taken=%{y}<extra></extra>\",\"legendgroup\":\"Camille\",\"marker\":{\"color\":\"#FF97FF\",\"symbol\":\"circle\"},\"mode\":\"markers\",\"name\":\"Camille\",\"orientation\":\"v\",\"showlegend\":true,\"x\":[17494.37],\"xaxis\":\"x\",\"y\":[25825.82],\"yaxis\":\"y\",\"type\":\"scatter\"},{\"hovertemplate\":\"Champ=Cassiopeia<br>Damage=%{x}<br>Taken=%{y}<extra></extra>\",\"legendgroup\":\"Cassiopeia\",\"marker\":{\"color\":\"#FECB52\",\"symbol\":\"circle\"},\"mode\":\"markers\",\"name\":\"Cassiopeia\",\"orientation\":\"v\",\"showlegend\":true,\"x\":[21327.52],\"xaxis\":\"x\",\"y\":[23222.06],\"yaxis\":\"y\",\"type\":\"scatter\"},{\"hovertemplate\":\"Champ=Chogath<br>Damage=%{x}<br>Taken=%{y}<extra></extra>\",\"legendgroup\":\"Chogath\",\"marker\":{\"color\":\"#636efa\",\"symbol\":\"circle\"},\"mode\":\"markers\",\"name\":\"Chogath\",\"orientation\":\"v\",\"showlegend\":true,\"x\":[19827.89],\"xaxis\":\"x\",\"y\":[38054.0],\"yaxis\":\"y\",\"type\":\"scatter\"},{\"hovertemplate\":\"Champ=Corki<br>Damage=%{x}<br>Taken=%{y}<extra></extra>\",\"legendgroup\":\"Corki\",\"marker\":{\"color\":\"#EF553B\",\"symbol\":\"circle\"},\"mode\":\"markers\",\"name\":\"Corki\",\"orientation\":\"v\",\"showlegend\":true,\"x\":[27855.23],\"xaxis\":\"x\",\"y\":[21706.23],\"yaxis\":\"y\",\"type\":\"scatter\"},{\"hovertemplate\":\"Champ=Darius<br>Damage=%{x}<br>Taken=%{y}<extra></extra>\",\"legendgroup\":\"Darius\",\"marker\":{\"color\":\"#00cc96\",\"symbol\":\"circle\"},\"mode\":\"markers\",\"name\":\"Darius\",\"orientation\":\"v\",\"showlegend\":true,\"x\":[17742.65],\"xaxis\":\"x\",\"y\":[26527.49],\"yaxis\":\"y\",\"type\":\"scatter\"},{\"hovertemplate\":\"Champ=Diana<br>Damage=%{x}<br>Taken=%{y}<extra></extra>\",\"legendgroup\":\"Diana\",\"marker\":{\"color\":\"#ab63fa\",\"symbol\":\"circle\"},\"mode\":\"markers\",\"name\":\"Diana\",\"orientation\":\"v\",\"showlegend\":true,\"x\":[19966.12],\"xaxis\":\"x\",\"y\":[25086.87],\"yaxis\":\"y\",\"type\":\"scatter\"},{\"hovertemplate\":\"Champ=DrMundo<br>Damage=%{x}<br>Taken=%{y}<extra></extra>\",\"legendgroup\":\"DrMundo\",\"marker\":{\"color\":\"#FFA15A\",\"symbol\":\"circle\"},\"mode\":\"markers\",\"name\":\"DrMundo\",\"orientation\":\"v\",\"showlegend\":true,\"x\":[21094.62],\"xaxis\":\"x\",\"y\":[38515.2],\"yaxis\":\"y\",\"type\":\"scatter\"},{\"hovertemplate\":\"Champ=Draven<br>Damage=%{x}<br>Taken=%{y}<extra></extra>\",\"legendgroup\":\"Draven\",\"marker\":{\"color\":\"#19d3f3\",\"symbol\":\"circle\"},\"mode\":\"markers\",\"name\":\"Draven\",\"orientation\":\"v\",\"showlegend\":true,\"x\":[20634.54],\"xaxis\":\"x\",\"y\":[19583.04],\"yaxis\":\"y\",\"type\":\"scatter\"},{\"hovertemplate\":\"Champ=Ekko<br>Damage=%{x}<br>Taken=%{y}<extra></extra>\",\"legendgroup\":\"Ekko\",\"marker\":{\"color\":\"#FF6692\",\"symbol\":\"circle\"},\"mode\":\"markers\",\"name\":\"Ekko\",\"orientation\":\"v\",\"showlegend\":true,\"x\":[18975.67],\"xaxis\":\"x\",\"y\":[27603.61],\"yaxis\":\"y\",\"type\":\"scatter\"},{\"hovertemplate\":\"Champ=Elise<br>Damage=%{x}<br>Taken=%{y}<extra></extra>\",\"legendgroup\":\"Elise\",\"marker\":{\"color\":\"#B6E880\",\"symbol\":\"circle\"},\"mode\":\"markers\",\"name\":\"Elise\",\"orientation\":\"v\",\"showlegend\":true,\"x\":[17444.47],\"xaxis\":\"x\",\"y\":[26331.59],\"yaxis\":\"y\",\"type\":\"scatter\"},{\"hovertemplate\":\"Champ=Evelynn<br>Damage=%{x}<br>Taken=%{y}<extra></extra>\",\"legendgroup\":\"Evelynn\",\"marker\":{\"color\":\"#FF97FF\",\"symbol\":\"circle\"},\"mode\":\"markers\",\"name\":\"Evelynn\",\"orientation\":\"v\",\"showlegend\":true,\"x\":[15811.43],\"xaxis\":\"x\",\"y\":[22238.22],\"yaxis\":\"y\",\"type\":\"scatter\"},{\"hovertemplate\":\"Champ=Ezreal<br>Damage=%{x}<br>Taken=%{y}<extra></extra>\",\"legendgroup\":\"Ezreal\",\"marker\":{\"color\":\"#FECB52\",\"symbol\":\"circle\"},\"mode\":\"markers\",\"name\":\"Ezreal\",\"orientation\":\"v\",\"showlegend\":true,\"x\":[23332.35],\"xaxis\":\"x\",\"y\":[19444.35],\"yaxis\":\"y\",\"type\":\"scatter\"},{\"hovertemplate\":\"Champ=FiddleSticks<br>Damage=%{x}<br>Taken=%{y}<extra></extra>\",\"legendgroup\":\"FiddleSticks\",\"marker\":{\"color\":\"#636efa\",\"symbol\":\"circle\"},\"mode\":\"markers\",\"name\":\"FiddleSticks\",\"orientation\":\"v\",\"showlegend\":true,\"x\":[16309.72],\"xaxis\":\"x\",\"y\":[26534.5],\"yaxis\":\"y\",\"type\":\"scatter\"},{\"hovertemplate\":\"Champ=Fiora<br>Damage=%{x}<br>Taken=%{y}<extra></extra>\",\"legendgroup\":\"Fiora\",\"marker\":{\"color\":\"#EF553B\",\"symbol\":\"circle\"},\"mode\":\"markers\",\"name\":\"Fiora\",\"orientation\":\"v\",\"showlegend\":true,\"x\":[20601.04],\"xaxis\":\"x\",\"y\":[30196.92],\"yaxis\":\"y\",\"type\":\"scatter\"},{\"hovertemplate\":\"Champ=Fizz<br>Damage=%{x}<br>Taken=%{y}<extra></extra>\",\"legendgroup\":\"Fizz\",\"marker\":{\"color\":\"#00cc96\",\"symbol\":\"circle\"},\"mode\":\"markers\",\"name\":\"Fizz\",\"orientation\":\"v\",\"showlegend\":true,\"x\":[19664.61],\"xaxis\":\"x\",\"y\":[20728.47],\"yaxis\":\"y\",\"type\":\"scatter\"},{\"hovertemplate\":\"Champ=Galio<br>Damage=%{x}<br>Taken=%{y}<extra></extra>\",\"legendgroup\":\"Galio\",\"marker\":{\"color\":\"#ab63fa\",\"symbol\":\"circle\"},\"mode\":\"markers\",\"name\":\"Galio\",\"orientation\":\"v\",\"showlegend\":true,\"x\":[14364.61],\"xaxis\":\"x\",\"y\":[23297.3],\"yaxis\":\"y\",\"type\":\"scatter\"},{\"hovertemplate\":\"Champ=Gangplank<br>Damage=%{x}<br>Taken=%{y}<extra></extra>\",\"legendgroup\":\"Gangplank\",\"marker\":{\"color\":\"#FFA15A\",\"symbol\":\"circle\"},\"mode\":\"markers\",\"name\":\"Gangplank\",\"orientation\":\"v\",\"showlegend\":true,\"x\":[22069.57],\"xaxis\":\"x\",\"y\":[25955.9],\"yaxis\":\"y\",\"type\":\"scatter\"},{\"hovertemplate\":\"Champ=Garen<br>Damage=%{x}<br>Taken=%{y}<extra></extra>\",\"legendgroup\":\"Garen\",\"marker\":{\"color\":\"#19d3f3\",\"symbol\":\"circle\"},\"mode\":\"markers\",\"name\":\"Garen\",\"orientation\":\"v\",\"showlegend\":true,\"x\":[18450.57],\"xaxis\":\"x\",\"y\":[27076.25],\"yaxis\":\"y\",\"type\":\"scatter\"},{\"hovertemplate\":\"Champ=Gnar<br>Damage=%{x}<br>Taken=%{y}<extra></extra>\",\"legendgroup\":\"Gnar\",\"marker\":{\"color\":\"#FF6692\",\"symbol\":\"circle\"},\"mode\":\"markers\",\"name\":\"Gnar\",\"orientation\":\"v\",\"showlegend\":true,\"x\":[21031.26],\"xaxis\":\"x\",\"y\":[28822.42],\"yaxis\":\"y\",\"type\":\"scatter\"},{\"hovertemplate\":\"Champ=Gragas<br>Damage=%{x}<br>Taken=%{y}<extra></extra>\",\"legendgroup\":\"Gragas\",\"marker\":{\"color\":\"#B6E880\",\"symbol\":\"circle\"},\"mode\":\"markers\",\"name\":\"Gragas\",\"orientation\":\"v\",\"showlegend\":true,\"x\":[16694.48],\"xaxis\":\"x\",\"y\":[29343.05],\"yaxis\":\"y\",\"type\":\"scatter\"},{\"hovertemplate\":\"Champ=Graves<br>Damage=%{x}<br>Taken=%{y}<extra></extra>\",\"legendgroup\":\"Graves\",\"marker\":{\"color\":\"#FF97FF\",\"symbol\":\"circle\"},\"mode\":\"markers\",\"name\":\"Graves\",\"orientation\":\"v\",\"showlegend\":true,\"x\":[18520.8],\"xaxis\":\"x\",\"y\":[23027.71],\"yaxis\":\"y\",\"type\":\"scatter\"},{\"hovertemplate\":\"Champ=Gwen<br>Damage=%{x}<br>Taken=%{y}<extra></extra>\",\"legendgroup\":\"Gwen\",\"marker\":{\"color\":\"#FECB52\",\"symbol\":\"circle\"},\"mode\":\"markers\",\"name\":\"Gwen\",\"orientation\":\"v\",\"showlegend\":true,\"x\":[20657.85],\"xaxis\":\"x\",\"y\":[30766.28],\"yaxis\":\"y\",\"type\":\"scatter\"},{\"hovertemplate\":\"Champ=Hecarim<br>Damage=%{x}<br>Taken=%{y}<extra></extra>\",\"legendgroup\":\"Hecarim\",\"marker\":{\"color\":\"#636efa\",\"symbol\":\"circle\"},\"mode\":\"markers\",\"name\":\"Hecarim\",\"orientation\":\"v\",\"showlegend\":true,\"x\":[19105.54],\"xaxis\":\"x\",\"y\":[36126.49],\"yaxis\":\"y\",\"type\":\"scatter\"},{\"hovertemplate\":\"Champ=Heimerdinger<br>Damage=%{x}<br>Taken=%{y}<extra></extra>\",\"legendgroup\":\"Heimerdinger\",\"marker\":{\"color\":\"#EF553B\",\"symbol\":\"circle\"},\"mode\":\"markers\",\"name\":\"Heimerdinger\",\"orientation\":\"v\",\"showlegend\":true,\"x\":[22237.19],\"xaxis\":\"x\",\"y\":[16043.88],\"yaxis\":\"y\",\"type\":\"scatter\"},{\"hovertemplate\":\"Champ=Illaoi<br>Damage=%{x}<br>Taken=%{y}<extra></extra>\",\"legendgroup\":\"Illaoi\",\"marker\":{\"color\":\"#00cc96\",\"symbol\":\"circle\"},\"mode\":\"markers\",\"name\":\"Illaoi\",\"orientation\":\"v\",\"showlegend\":true,\"x\":[20005.62],\"xaxis\":\"x\",\"y\":[30245.48],\"yaxis\":\"y\",\"type\":\"scatter\"},{\"hovertemplate\":\"Champ=Irelia<br>Damage=%{x}<br>Taken=%{y}<extra></extra>\",\"legendgroup\":\"Irelia\",\"marker\":{\"color\":\"#ab63fa\",\"symbol\":\"circle\"},\"mode\":\"markers\",\"name\":\"Irelia\",\"orientation\":\"v\",\"showlegend\":true,\"x\":[21718.25],\"xaxis\":\"x\",\"y\":[28831.84],\"yaxis\":\"y\",\"type\":\"scatter\"},{\"hovertemplate\":\"Champ=Ivern<br>Damage=%{x}<br>Taken=%{y}<extra></extra>\",\"legendgroup\":\"Ivern\",\"marker\":{\"color\":\"#FFA15A\",\"symbol\":\"circle\"},\"mode\":\"markers\",\"name\":\"Ivern\",\"orientation\":\"v\",\"showlegend\":true,\"x\":[8365.8],\"xaxis\":\"x\",\"y\":[12338.2],\"yaxis\":\"y\",\"type\":\"scatter\"},{\"hovertemplate\":\"Champ=Janna<br>Damage=%{x}<br>Taken=%{y}<extra></extra>\",\"legendgroup\":\"Janna\",\"marker\":{\"color\":\"#19d3f3\",\"symbol\":\"circle\"},\"mode\":\"markers\",\"name\":\"Janna\",\"orientation\":\"v\",\"showlegend\":true,\"x\":[5734.9],\"xaxis\":\"x\",\"y\":[13926.45],\"yaxis\":\"y\",\"type\":\"scatter\"},{\"hovertemplate\":\"Champ=JarvanIV<br>Damage=%{x}<br>Taken=%{y}<extra></extra>\",\"legendgroup\":\"JarvanIV\",\"marker\":{\"color\":\"#FF6692\",\"symbol\":\"circle\"},\"mode\":\"markers\",\"name\":\"JarvanIV\",\"orientation\":\"v\",\"showlegend\":true,\"x\":[15056.18],\"xaxis\":\"x\",\"y\":[28034.61],\"yaxis\":\"y\",\"type\":\"scatter\"},{\"hovertemplate\":\"Champ=Jax<br>Damage=%{x}<br>Taken=%{y}<extra></extra>\",\"legendgroup\":\"Jax\",\"marker\":{\"color\":\"#B6E880\",\"symbol\":\"circle\"},\"mode\":\"markers\",\"name\":\"Jax\",\"orientation\":\"v\",\"showlegend\":true,\"x\":[20925.03],\"xaxis\":\"x\",\"y\":[28800.22],\"yaxis\":\"y\",\"type\":\"scatter\"},{\"hovertemplate\":\"Champ=Jayce<br>Damage=%{x}<br>Taken=%{y}<extra></extra>\",\"legendgroup\":\"Jayce\",\"marker\":{\"color\":\"#FF97FF\",\"symbol\":\"circle\"},\"mode\":\"markers\",\"name\":\"Jayce\",\"orientation\":\"v\",\"showlegend\":true,\"x\":[23750.41],\"xaxis\":\"x\",\"y\":[21243.85],\"yaxis\":\"y\",\"type\":\"scatter\"},{\"hovertemplate\":\"Champ=Jhin<br>Damage=%{x}<br>Taken=%{y}<extra></extra>\",\"legendgroup\":\"Jhin\",\"marker\":{\"color\":\"#FECB52\",\"symbol\":\"circle\"},\"mode\":\"markers\",\"name\":\"Jhin\",\"orientation\":\"v\",\"showlegend\":true,\"x\":[17957.56],\"xaxis\":\"x\",\"y\":[17966.53],\"yaxis\":\"y\",\"type\":\"scatter\"},{\"hovertemplate\":\"Champ=Jinx<br>Damage=%{x}<br>Taken=%{y}<extra></extra>\",\"legendgroup\":\"Jinx\",\"marker\":{\"color\":\"#636efa\",\"symbol\":\"circle\"},\"mode\":\"markers\",\"name\":\"Jinx\",\"orientation\":\"v\",\"showlegend\":true,\"x\":[20570.69],\"xaxis\":\"x\",\"y\":[19563.08],\"yaxis\":\"y\",\"type\":\"scatter\"},{\"hovertemplate\":\"Champ=Kaisa<br>Damage=%{x}<br>Taken=%{y}<extra></extra>\",\"legendgroup\":\"Kaisa\",\"marker\":{\"color\":\"#EF553B\",\"symbol\":\"circle\"},\"mode\":\"markers\",\"name\":\"Kaisa\",\"orientation\":\"v\",\"showlegend\":true,\"x\":[20485.34],\"xaxis\":\"x\",\"y\":[19421.33],\"yaxis\":\"y\",\"type\":\"scatter\"},{\"hovertemplate\":\"Champ=Kalista<br>Damage=%{x}<br>Taken=%{y}<extra></extra>\",\"legendgroup\":\"Kalista\",\"marker\":{\"color\":\"#00cc96\",\"symbol\":\"circle\"},\"mode\":\"markers\",\"name\":\"Kalista\",\"orientation\":\"v\",\"showlegend\":true,\"x\":[21751.48],\"xaxis\":\"x\",\"y\":[22992.24],\"yaxis\":\"y\",\"type\":\"scatter\"},{\"hovertemplate\":\"Champ=Karma<br>Damage=%{x}<br>Taken=%{y}<extra></extra>\",\"legendgroup\":\"Karma\",\"marker\":{\"color\":\"#ab63fa\",\"symbol\":\"circle\"},\"mode\":\"markers\",\"name\":\"Karma\",\"orientation\":\"v\",\"showlegend\":true,\"x\":[10753.85],\"xaxis\":\"x\",\"y\":[17483.36],\"yaxis\":\"y\",\"type\":\"scatter\"},{\"hovertemplate\":\"Champ=Karthus<br>Damage=%{x}<br>Taken=%{y}<extra></extra>\",\"legendgroup\":\"Karthus\",\"marker\":{\"color\":\"#FFA15A\",\"symbol\":\"circle\"},\"mode\":\"markers\",\"name\":\"Karthus\",\"orientation\":\"v\",\"showlegend\":true,\"x\":[30480.97],\"xaxis\":\"x\",\"y\":[26787.27],\"yaxis\":\"y\",\"type\":\"scatter\"},{\"hovertemplate\":\"Champ=Kassadin<br>Damage=%{x}<br>Taken=%{y}<extra></extra>\",\"legendgroup\":\"Kassadin\",\"marker\":{\"color\":\"#19d3f3\",\"symbol\":\"circle\"},\"mode\":\"markers\",\"name\":\"Kassadin\",\"orientation\":\"v\",\"showlegend\":true,\"x\":[20508.88],\"xaxis\":\"x\",\"y\":[26534.17],\"yaxis\":\"y\",\"type\":\"scatter\"},{\"hovertemplate\":\"Champ=Katarina<br>Damage=%{x}<br>Taken=%{y}<extra></extra>\",\"legendgroup\":\"Katarina\",\"marker\":{\"color\":\"#FF6692\",\"symbol\":\"circle\"},\"mode\":\"markers\",\"name\":\"Katarina\",\"orientation\":\"v\",\"showlegend\":true,\"x\":[22650.0],\"xaxis\":\"x\",\"y\":[23436.32],\"yaxis\":\"y\",\"type\":\"scatter\"},{\"hovertemplate\":\"Champ=Kayle<br>Damage=%{x}<br>Taken=%{y}<extra></extra>\",\"legendgroup\":\"Kayle\",\"marker\":{\"color\":\"#B6E880\",\"symbol\":\"circle\"},\"mode\":\"markers\",\"name\":\"Kayle\",\"orientation\":\"v\",\"showlegend\":true,\"x\":[20262.96],\"xaxis\":\"x\",\"y\":[24078.32],\"yaxis\":\"y\",\"type\":\"scatter\"},{\"hovertemplate\":\"Champ=Kayn<br>Damage=%{x}<br>Taken=%{y}<extra></extra>\",\"legendgroup\":\"Kayn\",\"marker\":{\"color\":\"#FF97FF\",\"symbol\":\"circle\"},\"mode\":\"markers\",\"name\":\"Kayn\",\"orientation\":\"v\",\"showlegend\":true,\"x\":[20281.58],\"xaxis\":\"x\",\"y\":[33399.14],\"yaxis\":\"y\",\"type\":\"scatter\"},{\"hovertemplate\":\"Champ=Kennen<br>Damage=%{x}<br>Taken=%{y}<extra></extra>\",\"legendgroup\":\"Kennen\",\"marker\":{\"color\":\"#FECB52\",\"symbol\":\"circle\"},\"mode\":\"markers\",\"name\":\"Kennen\",\"orientation\":\"v\",\"showlegend\":true,\"x\":[14983.62],\"xaxis\":\"x\",\"y\":[16862.44],\"yaxis\":\"y\",\"type\":\"scatter\"},{\"hovertemplate\":\"Champ=Khazix<br>Damage=%{x}<br>Taken=%{y}<extra></extra>\",\"legendgroup\":\"Khazix\",\"marker\":{\"color\":\"#636efa\",\"symbol\":\"circle\"},\"mode\":\"markers\",\"name\":\"Khazix\",\"orientation\":\"v\",\"showlegend\":true,\"x\":[18542.69],\"xaxis\":\"x\",\"y\":[27297.35],\"yaxis\":\"y\",\"type\":\"scatter\"},{\"hovertemplate\":\"Champ=Kindred<br>Damage=%{x}<br>Taken=%{y}<extra></extra>\",\"legendgroup\":\"Kindred\",\"marker\":{\"color\":\"#EF553B\",\"symbol\":\"circle\"},\"mode\":\"markers\",\"name\":\"Kindred\",\"orientation\":\"v\",\"showlegend\":true,\"x\":[22513.89],\"xaxis\":\"x\",\"y\":[28710.67],\"yaxis\":\"y\",\"type\":\"scatter\"},{\"hovertemplate\":\"Champ=Kled<br>Damage=%{x}<br>Taken=%{y}<extra></extra>\",\"legendgroup\":\"Kled\",\"marker\":{\"color\":\"#00cc96\",\"symbol\":\"circle\"},\"mode\":\"markers\",\"name\":\"Kled\",\"orientation\":\"v\",\"showlegend\":true,\"x\":[23507.81],\"xaxis\":\"x\",\"y\":[37573.75],\"yaxis\":\"y\",\"type\":\"scatter\"},{\"hovertemplate\":\"Champ=KogMaw<br>Damage=%{x}<br>Taken=%{y}<extra></extra>\",\"legendgroup\":\"KogMaw\",\"marker\":{\"color\":\"#ab63fa\",\"symbol\":\"circle\"},\"mode\":\"markers\",\"name\":\"KogMaw\",\"orientation\":\"v\",\"showlegend\":true,\"x\":[24573.17],\"xaxis\":\"x\",\"y\":[20942.19],\"yaxis\":\"y\",\"type\":\"scatter\"},{\"hovertemplate\":\"Champ=Leblanc<br>Damage=%{x}<br>Taken=%{y}<extra></extra>\",\"legendgroup\":\"Leblanc\",\"marker\":{\"color\":\"#FFA15A\",\"symbol\":\"circle\"},\"mode\":\"markers\",\"name\":\"Leblanc\",\"orientation\":\"v\",\"showlegend\":true,\"x\":[18814.05],\"xaxis\":\"x\",\"y\":[20996.12],\"yaxis\":\"y\",\"type\":\"scatter\"},{\"hovertemplate\":\"Champ=LeeSin<br>Damage=%{x}<br>Taken=%{y}<extra></extra>\",\"legendgroup\":\"LeeSin\",\"marker\":{\"color\":\"#19d3f3\",\"symbol\":\"circle\"},\"mode\":\"markers\",\"name\":\"LeeSin\",\"orientation\":\"v\",\"showlegend\":true,\"x\":[16023.09],\"xaxis\":\"x\",\"y\":[29807.27],\"yaxis\":\"y\",\"type\":\"scatter\"},{\"hovertemplate\":\"Champ=Leona<br>Damage=%{x}<br>Taken=%{y}<extra></extra>\",\"legendgroup\":\"Leona\",\"marker\":{\"color\":\"#FF6692\",\"symbol\":\"circle\"},\"mode\":\"markers\",\"name\":\"Leona\",\"orientation\":\"v\",\"showlegend\":true,\"x\":[6343.61],\"xaxis\":\"x\",\"y\":[19656.76],\"yaxis\":\"y\",\"type\":\"scatter\"},{\"hovertemplate\":\"Champ=Lillia<br>Damage=%{x}<br>Taken=%{y}<extra></extra>\",\"legendgroup\":\"Lillia\",\"marker\":{\"color\":\"#B6E880\",\"symbol\":\"circle\"},\"mode\":\"markers\",\"name\":\"Lillia\",\"orientation\":\"v\",\"showlegend\":true,\"x\":[24242.45],\"xaxis\":\"x\",\"y\":[29933.42],\"yaxis\":\"y\",\"type\":\"scatter\"},{\"hovertemplate\":\"Champ=Lissandra<br>Damage=%{x}<br>Taken=%{y}<extra></extra>\",\"legendgroup\":\"Lissandra\",\"marker\":{\"color\":\"#FF97FF\",\"symbol\":\"circle\"},\"mode\":\"markers\",\"name\":\"Lissandra\",\"orientation\":\"v\",\"showlegend\":true,\"x\":[16740.76],\"xaxis\":\"x\",\"y\":[21490.87],\"yaxis\":\"y\",\"type\":\"scatter\"},{\"hovertemplate\":\"Champ=Lucian<br>Damage=%{x}<br>Taken=%{y}<extra></extra>\",\"legendgroup\":\"Lucian\",\"marker\":{\"color\":\"#FECB52\",\"symbol\":\"circle\"},\"mode\":\"markers\",\"name\":\"Lucian\",\"orientation\":\"v\",\"showlegend\":true,\"x\":[21908.67],\"xaxis\":\"x\",\"y\":[20839.47],\"yaxis\":\"y\",\"type\":\"scatter\"},{\"hovertemplate\":\"Champ=Lulu<br>Damage=%{x}<br>Taken=%{y}<extra></extra>\",\"legendgroup\":\"Lulu\",\"marker\":{\"color\":\"#636efa\",\"symbol\":\"circle\"},\"mode\":\"markers\",\"name\":\"Lulu\",\"orientation\":\"v\",\"showlegend\":true,\"x\":[5273.53],\"xaxis\":\"x\",\"y\":[13981.34],\"yaxis\":\"y\",\"type\":\"scatter\"},{\"hovertemplate\":\"Champ=Lux<br>Damage=%{x}<br>Taken=%{y}<extra></extra>\",\"legendgroup\":\"Lux\",\"marker\":{\"color\":\"#EF553B\",\"symbol\":\"circle\"},\"mode\":\"markers\",\"name\":\"Lux\",\"orientation\":\"v\",\"showlegend\":true,\"x\":[16609.54],\"xaxis\":\"x\",\"y\":[14668.36],\"yaxis\":\"y\",\"type\":\"scatter\"},{\"hovertemplate\":\"Champ=Malphite<br>Damage=%{x}<br>Taken=%{y}<extra></extra>\",\"legendgroup\":\"Malphite\",\"marker\":{\"color\":\"#00cc96\",\"symbol\":\"circle\"},\"mode\":\"markers\",\"name\":\"Malphite\",\"orientation\":\"v\",\"showlegend\":true,\"x\":[16414.01],\"xaxis\":\"x\",\"y\":[21661.57],\"yaxis\":\"y\",\"type\":\"scatter\"},{\"hovertemplate\":\"Champ=Malzahar<br>Damage=%{x}<br>Taken=%{y}<extra></extra>\",\"legendgroup\":\"Malzahar\",\"marker\":{\"color\":\"#ab63fa\",\"symbol\":\"circle\"},\"mode\":\"markers\",\"name\":\"Malzahar\",\"orientation\":\"v\",\"showlegend\":true,\"x\":[23211.67],\"xaxis\":\"x\",\"y\":[18222.78],\"yaxis\":\"y\",\"type\":\"scatter\"},{\"hovertemplate\":\"Champ=Maokai<br>Damage=%{x}<br>Taken=%{y}<extra></extra>\",\"legendgroup\":\"Maokai\",\"marker\":{\"color\":\"#FFA15A\",\"symbol\":\"circle\"},\"mode\":\"markers\",\"name\":\"Maokai\",\"orientation\":\"v\",\"showlegend\":true,\"x\":[16183.25],\"xaxis\":\"x\",\"y\":[26575.12],\"yaxis\":\"y\",\"type\":\"scatter\"},{\"hovertemplate\":\"Champ=MasterYi<br>Damage=%{x}<br>Taken=%{y}<extra></extra>\",\"legendgroup\":\"MasterYi\",\"marker\":{\"color\":\"#19d3f3\",\"symbol\":\"circle\"},\"mode\":\"markers\",\"name\":\"MasterYi\",\"orientation\":\"v\",\"showlegend\":true,\"x\":[16054.04],\"xaxis\":\"x\",\"y\":[25813.3],\"yaxis\":\"y\",\"type\":\"scatter\"},{\"hovertemplate\":\"Champ=MissFortune<br>Damage=%{x}<br>Taken=%{y}<extra></extra>\",\"legendgroup\":\"MissFortune\",\"marker\":{\"color\":\"#FF6692\",\"symbol\":\"circle\"},\"mode\":\"markers\",\"name\":\"MissFortune\",\"orientation\":\"v\",\"showlegend\":true,\"x\":[21655.99],\"xaxis\":\"x\",\"y\":[18025.41],\"yaxis\":\"y\",\"type\":\"scatter\"},{\"hovertemplate\":\"Champ=MonkeyKing<br>Damage=%{x}<br>Taken=%{y}<extra></extra>\",\"legendgroup\":\"MonkeyKing\",\"marker\":{\"color\":\"#B6E880\",\"symbol\":\"circle\"},\"mode\":\"markers\",\"name\":\"MonkeyKing\",\"orientation\":\"v\",\"showlegend\":true,\"x\":[16942.35],\"xaxis\":\"x\",\"y\":[27970.62],\"yaxis\":\"y\",\"type\":\"scatter\"},{\"hovertemplate\":\"Champ=Mordekaiser<br>Damage=%{x}<br>Taken=%{y}<extra></extra>\",\"legendgroup\":\"Mordekaiser\",\"marker\":{\"color\":\"#FF97FF\",\"symbol\":\"circle\"},\"mode\":\"markers\",\"name\":\"Mordekaiser\",\"orientation\":\"v\",\"showlegend\":true,\"x\":[22086.88],\"xaxis\":\"x\",\"y\":[29278.76],\"yaxis\":\"y\",\"type\":\"scatter\"},{\"hovertemplate\":\"Champ=Morgana<br>Damage=%{x}<br>Taken=%{y}<extra></extra>\",\"legendgroup\":\"Morgana\",\"marker\":{\"color\":\"#FECB52\",\"symbol\":\"circle\"},\"mode\":\"markers\",\"name\":\"Morgana\",\"orientation\":\"v\",\"showlegend\":true,\"x\":[13586.24],\"xaxis\":\"x\",\"y\":[18138.42],\"yaxis\":\"y\",\"type\":\"scatter\"},{\"hovertemplate\":\"Champ=Nami<br>Damage=%{x}<br>Taken=%{y}<extra></extra>\",\"legendgroup\":\"Nami\",\"marker\":{\"color\":\"#636efa\",\"symbol\":\"circle\"},\"mode\":\"markers\",\"name\":\"Nami\",\"orientation\":\"v\",\"showlegend\":true,\"x\":[8648.95],\"xaxis\":\"x\",\"y\":[14538.33],\"yaxis\":\"y\",\"type\":\"scatter\"},{\"hovertemplate\":\"Champ=Nasus<br>Damage=%{x}<br>Taken=%{y}<extra></extra>\",\"legendgroup\":\"Nasus\",\"marker\":{\"color\":\"#EF553B\",\"symbol\":\"circle\"},\"mode\":\"markers\",\"name\":\"Nasus\",\"orientation\":\"v\",\"showlegend\":true,\"x\":[14878.39],\"xaxis\":\"x\",\"y\":[29452.92],\"yaxis\":\"y\",\"type\":\"scatter\"},{\"hovertemplate\":\"Champ=Nautilus<br>Damage=%{x}<br>Taken=%{y}<extra></extra>\",\"legendgroup\":\"Nautilus\",\"marker\":{\"color\":\"#00cc96\",\"symbol\":\"circle\"},\"mode\":\"markers\",\"name\":\"Nautilus\",\"orientation\":\"v\",\"showlegend\":true,\"x\":[8016.15],\"xaxis\":\"x\",\"y\":[19136.11],\"yaxis\":\"y\",\"type\":\"scatter\"},{\"hovertemplate\":\"Champ=Neeko<br>Damage=%{x}<br>Taken=%{y}<extra></extra>\",\"legendgroup\":\"Neeko\",\"marker\":{\"color\":\"#ab63fa\",\"symbol\":\"circle\"},\"mode\":\"markers\",\"name\":\"Neeko\",\"orientation\":\"v\",\"showlegend\":true,\"x\":[16860.93],\"xaxis\":\"x\",\"y\":[20106.1],\"yaxis\":\"y\",\"type\":\"scatter\"},{\"hovertemplate\":\"Champ=Nidalee<br>Damage=%{x}<br>Taken=%{y}<extra></extra>\",\"legendgroup\":\"Nidalee\",\"marker\":{\"color\":\"#FFA15A\",\"symbol\":\"circle\"},\"mode\":\"markers\",\"name\":\"Nidalee\",\"orientation\":\"v\",\"showlegend\":true,\"x\":[20291.89],\"xaxis\":\"x\",\"y\":[28331.04],\"yaxis\":\"y\",\"type\":\"scatter\"},{\"hovertemplate\":\"Champ=Nocturne<br>Damage=%{x}<br>Taken=%{y}<extra></extra>\",\"legendgroup\":\"Nocturne\",\"marker\":{\"color\":\"#19d3f3\",\"symbol\":\"circle\"},\"mode\":\"markers\",\"name\":\"Nocturne\",\"orientation\":\"v\",\"showlegend\":true,\"x\":[16412.18],\"xaxis\":\"x\",\"y\":[28342.48],\"yaxis\":\"y\",\"type\":\"scatter\"},{\"hovertemplate\":\"Champ=Nunu<br>Damage=%{x}<br>Taken=%{y}<extra></extra>\",\"legendgroup\":\"Nunu\",\"marker\":{\"color\":\"#FF6692\",\"symbol\":\"circle\"},\"mode\":\"markers\",\"name\":\"Nunu\",\"orientation\":\"v\",\"showlegend\":true,\"x\":[13335.97],\"xaxis\":\"x\",\"y\":[32671.84],\"yaxis\":\"y\",\"type\":\"scatter\"},{\"hovertemplate\":\"Champ=Olaf<br>Damage=%{x}<br>Taken=%{y}<extra></extra>\",\"legendgroup\":\"Olaf\",\"marker\":{\"color\":\"#B6E880\",\"symbol\":\"circle\"},\"mode\":\"markers\",\"name\":\"Olaf\",\"orientation\":\"v\",\"showlegend\":true,\"x\":[20035.65],\"xaxis\":\"x\",\"y\":[27257.25],\"yaxis\":\"y\",\"type\":\"scatter\"},{\"hovertemplate\":\"Champ=Orianna<br>Damage=%{x}<br>Taken=%{y}<extra></extra>\",\"legendgroup\":\"Orianna\",\"marker\":{\"color\":\"#FF97FF\",\"symbol\":\"circle\"},\"mode\":\"markers\",\"name\":\"Orianna\",\"orientation\":\"v\",\"showlegend\":true,\"x\":[19850.98],\"xaxis\":\"x\",\"y\":[16201.24],\"yaxis\":\"y\",\"type\":\"scatter\"},{\"hovertemplate\":\"Champ=Ornn<br>Damage=%{x}<br>Taken=%{y}<extra></extra>\",\"legendgroup\":\"Ornn\",\"marker\":{\"color\":\"#FECB52\",\"symbol\":\"circle\"},\"mode\":\"markers\",\"name\":\"Ornn\",\"orientation\":\"v\",\"showlegend\":true,\"x\":[15491.04],\"xaxis\":\"x\",\"y\":[26088.84],\"yaxis\":\"y\",\"type\":\"scatter\"},{\"hovertemplate\":\"Champ=Pantheon<br>Damage=%{x}<br>Taken=%{y}<extra></extra>\",\"legendgroup\":\"Pantheon\",\"marker\":{\"color\":\"#636efa\",\"symbol\":\"circle\"},\"mode\":\"markers\",\"name\":\"Pantheon\",\"orientation\":\"v\",\"showlegend\":true,\"x\":[15589.12],\"xaxis\":\"x\",\"y\":[20693.58],\"yaxis\":\"y\",\"type\":\"scatter\"},{\"hovertemplate\":\"Champ=Poppy<br>Damage=%{x}<br>Taken=%{y}<extra></extra>\",\"legendgroup\":\"Poppy\",\"marker\":{\"color\":\"#EF553B\",\"symbol\":\"circle\"},\"mode\":\"markers\",\"name\":\"Poppy\",\"orientation\":\"v\",\"showlegend\":true,\"x\":[14663.96],\"xaxis\":\"x\",\"y\":[26416.24],\"yaxis\":\"y\",\"type\":\"scatter\"},{\"hovertemplate\":\"Champ=Pyke<br>Damage=%{x}<br>Taken=%{y}<extra></extra>\",\"legendgroup\":\"Pyke\",\"marker\":{\"color\":\"#00cc96\",\"symbol\":\"circle\"},\"mode\":\"markers\",\"name\":\"Pyke\",\"orientation\":\"v\",\"showlegend\":true,\"x\":[9978.11],\"xaxis\":\"x\",\"y\":[18770.41],\"yaxis\":\"y\",\"type\":\"scatter\"},{\"hovertemplate\":\"Champ=Qiyana<br>Damage=%{x}<br>Taken=%{y}<extra></extra>\",\"legendgroup\":\"Qiyana\",\"marker\":{\"color\":\"#ab63fa\",\"symbol\":\"circle\"},\"mode\":\"markers\",\"name\":\"Qiyana\",\"orientation\":\"v\",\"showlegend\":true,\"x\":[22073.06],\"xaxis\":\"x\",\"y\":[25396.32],\"yaxis\":\"y\",\"type\":\"scatter\"},{\"hovertemplate\":\"Champ=Quinn<br>Damage=%{x}<br>Taken=%{y}<extra></extra>\",\"legendgroup\":\"Quinn\",\"marker\":{\"color\":\"#FFA15A\",\"symbol\":\"circle\"},\"mode\":\"markers\",\"name\":\"Quinn\",\"orientation\":\"v\",\"showlegend\":true,\"x\":[24109.84],\"xaxis\":\"x\",\"y\":[22303.38],\"yaxis\":\"y\",\"type\":\"scatter\"},{\"hovertemplate\":\"Champ=Rakan<br>Damage=%{x}<br>Taken=%{y}<extra></extra>\",\"legendgroup\":\"Rakan\",\"marker\":{\"color\":\"#19d3f3\",\"symbol\":\"circle\"},\"mode\":\"markers\",\"name\":\"Rakan\",\"orientation\":\"v\",\"showlegend\":true,\"x\":[6135.12],\"xaxis\":\"x\",\"y\":[14195.5],\"yaxis\":\"y\",\"type\":\"scatter\"},{\"hovertemplate\":\"Champ=Rammus<br>Damage=%{x}<br>Taken=%{y}<extra></extra>\",\"legendgroup\":\"Rammus\",\"marker\":{\"color\":\"#FF6692\",\"symbol\":\"circle\"},\"mode\":\"markers\",\"name\":\"Rammus\",\"orientation\":\"v\",\"showlegend\":true,\"x\":[12567.14],\"xaxis\":\"x\",\"y\":[26446.72],\"yaxis\":\"y\",\"type\":\"scatter\"},{\"hovertemplate\":\"Champ=RekSai<br>Damage=%{x}<br>Taken=%{y}<extra></extra>\",\"legendgroup\":\"RekSai\",\"marker\":{\"color\":\"#B6E880\",\"symbol\":\"circle\"},\"mode\":\"markers\",\"name\":\"RekSai\",\"orientation\":\"v\",\"showlegend\":true,\"x\":[16228.3],\"xaxis\":\"x\",\"y\":[25576.12],\"yaxis\":\"y\",\"type\":\"scatter\"},{\"hovertemplate\":\"Champ=Rell<br>Damage=%{x}<br>Taken=%{y}<extra></extra>\",\"legendgroup\":\"Rell\",\"marker\":{\"color\":\"#FF97FF\",\"symbol\":\"circle\"},\"mode\":\"markers\",\"name\":\"Rell\",\"orientation\":\"v\",\"showlegend\":true,\"x\":[8459.0],\"xaxis\":\"x\",\"y\":[21903.12],\"yaxis\":\"y\",\"type\":\"scatter\"},{\"hovertemplate\":\"Champ=Renata<br>Damage=%{x}<br>Taken=%{y}<extra></extra>\",\"legendgroup\":\"Renata\",\"marker\":{\"color\":\"#FECB52\",\"symbol\":\"circle\"},\"mode\":\"markers\",\"name\":\"Renata\",\"orientation\":\"v\",\"showlegend\":true,\"x\":[8945.88],\"xaxis\":\"x\",\"y\":[18010.9],\"yaxis\":\"y\",\"type\":\"scatter\"},{\"hovertemplate\":\"Champ=Renekton<br>Damage=%{x}<br>Taken=%{y}<extra></extra>\",\"legendgroup\":\"Renekton\",\"marker\":{\"color\":\"#636efa\",\"symbol\":\"circle\"},\"mode\":\"markers\",\"name\":\"Renekton\",\"orientation\":\"v\",\"showlegend\":true,\"x\":[18031.23],\"xaxis\":\"x\",\"y\":[30676.29],\"yaxis\":\"y\",\"type\":\"scatter\"},{\"hovertemplate\":\"Champ=Rengar<br>Damage=%{x}<br>Taken=%{y}<extra></extra>\",\"legendgroup\":\"Rengar\",\"marker\":{\"color\":\"#EF553B\",\"symbol\":\"circle\"},\"mode\":\"markers\",\"name\":\"Rengar\",\"orientation\":\"v\",\"showlegend\":true,\"x\":[15046.82],\"xaxis\":\"x\",\"y\":[23377.06],\"yaxis\":\"y\",\"type\":\"scatter\"},{\"hovertemplate\":\"Champ=Riven<br>Damage=%{x}<br>Taken=%{y}<extra></extra>\",\"legendgroup\":\"Riven\",\"marker\":{\"color\":\"#00cc96\",\"symbol\":\"circle\"},\"mode\":\"markers\",\"name\":\"Riven\",\"orientation\":\"v\",\"showlegend\":true,\"x\":[16136.57],\"xaxis\":\"x\",\"y\":[24817.66],\"yaxis\":\"y\",\"type\":\"scatter\"},{\"hovertemplate\":\"Champ=Rumble<br>Damage=%{x}<br>Taken=%{y}<extra></extra>\",\"legendgroup\":\"Rumble\",\"marker\":{\"color\":\"#ab63fa\",\"symbol\":\"circle\"},\"mode\":\"markers\",\"name\":\"Rumble\",\"orientation\":\"v\",\"showlegend\":true,\"x\":[21279.54],\"xaxis\":\"x\",\"y\":[21700.05],\"yaxis\":\"y\",\"type\":\"scatter\"},{\"hovertemplate\":\"Champ=Ryze<br>Damage=%{x}<br>Taken=%{y}<extra></extra>\",\"legendgroup\":\"Ryze\",\"marker\":{\"color\":\"#FFA15A\",\"symbol\":\"circle\"},\"mode\":\"markers\",\"name\":\"Ryze\",\"orientation\":\"v\",\"showlegend\":true,\"x\":[18625.54],\"xaxis\":\"x\",\"y\":[24717.39],\"yaxis\":\"y\",\"type\":\"scatter\"},{\"hovertemplate\":\"Champ=Samira<br>Damage=%{x}<br>Taken=%{y}<extra></extra>\",\"legendgroup\":\"Samira\",\"marker\":{\"color\":\"#19d3f3\",\"symbol\":\"circle\"},\"mode\":\"markers\",\"name\":\"Samira\",\"orientation\":\"v\",\"showlegend\":true,\"x\":[22928.84],\"xaxis\":\"x\",\"y\":[23111.18],\"yaxis\":\"y\",\"type\":\"scatter\"},{\"hovertemplate\":\"Champ=Sejuani<br>Damage=%{x}<br>Taken=%{y}<extra></extra>\",\"legendgroup\":\"Sejuani\",\"marker\":{\"color\":\"#FF6692\",\"symbol\":\"circle\"},\"mode\":\"markers\",\"name\":\"Sejuani\",\"orientation\":\"v\",\"showlegend\":true,\"x\":[16001.22],\"xaxis\":\"x\",\"y\":[29707.91],\"yaxis\":\"y\",\"type\":\"scatter\"},{\"hovertemplate\":\"Champ=Senna<br>Damage=%{x}<br>Taken=%{y}<extra></extra>\",\"legendgroup\":\"Senna\",\"marker\":{\"color\":\"#B6E880\",\"symbol\":\"circle\"},\"mode\":\"markers\",\"name\":\"Senna\",\"orientation\":\"v\",\"showlegend\":true,\"x\":[16014.16],\"xaxis\":\"x\",\"y\":[17957.38],\"yaxis\":\"y\",\"type\":\"scatter\"},{\"hovertemplate\":\"Champ=Seraphine<br>Damage=%{x}<br>Taken=%{y}<extra></extra>\",\"legendgroup\":\"Seraphine\",\"marker\":{\"color\":\"#FF97FF\",\"symbol\":\"circle\"},\"mode\":\"markers\",\"name\":\"Seraphine\",\"orientation\":\"v\",\"showlegend\":true,\"x\":[12945.53],\"xaxis\":\"x\",\"y\":[18133.71],\"yaxis\":\"y\",\"type\":\"scatter\"},{\"hovertemplate\":\"Champ=Sett<br>Damage=%{x}<br>Taken=%{y}<extra></extra>\",\"legendgroup\":\"Sett\",\"marker\":{\"color\":\"#FECB52\",\"symbol\":\"circle\"},\"mode\":\"markers\",\"name\":\"Sett\",\"orientation\":\"v\",\"showlegend\":true,\"x\":[18457.11],\"xaxis\":\"x\",\"y\":[29389.7],\"yaxis\":\"y\",\"type\":\"scatter\"},{\"hovertemplate\":\"Champ=Shaco<br>Damage=%{x}<br>Taken=%{y}<extra></extra>\",\"legendgroup\":\"Shaco\",\"marker\":{\"color\":\"#636efa\",\"symbol\":\"circle\"},\"mode\":\"markers\",\"name\":\"Shaco\",\"orientation\":\"v\",\"showlegend\":true,\"x\":[18613.05],\"xaxis\":\"x\",\"y\":[21372.8],\"yaxis\":\"y\",\"type\":\"scatter\"},{\"hovertemplate\":\"Champ=Shen<br>Damage=%{x}<br>Taken=%{y}<extra></extra>\",\"legendgroup\":\"Shen\",\"marker\":{\"color\":\"#EF553B\",\"symbol\":\"circle\"},\"mode\":\"markers\",\"name\":\"Shen\",\"orientation\":\"v\",\"showlegend\":true,\"x\":[12035.43],\"xaxis\":\"x\",\"y\":[25383.0],\"yaxis\":\"y\",\"type\":\"scatter\"},{\"hovertemplate\":\"Champ=Shyvana<br>Damage=%{x}<br>Taken=%{y}<extra></extra>\",\"legendgroup\":\"Shyvana\",\"marker\":{\"color\":\"#00cc96\",\"symbol\":\"circle\"},\"mode\":\"markers\",\"name\":\"Shyvana\",\"orientation\":\"v\",\"showlegend\":true,\"x\":[24653.88],\"xaxis\":\"x\",\"y\":[35611.53],\"yaxis\":\"y\",\"type\":\"scatter\"},{\"hovertemplate\":\"Champ=Singed<br>Damage=%{x}<br>Taken=%{y}<extra></extra>\",\"legendgroup\":\"Singed\",\"marker\":{\"color\":\"#ab63fa\",\"symbol\":\"circle\"},\"mode\":\"markers\",\"name\":\"Singed\",\"orientation\":\"v\",\"showlegend\":true,\"x\":[15351.82],\"xaxis\":\"x\",\"y\":[28175.41],\"yaxis\":\"y\",\"type\":\"scatter\"},{\"hovertemplate\":\"Champ=Sion<br>Damage=%{x}<br>Taken=%{y}<extra></extra>\",\"legendgroup\":\"Sion\",\"marker\":{\"color\":\"#FFA15A\",\"symbol\":\"circle\"},\"mode\":\"markers\",\"name\":\"Sion\",\"orientation\":\"v\",\"showlegend\":true,\"x\":[18066.74],\"xaxis\":\"x\",\"y\":[35154.56],\"yaxis\":\"y\",\"type\":\"scatter\"},{\"hovertemplate\":\"Champ=Sivir<br>Damage=%{x}<br>Taken=%{y}<extra></extra>\",\"legendgroup\":\"Sivir\",\"marker\":{\"color\":\"#19d3f3\",\"symbol\":\"circle\"},\"mode\":\"markers\",\"name\":\"Sivir\",\"orientation\":\"v\",\"showlegend\":true,\"x\":[18067.61],\"xaxis\":\"x\",\"y\":[15042.26],\"yaxis\":\"y\",\"type\":\"scatter\"},{\"hovertemplate\":\"Champ=Skarner<br>Damage=%{x}<br>Taken=%{y}<extra></extra>\",\"legendgroup\":\"Skarner\",\"marker\":{\"color\":\"#FF6692\",\"symbol\":\"circle\"},\"mode\":\"markers\",\"name\":\"Skarner\",\"orientation\":\"v\",\"showlegend\":true,\"x\":[10927.0],\"xaxis\":\"x\",\"y\":[24864.78],\"yaxis\":\"y\",\"type\":\"scatter\"},{\"hovertemplate\":\"Champ=Sona<br>Damage=%{x}<br>Taken=%{y}<extra></extra>\",\"legendgroup\":\"Sona\",\"marker\":{\"color\":\"#B6E880\",\"symbol\":\"circle\"},\"mode\":\"markers\",\"name\":\"Sona\",\"orientation\":\"v\",\"showlegend\":true,\"x\":[8575.33],\"xaxis\":\"x\",\"y\":[17443.47],\"yaxis\":\"y\",\"type\":\"scatter\"},{\"hovertemplate\":\"Champ=Soraka<br>Damage=%{x}<br>Taken=%{y}<extra></extra>\",\"legendgroup\":\"Soraka\",\"marker\":{\"color\":\"#FF97FF\",\"symbol\":\"circle\"},\"mode\":\"markers\",\"name\":\"Soraka\",\"orientation\":\"v\",\"showlegend\":true,\"x\":[5392.8],\"xaxis\":\"x\",\"y\":[13597.09],\"yaxis\":\"y\",\"type\":\"scatter\"},{\"hovertemplate\":\"Champ=Swain<br>Damage=%{x}<br>Taken=%{y}<extra></extra>\",\"legendgroup\":\"Swain\",\"marker\":{\"color\":\"#FECB52\",\"symbol\":\"circle\"},\"mode\":\"markers\",\"name\":\"Swain\",\"orientation\":\"v\",\"showlegend\":true,\"x\":[19822.66],\"xaxis\":\"x\",\"y\":[26442.08],\"yaxis\":\"y\",\"type\":\"scatter\"},{\"hovertemplate\":\"Champ=Sylas<br>Damage=%{x}<br>Taken=%{y}<extra></extra>\",\"legendgroup\":\"Sylas\",\"marker\":{\"color\":\"#636efa\",\"symbol\":\"circle\"},\"mode\":\"markers\",\"name\":\"Sylas\",\"orientation\":\"v\",\"showlegend\":true,\"x\":[18631.54],\"xaxis\":\"x\",\"y\":[28968.97],\"yaxis\":\"y\",\"type\":\"scatter\"},{\"hovertemplate\":\"Champ=Syndra<br>Damage=%{x}<br>Taken=%{y}<extra></extra>\",\"legendgroup\":\"Syndra\",\"marker\":{\"color\":\"#EF553B\",\"symbol\":\"circle\"},\"mode\":\"markers\",\"name\":\"Syndra\",\"orientation\":\"v\",\"showlegend\":true,\"x\":[22657.84],\"xaxis\":\"x\",\"y\":[19255.22],\"yaxis\":\"y\",\"type\":\"scatter\"},{\"hovertemplate\":\"Champ=TahmKench<br>Damage=%{x}<br>Taken=%{y}<extra></extra>\",\"legendgroup\":\"TahmKench\",\"marker\":{\"color\":\"#00cc96\",\"symbol\":\"circle\"},\"mode\":\"markers\",\"name\":\"TahmKench\",\"orientation\":\"v\",\"showlegend\":true,\"x\":[13678.11],\"xaxis\":\"x\",\"y\":[27777.35],\"yaxis\":\"y\",\"type\":\"scatter\"},{\"hovertemplate\":\"Champ=Taliyah<br>Damage=%{x}<br>Taken=%{y}<extra></extra>\",\"legendgroup\":\"Taliyah\",\"marker\":{\"color\":\"#ab63fa\",\"symbol\":\"circle\"},\"mode\":\"markers\",\"name\":\"Taliyah\",\"orientation\":\"v\",\"showlegend\":true,\"x\":[23186.17],\"xaxis\":\"x\",\"y\":[21507.8],\"yaxis\":\"y\",\"type\":\"scatter\"},{\"hovertemplate\":\"Champ=Talon<br>Damage=%{x}<br>Taken=%{y}<extra></extra>\",\"legendgroup\":\"Talon\",\"marker\":{\"color\":\"#FFA15A\",\"symbol\":\"circle\"},\"mode\":\"markers\",\"name\":\"Talon\",\"orientation\":\"v\",\"showlegend\":true,\"x\":[19960.12],\"xaxis\":\"x\",\"y\":[26073.33],\"yaxis\":\"y\",\"type\":\"scatter\"},{\"hovertemplate\":\"Champ=Taric<br>Damage=%{x}<br>Taken=%{y}<extra></extra>\",\"legendgroup\":\"Taric\",\"marker\":{\"color\":\"#19d3f3\",\"symbol\":\"circle\"},\"mode\":\"markers\",\"name\":\"Taric\",\"orientation\":\"v\",\"showlegend\":true,\"x\":[4780.88],\"xaxis\":\"x\",\"y\":[20079.72],\"yaxis\":\"y\",\"type\":\"scatter\"},{\"hovertemplate\":\"Champ=Teemo<br>Damage=%{x}<br>Taken=%{y}<extra></extra>\",\"legendgroup\":\"Teemo\",\"marker\":{\"color\":\"#FF6692\",\"symbol\":\"circle\"},\"mode\":\"markers\",\"name\":\"Teemo\",\"orientation\":\"v\",\"showlegend\":true,\"x\":[21004.74],\"xaxis\":\"x\",\"y\":[19961.65],\"yaxis\":\"y\",\"type\":\"scatter\"},{\"hovertemplate\":\"Champ=Thresh<br>Damage=%{x}<br>Taken=%{y}<extra></extra>\",\"legendgroup\":\"Thresh\",\"marker\":{\"color\":\"#B6E880\",\"symbol\":\"circle\"},\"mode\":\"markers\",\"name\":\"Thresh\",\"orientation\":\"v\",\"showlegend\":true,\"x\":[7210.07],\"xaxis\":\"x\",\"y\":[19870.03],\"yaxis\":\"y\",\"type\":\"scatter\"},{\"hovertemplate\":\"Champ=Tristana<br>Damage=%{x}<br>Taken=%{y}<extra></extra>\",\"legendgroup\":\"Tristana\",\"marker\":{\"color\":\"#FF97FF\",\"symbol\":\"circle\"},\"mode\":\"markers\",\"name\":\"Tristana\",\"orientation\":\"v\",\"showlegend\":true,\"x\":[20853.48],\"xaxis\":\"x\",\"y\":[20126.68],\"yaxis\":\"y\",\"type\":\"scatter\"},{\"hovertemplate\":\"Champ=Trundle<br>Damage=%{x}<br>Taken=%{y}<extra></extra>\",\"legendgroup\":\"Trundle\",\"marker\":{\"color\":\"#FECB52\",\"symbol\":\"circle\"},\"mode\":\"markers\",\"name\":\"Trundle\",\"orientation\":\"v\",\"showlegend\":true,\"x\":[15691.56],\"xaxis\":\"x\",\"y\":[32767.97],\"yaxis\":\"y\",\"type\":\"scatter\"},{\"hovertemplate\":\"Champ=Tryndamere<br>Damage=%{x}<br>Taken=%{y}<extra></extra>\",\"legendgroup\":\"Tryndamere\",\"marker\":{\"color\":\"#636efa\",\"symbol\":\"circle\"},\"mode\":\"markers\",\"name\":\"Tryndamere\",\"orientation\":\"v\",\"showlegend\":true,\"x\":[18850.37],\"xaxis\":\"x\",\"y\":[33315.78],\"yaxis\":\"y\",\"type\":\"scatter\"},{\"hovertemplate\":\"Champ=TwistedFate<br>Damage=%{x}<br>Taken=%{y}<extra></extra>\",\"legendgroup\":\"TwistedFate\",\"marker\":{\"color\":\"#EF553B\",\"symbol\":\"circle\"},\"mode\":\"markers\",\"name\":\"TwistedFate\",\"orientation\":\"v\",\"showlegend\":true,\"x\":[16382.31],\"xaxis\":\"x\",\"y\":[22379.33],\"yaxis\":\"y\",\"type\":\"scatter\"},{\"hovertemplate\":\"Champ=Twitch<br>Damage=%{x}<br>Taken=%{y}<extra></extra>\",\"legendgroup\":\"Twitch\",\"marker\":{\"color\":\"#00cc96\",\"symbol\":\"circle\"},\"mode\":\"markers\",\"name\":\"Twitch\",\"orientation\":\"v\",\"showlegend\":true,\"x\":[22356.59],\"xaxis\":\"x\",\"y\":[22078.34],\"yaxis\":\"y\",\"type\":\"scatter\"},{\"hovertemplate\":\"Champ=Udyr<br>Damage=%{x}<br>Taken=%{y}<extra></extra>\",\"legendgroup\":\"Udyr\",\"marker\":{\"color\":\"#ab63fa\",\"symbol\":\"circle\"},\"mode\":\"markers\",\"name\":\"Udyr\",\"orientation\":\"v\",\"showlegend\":true,\"x\":[14098.29],\"xaxis\":\"x\",\"y\":[33327.76],\"yaxis\":\"y\",\"type\":\"scatter\"},{\"hovertemplate\":\"Champ=Urgot<br>Damage=%{x}<br>Taken=%{y}<extra></extra>\",\"legendgroup\":\"Urgot\",\"marker\":{\"color\":\"#FFA15A\",\"symbol\":\"circle\"},\"mode\":\"markers\",\"name\":\"Urgot\",\"orientation\":\"v\",\"showlegend\":true,\"x\":[19222.44],\"xaxis\":\"x\",\"y\":[24993.56],\"yaxis\":\"y\",\"type\":\"scatter\"},{\"hovertemplate\":\"Champ=Varus<br>Damage=%{x}<br>Taken=%{y}<extra></extra>\",\"legendgroup\":\"Varus\",\"marker\":{\"color\":\"#19d3f3\",\"symbol\":\"circle\"},\"mode\":\"markers\",\"name\":\"Varus\",\"orientation\":\"v\",\"showlegend\":true,\"x\":[19544.3],\"xaxis\":\"x\",\"y\":[19216.09],\"yaxis\":\"y\",\"type\":\"scatter\"},{\"hovertemplate\":\"Champ=Vayne<br>Damage=%{x}<br>Taken=%{y}<extra></extra>\",\"legendgroup\":\"Vayne\",\"marker\":{\"color\":\"#FF6692\",\"symbol\":\"circle\"},\"mode\":\"markers\",\"name\":\"Vayne\",\"orientation\":\"v\",\"showlegend\":true,\"x\":[20248.51],\"xaxis\":\"x\",\"y\":[20563.0],\"yaxis\":\"y\",\"type\":\"scatter\"},{\"hovertemplate\":\"Champ=Veigar<br>Damage=%{x}<br>Taken=%{y}<extra></extra>\",\"legendgroup\":\"Veigar\",\"marker\":{\"color\":\"#B6E880\",\"symbol\":\"circle\"},\"mode\":\"markers\",\"name\":\"Veigar\",\"orientation\":\"v\",\"showlegend\":true,\"x\":[20794.11],\"xaxis\":\"x\",\"y\":[18903.87],\"yaxis\":\"y\",\"type\":\"scatter\"},{\"hovertemplate\":\"Champ=Velkoz<br>Damage=%{x}<br>Taken=%{y}<extra></extra>\",\"legendgroup\":\"Velkoz\",\"marker\":{\"color\":\"#FF97FF\",\"symbol\":\"circle\"},\"mode\":\"markers\",\"name\":\"Velkoz\",\"orientation\":\"v\",\"showlegend\":true,\"x\":[18337.05],\"xaxis\":\"x\",\"y\":[14473.58],\"yaxis\":\"y\",\"type\":\"scatter\"},{\"hovertemplate\":\"Champ=Vex<br>Damage=%{x}<br>Taken=%{y}<extra></extra>\",\"legendgroup\":\"Vex\",\"marker\":{\"color\":\"#FECB52\",\"symbol\":\"circle\"},\"mode\":\"markers\",\"name\":\"Vex\",\"orientation\":\"v\",\"showlegend\":true,\"x\":[19193.66],\"xaxis\":\"x\",\"y\":[18952.23],\"yaxis\":\"y\",\"type\":\"scatter\"},{\"hovertemplate\":\"Champ=Vi<br>Damage=%{x}<br>Taken=%{y}<extra></extra>\",\"legendgroup\":\"Vi\",\"marker\":{\"color\":\"#636efa\",\"symbol\":\"circle\"},\"mode\":\"markers\",\"name\":\"Vi\",\"orientation\":\"v\",\"showlegend\":true,\"x\":[15490.84],\"xaxis\":\"x\",\"y\":[23051.65],\"yaxis\":\"y\",\"type\":\"scatter\"},{\"hovertemplate\":\"Champ=Viego<br>Damage=%{x}<br>Taken=%{y}<extra></extra>\",\"legendgroup\":\"Viego\",\"marker\":{\"color\":\"#EF553B\",\"symbol\":\"circle\"},\"mode\":\"markers\",\"name\":\"Viego\",\"orientation\":\"v\",\"showlegend\":true,\"x\":[18272.44],\"xaxis\":\"x\",\"y\":[30670.46],\"yaxis\":\"y\",\"type\":\"scatter\"},{\"hovertemplate\":\"Champ=Viktor<br>Damage=%{x}<br>Taken=%{y}<extra></extra>\",\"legendgroup\":\"Viktor\",\"marker\":{\"color\":\"#00cc96\",\"symbol\":\"circle\"},\"mode\":\"markers\",\"name\":\"Viktor\",\"orientation\":\"v\",\"showlegend\":true,\"x\":[25268.33],\"xaxis\":\"x\",\"y\":[19082.86],\"yaxis\":\"y\",\"type\":\"scatter\"},{\"hovertemplate\":\"Champ=Vladimir<br>Damage=%{x}<br>Taken=%{y}<extra></extra>\",\"legendgroup\":\"Vladimir\",\"marker\":{\"color\":\"#ab63fa\",\"symbol\":\"circle\"},\"mode\":\"markers\",\"name\":\"Vladimir\",\"orientation\":\"v\",\"showlegend\":true,\"x\":[21275.4],\"xaxis\":\"x\",\"y\":[27686.16],\"yaxis\":\"y\",\"type\":\"scatter\"},{\"hovertemplate\":\"Champ=Volibear<br>Damage=%{x}<br>Taken=%{y}<extra></extra>\",\"legendgroup\":\"Volibear\",\"marker\":{\"color\":\"#FFA15A\",\"symbol\":\"circle\"},\"mode\":\"markers\",\"name\":\"Volibear\",\"orientation\":\"v\",\"showlegend\":true,\"x\":[15474.49],\"xaxis\":\"x\",\"y\":[27896.48],\"yaxis\":\"y\",\"type\":\"scatter\"},{\"hovertemplate\":\"Champ=Warwick<br>Damage=%{x}<br>Taken=%{y}<extra></extra>\",\"legendgroup\":\"Warwick\",\"marker\":{\"color\":\"#19d3f3\",\"symbol\":\"circle\"},\"mode\":\"markers\",\"name\":\"Warwick\",\"orientation\":\"v\",\"showlegend\":true,\"x\":[16262.3],\"xaxis\":\"x\",\"y\":[33631.92],\"yaxis\":\"y\",\"type\":\"scatter\"},{\"hovertemplate\":\"Champ=Xayah<br>Damage=%{x}<br>Taken=%{y}<extra></extra>\",\"legendgroup\":\"Xayah\",\"marker\":{\"color\":\"#FF6692\",\"symbol\":\"circle\"},\"mode\":\"markers\",\"name\":\"Xayah\",\"orientation\":\"v\",\"showlegend\":true,\"x\":[20867.93],\"xaxis\":\"x\",\"y\":[18098.33],\"yaxis\":\"y\",\"type\":\"scatter\"},{\"hovertemplate\":\"Champ=Xerath<br>Damage=%{x}<br>Taken=%{y}<extra></extra>\",\"legendgroup\":\"Xerath\",\"marker\":{\"color\":\"#B6E880\",\"symbol\":\"circle\"},\"mode\":\"markers\",\"name\":\"Xerath\",\"orientation\":\"v\",\"showlegend\":true,\"x\":[21669.84],\"xaxis\":\"x\",\"y\":[15464.48],\"yaxis\":\"y\",\"type\":\"scatter\"},{\"hovertemplate\":\"Champ=XinZhao<br>Damage=%{x}<br>Taken=%{y}<extra></extra>\",\"legendgroup\":\"XinZhao\",\"marker\":{\"color\":\"#FF97FF\",\"symbol\":\"circle\"},\"mode\":\"markers\",\"name\":\"XinZhao\",\"orientation\":\"v\",\"showlegend\":true,\"x\":[18681.79],\"xaxis\":\"x\",\"y\":[30844.53],\"yaxis\":\"y\",\"type\":\"scatter\"},{\"hovertemplate\":\"Champ=Yasuo<br>Damage=%{x}<br>Taken=%{y}<extra></extra>\",\"legendgroup\":\"Yasuo\",\"marker\":{\"color\":\"#FECB52\",\"symbol\":\"circle\"},\"mode\":\"markers\",\"name\":\"Yasuo\",\"orientation\":\"v\",\"showlegend\":true,\"x\":[18125.0],\"xaxis\":\"x\",\"y\":[22317.41],\"yaxis\":\"y\",\"type\":\"scatter\"},{\"hovertemplate\":\"Champ=Yone<br>Damage=%{x}<br>Taken=%{y}<extra></extra>\",\"legendgroup\":\"Yone\",\"marker\":{\"color\":\"#636efa\",\"symbol\":\"circle\"},\"mode\":\"markers\",\"name\":\"Yone\",\"orientation\":\"v\",\"showlegend\":true,\"x\":[20274.53],\"xaxis\":\"x\",\"y\":[23482.04],\"yaxis\":\"y\",\"type\":\"scatter\"},{\"hovertemplate\":\"Champ=Yorick<br>Damage=%{x}<br>Taken=%{y}<extra></extra>\",\"legendgroup\":\"Yorick\",\"marker\":{\"color\":\"#EF553B\",\"symbol\":\"circle\"},\"mode\":\"markers\",\"name\":\"Yorick\",\"orientation\":\"v\",\"showlegend\":true,\"x\":[21294.59],\"xaxis\":\"x\",\"y\":[28655.21],\"yaxis\":\"y\",\"type\":\"scatter\"},{\"hovertemplate\":\"Champ=Yuumi<br>Damage=%{x}<br>Taken=%{y}<extra></extra>\",\"legendgroup\":\"Yuumi\",\"marker\":{\"color\":\"#00cc96\",\"symbol\":\"circle\"},\"mode\":\"markers\",\"name\":\"Yuumi\",\"orientation\":\"v\",\"showlegend\":true,\"x\":[9154.82],\"xaxis\":\"x\",\"y\":[8705.01],\"yaxis\":\"y\",\"type\":\"scatter\"},{\"hovertemplate\":\"Champ=Zac<br>Damage=%{x}<br>Taken=%{y}<extra></extra>\",\"legendgroup\":\"Zac\",\"marker\":{\"color\":\"#ab63fa\",\"symbol\":\"circle\"},\"mode\":\"markers\",\"name\":\"Zac\",\"orientation\":\"v\",\"showlegend\":true,\"x\":[15075.4],\"xaxis\":\"x\",\"y\":[34032.69],\"yaxis\":\"y\",\"type\":\"scatter\"},{\"hovertemplate\":\"Champ=Zed<br>Damage=%{x}<br>Taken=%{y}<extra></extra>\",\"legendgroup\":\"Zed\",\"marker\":{\"color\":\"#FFA15A\",\"symbol\":\"circle\"},\"mode\":\"markers\",\"name\":\"Zed\",\"orientation\":\"v\",\"showlegend\":true,\"x\":[21811.29],\"xaxis\":\"x\",\"y\":[20680.91],\"yaxis\":\"y\",\"type\":\"scatter\"},{\"hovertemplate\":\"Champ=Zeri<br>Damage=%{x}<br>Taken=%{y}<extra></extra>\",\"legendgroup\":\"Zeri\",\"marker\":{\"color\":\"#19d3f3\",\"symbol\":\"circle\"},\"mode\":\"markers\",\"name\":\"Zeri\",\"orientation\":\"v\",\"showlegend\":true,\"x\":[21744.21],\"xaxis\":\"x\",\"y\":[22696.96],\"yaxis\":\"y\",\"type\":\"scatter\"},{\"hovertemplate\":\"Champ=Ziggs<br>Damage=%{x}<br>Taken=%{y}<extra></extra>\",\"legendgroup\":\"Ziggs\",\"marker\":{\"color\":\"#FF6692\",\"symbol\":\"circle\"},\"mode\":\"markers\",\"name\":\"Ziggs\",\"orientation\":\"v\",\"showlegend\":true,\"x\":[26902.3],\"xaxis\":\"x\",\"y\":[17268.79],\"yaxis\":\"y\",\"type\":\"scatter\"},{\"hovertemplate\":\"Champ=Zilean<br>Damage=%{x}<br>Taken=%{y}<extra></extra>\",\"legendgroup\":\"Zilean\",\"marker\":{\"color\":\"#B6E880\",\"symbol\":\"circle\"},\"mode\":\"markers\",\"name\":\"Zilean\",\"orientation\":\"v\",\"showlegend\":true,\"x\":[10600.5],\"xaxis\":\"x\",\"y\":[16021.45],\"yaxis\":\"y\",\"type\":\"scatter\"},{\"hovertemplate\":\"Champ=Zoe<br>Damage=%{x}<br>Taken=%{y}<extra></extra>\",\"legendgroup\":\"Zoe\",\"marker\":{\"color\":\"#FF97FF\",\"symbol\":\"circle\"},\"mode\":\"markers\",\"name\":\"Zoe\",\"orientation\":\"v\",\"showlegend\":true,\"x\":[19533.24],\"xaxis\":\"x\",\"y\":[17558.56],\"yaxis\":\"y\",\"type\":\"scatter\"},{\"hovertemplate\":\"Champ=Zyra<br>Damage=%{x}<br>Taken=%{y}<extra></extra>\",\"legendgroup\":\"Zyra\",\"marker\":{\"color\":\"#FECB52\",\"symbol\":\"circle\"},\"mode\":\"markers\",\"name\":\"Zyra\",\"orientation\":\"v\",\"showlegend\":true,\"x\":[20840.25],\"xaxis\":\"x\",\"y\":[15985.62],\"yaxis\":\"y\",\"type\":\"scatter\"}],                        {\"legend\":{\"title\":{\"text\":\"Champ\"},\"tracegroupgap\":0},\"template\":{\"data\":{\"barpolar\":[{\"marker\":{\"line\":{\"color\":\"#E5ECF6\",\"width\":0.5},\"pattern\":{\"fillmode\":\"overlay\",\"size\":10,\"solidity\":0.2}},\"type\":\"barpolar\"}],\"bar\":[{\"error_x\":{\"color\":\"#2a3f5f\"},\"error_y\":{\"color\":\"#2a3f5f\"},\"marker\":{\"line\":{\"color\":\"#E5ECF6\",\"width\":0.5},\"pattern\":{\"fillmode\":\"overlay\",\"size\":10,\"solidity\":0.2}},\"type\":\"bar\"}],\"carpet\":[{\"aaxis\":{\"endlinecolor\":\"#2a3f5f\",\"gridcolor\":\"white\",\"linecolor\":\"white\",\"minorgridcolor\":\"white\",\"startlinecolor\":\"#2a3f5f\"},\"baxis\":{\"endlinecolor\":\"#2a3f5f\",\"gridcolor\":\"white\",\"linecolor\":\"white\",\"minorgridcolor\":\"white\",\"startlinecolor\":\"#2a3f5f\"},\"type\":\"carpet\"}],\"choropleth\":[{\"colorbar\":{\"outlinewidth\":0,\"ticks\":\"\"},\"type\":\"choropleth\"}],\"contourcarpet\":[{\"colorbar\":{\"outlinewidth\":0,\"ticks\":\"\"},\"type\":\"contourcarpet\"}],\"contour\":[{\"colorbar\":{\"outlinewidth\":0,\"ticks\":\"\"},\"colorscale\":[[0.0,\"#0d0887\"],[0.1111111111111111,\"#46039f\"],[0.2222222222222222,\"#7201a8\"],[0.3333333333333333,\"#9c179e\"],[0.4444444444444444,\"#bd3786\"],[0.5555555555555556,\"#d8576b\"],[0.6666666666666666,\"#ed7953\"],[0.7777777777777778,\"#fb9f3a\"],[0.8888888888888888,\"#fdca26\"],[1.0,\"#f0f921\"]],\"type\":\"contour\"}],\"heatmapgl\":[{\"colorbar\":{\"outlinewidth\":0,\"ticks\":\"\"},\"colorscale\":[[0.0,\"#0d0887\"],[0.1111111111111111,\"#46039f\"],[0.2222222222222222,\"#7201a8\"],[0.3333333333333333,\"#9c179e\"],[0.4444444444444444,\"#bd3786\"],[0.5555555555555556,\"#d8576b\"],[0.6666666666666666,\"#ed7953\"],[0.7777777777777778,\"#fb9f3a\"],[0.8888888888888888,\"#fdca26\"],[1.0,\"#f0f921\"]],\"type\":\"heatmapgl\"}],\"heatmap\":[{\"colorbar\":{\"outlinewidth\":0,\"ticks\":\"\"},\"colorscale\":[[0.0,\"#0d0887\"],[0.1111111111111111,\"#46039f\"],[0.2222222222222222,\"#7201a8\"],[0.3333333333333333,\"#9c179e\"],[0.4444444444444444,\"#bd3786\"],[0.5555555555555556,\"#d8576b\"],[0.6666666666666666,\"#ed7953\"],[0.7777777777777778,\"#fb9f3a\"],[0.8888888888888888,\"#fdca26\"],[1.0,\"#f0f921\"]],\"type\":\"heatmap\"}],\"histogram2dcontour\":[{\"colorbar\":{\"outlinewidth\":0,\"ticks\":\"\"},\"colorscale\":[[0.0,\"#0d0887\"],[0.1111111111111111,\"#46039f\"],[0.2222222222222222,\"#7201a8\"],[0.3333333333333333,\"#9c179e\"],[0.4444444444444444,\"#bd3786\"],[0.5555555555555556,\"#d8576b\"],[0.6666666666666666,\"#ed7953\"],[0.7777777777777778,\"#fb9f3a\"],[0.8888888888888888,\"#fdca26\"],[1.0,\"#f0f921\"]],\"type\":\"histogram2dcontour\"}],\"histogram2d\":[{\"colorbar\":{\"outlinewidth\":0,\"ticks\":\"\"},\"colorscale\":[[0.0,\"#0d0887\"],[0.1111111111111111,\"#46039f\"],[0.2222222222222222,\"#7201a8\"],[0.3333333333333333,\"#9c179e\"],[0.4444444444444444,\"#bd3786\"],[0.5555555555555556,\"#d8576b\"],[0.6666666666666666,\"#ed7953\"],[0.7777777777777778,\"#fb9f3a\"],[0.8888888888888888,\"#fdca26\"],[1.0,\"#f0f921\"]],\"type\":\"histogram2d\"}],\"histogram\":[{\"marker\":{\"pattern\":{\"fillmode\":\"overlay\",\"size\":10,\"solidity\":0.2}},\"type\":\"histogram\"}],\"mesh3d\":[{\"colorbar\":{\"outlinewidth\":0,\"ticks\":\"\"},\"type\":\"mesh3d\"}],\"parcoords\":[{\"line\":{\"colorbar\":{\"outlinewidth\":0,\"ticks\":\"\"}},\"type\":\"parcoords\"}],\"pie\":[{\"automargin\":true,\"type\":\"pie\"}],\"scatter3d\":[{\"line\":{\"colorbar\":{\"outlinewidth\":0,\"ticks\":\"\"}},\"marker\":{\"colorbar\":{\"outlinewidth\":0,\"ticks\":\"\"}},\"type\":\"scatter3d\"}],\"scattercarpet\":[{\"marker\":{\"colorbar\":{\"outlinewidth\":0,\"ticks\":\"\"}},\"type\":\"scattercarpet\"}],\"scattergeo\":[{\"marker\":{\"colorbar\":{\"outlinewidth\":0,\"ticks\":\"\"}},\"type\":\"scattergeo\"}],\"scattergl\":[{\"marker\":{\"colorbar\":{\"outlinewidth\":0,\"ticks\":\"\"}},\"type\":\"scattergl\"}],\"scattermapbox\":[{\"marker\":{\"colorbar\":{\"outlinewidth\":0,\"ticks\":\"\"}},\"type\":\"scattermapbox\"}],\"scatterpolargl\":[{\"marker\":{\"colorbar\":{\"outlinewidth\":0,\"ticks\":\"\"}},\"type\":\"scatterpolargl\"}],\"scatterpolar\":[{\"marker\":{\"colorbar\":{\"outlinewidth\":0,\"ticks\":\"\"}},\"type\":\"scatterpolar\"}],\"scatter\":[{\"marker\":{\"colorbar\":{\"outlinewidth\":0,\"ticks\":\"\"}},\"type\":\"scatter\"}],\"scatterternary\":[{\"marker\":{\"colorbar\":{\"outlinewidth\":0,\"ticks\":\"\"}},\"type\":\"scatterternary\"}],\"surface\":[{\"colorbar\":{\"outlinewidth\":0,\"ticks\":\"\"},\"colorscale\":[[0.0,\"#0d0887\"],[0.1111111111111111,\"#46039f\"],[0.2222222222222222,\"#7201a8\"],[0.3333333333333333,\"#9c179e\"],[0.4444444444444444,\"#bd3786\"],[0.5555555555555556,\"#d8576b\"],[0.6666666666666666,\"#ed7953\"],[0.7777777777777778,\"#fb9f3a\"],[0.8888888888888888,\"#fdca26\"],[1.0,\"#f0f921\"]],\"type\":\"surface\"}],\"table\":[{\"cells\":{\"fill\":{\"color\":\"#EBF0F8\"},\"line\":{\"color\":\"white\"}},\"header\":{\"fill\":{\"color\":\"#C8D4E3\"},\"line\":{\"color\":\"white\"}},\"type\":\"table\"}]},\"layout\":{\"annotationdefaults\":{\"arrowcolor\":\"#2a3f5f\",\"arrowhead\":0,\"arrowwidth\":1},\"autotypenumbers\":\"strict\",\"coloraxis\":{\"colorbar\":{\"outlinewidth\":0,\"ticks\":\"\"}},\"colorscale\":{\"diverging\":[[0,\"#8e0152\"],[0.1,\"#c51b7d\"],[0.2,\"#de77ae\"],[0.3,\"#f1b6da\"],[0.4,\"#fde0ef\"],[0.5,\"#f7f7f7\"],[0.6,\"#e6f5d0\"],[0.7,\"#b8e186\"],[0.8,\"#7fbc41\"],[0.9,\"#4d9221\"],[1,\"#276419\"]],\"sequential\":[[0.0,\"#0d0887\"],[0.1111111111111111,\"#46039f\"],[0.2222222222222222,\"#7201a8\"],[0.3333333333333333,\"#9c179e\"],[0.4444444444444444,\"#bd3786\"],[0.5555555555555556,\"#d8576b\"],[0.6666666666666666,\"#ed7953\"],[0.7777777777777778,\"#fb9f3a\"],[0.8888888888888888,\"#fdca26\"],[1.0,\"#f0f921\"]],\"sequentialminus\":[[0.0,\"#0d0887\"],[0.1111111111111111,\"#46039f\"],[0.2222222222222222,\"#7201a8\"],[0.3333333333333333,\"#9c179e\"],[0.4444444444444444,\"#bd3786\"],[0.5555555555555556,\"#d8576b\"],[0.6666666666666666,\"#ed7953\"],[0.7777777777777778,\"#fb9f3a\"],[0.8888888888888888,\"#fdca26\"],[1.0,\"#f0f921\"]]},\"colorway\":[\"#636efa\",\"#EF553B\",\"#00cc96\",\"#ab63fa\",\"#FFA15A\",\"#19d3f3\",\"#FF6692\",\"#B6E880\",\"#FF97FF\",\"#FECB52\"],\"font\":{\"color\":\"#2a3f5f\"},\"geo\":{\"bgcolor\":\"white\",\"lakecolor\":\"white\",\"landcolor\":\"#E5ECF6\",\"showlakes\":true,\"showland\":true,\"subunitcolor\":\"white\"},\"hoverlabel\":{\"align\":\"left\"},\"hovermode\":\"closest\",\"mapbox\":{\"style\":\"light\"},\"paper_bgcolor\":\"white\",\"plot_bgcolor\":\"#E5ECF6\",\"polar\":{\"angularaxis\":{\"gridcolor\":\"white\",\"linecolor\":\"white\",\"ticks\":\"\"},\"bgcolor\":\"#E5ECF6\",\"radialaxis\":{\"gridcolor\":\"white\",\"linecolor\":\"white\",\"ticks\":\"\"}},\"scene\":{\"xaxis\":{\"backgroundcolor\":\"#E5ECF6\",\"gridcolor\":\"white\",\"gridwidth\":2,\"linecolor\":\"white\",\"showbackground\":true,\"ticks\":\"\",\"zerolinecolor\":\"white\"},\"yaxis\":{\"backgroundcolor\":\"#E5ECF6\",\"gridcolor\":\"white\",\"gridwidth\":2,\"linecolor\":\"white\",\"showbackground\":true,\"ticks\":\"\",\"zerolinecolor\":\"white\"},\"zaxis\":{\"backgroundcolor\":\"#E5ECF6\",\"gridcolor\":\"white\",\"gridwidth\":2,\"linecolor\":\"white\",\"showbackground\":true,\"ticks\":\"\",\"zerolinecolor\":\"white\"}},\"shapedefaults\":{\"line\":{\"color\":\"#2a3f5f\"}},\"ternary\":{\"aaxis\":{\"gridcolor\":\"white\",\"linecolor\":\"white\",\"ticks\":\"\"},\"baxis\":{\"gridcolor\":\"white\",\"linecolor\":\"white\",\"ticks\":\"\"},\"bgcolor\":\"#E5ECF6\",\"caxis\":{\"gridcolor\":\"white\",\"linecolor\":\"white\",\"ticks\":\"\"}},\"title\":{\"x\":0.05},\"xaxis\":{\"automargin\":true,\"gridcolor\":\"white\",\"linecolor\":\"white\",\"ticks\":\"\",\"title\":{\"standoff\":15},\"zerolinecolor\":\"white\",\"zerolinewidth\":2},\"yaxis\":{\"automargin\":true,\"gridcolor\":\"white\",\"linecolor\":\"white\",\"ticks\":\"\",\"title\":{\"standoff\":15},\"zerolinecolor\":\"white\",\"zerolinewidth\":2}}},\"title\":{\"text\":\"\\uad8c\\ud0dc\\ud55c_\\ucc54\\ud53c\\uc5b8\\ubcc4 \\ub51c\\ub7c9 \\ubc0f \\ud53c\\ud574\\ub7c9\"},\"xaxis\":{\"anchor\":\"y\",\"domain\":[0.0,1.0],\"title\":{\"text\":\"Damage\"}},\"yaxis\":{\"anchor\":\"x\",\"domain\":[0.0,1.0],\"title\":{\"text\":\"Taken\"}}},                        {\"responsive\": true}                    ).then(function(){\n",
       "                            \n",
       "var gd = document.getElementById('11962c6d-7f22-4cbb-bffc-00beb0c3cbb6');\n",
       "var x = new MutationObserver(function (mutations, observer) {{\n",
       "        var display = window.getComputedStyle(gd).display;\n",
       "        if (!display || display === 'none') {{\n",
       "            console.log([gd, 'removed!']);\n",
       "            Plotly.purge(gd);\n",
       "            observer.disconnect();\n",
       "        }}\n",
       "}});\n",
       "\n",
       "// Listen for the removal of the full notebook cells\n",
       "var notebookContainer = gd.closest('#notebook-container');\n",
       "if (notebookContainer) {{\n",
       "    x.observe(notebookContainer, {childList: true});\n",
       "}}\n",
       "\n",
       "// Listen for the clearing of the current output cell\n",
       "var outputEl = gd.closest('.output');\n",
       "if (outputEl) {{\n",
       "    x.observe(outputEl, {childList: true});\n",
       "}}\n",
       "\n",
       "                        })                };                });            </script>        </div>"
      ]
     },
     "metadata": {},
     "output_type": "display_data"
    }
   ],
   "source": [
    "# 6번 문제\n",
    "fig = px.scatter(my_df, title= '권태한_챔피언별 딜량 및 피해량',\n",
    "                x = 'Damage',\n",
    "                y = 'Taken',\n",
    "                color = 'Champ')\n",
    "plotly.offline.iplot(fig)"
   ]
  },
  {
   "cell_type": "code",
   "execution_count": 25,
   "id": "41b72436",
   "metadata": {},
   "outputs": [],
   "source": [
    "# 7번 문제\n",
    "my_gold = df[['TEAMPOSITION','G_15']]"
   ]
  },
  {
   "cell_type": "code",
   "execution_count": 26,
   "id": "87ab6983",
   "metadata": {},
   "outputs": [],
   "source": [
    "my_gold = my_gold.groupby(['TEAMPOSITION']).mean().round(2).reset_index()"
   ]
  },
  {
   "cell_type": "code",
   "execution_count": 27,
   "id": "36275c8d",
   "metadata": {},
   "outputs": [
    {
     "data": {
      "text/html": [
       "<div>\n",
       "<style scoped>\n",
       "    .dataframe tbody tr th:only-of-type {\n",
       "        vertical-align: middle;\n",
       "    }\n",
       "\n",
       "    .dataframe tbody tr th {\n",
       "        vertical-align: top;\n",
       "    }\n",
       "\n",
       "    .dataframe thead th {\n",
       "        text-align: right;\n",
       "    }\n",
       "</style>\n",
       "<table border=\"1\" class=\"dataframe\">\n",
       "  <thead>\n",
       "    <tr style=\"text-align: right;\">\n",
       "      <th></th>\n",
       "      <th>TEAMPOSITION</th>\n",
       "      <th>G_15</th>\n",
       "    </tr>\n",
       "  </thead>\n",
       "  <tbody>\n",
       "    <tr>\n",
       "      <th>0</th>\n",
       "      <td>BOTTOM</td>\n",
       "      <td>5628.49</td>\n",
       "    </tr>\n",
       "    <tr>\n",
       "      <th>1</th>\n",
       "      <td>JUNGLE</td>\n",
       "      <td>5713.10</td>\n",
       "    </tr>\n",
       "    <tr>\n",
       "      <th>2</th>\n",
       "      <td>MIDDLE</td>\n",
       "      <td>5401.61</td>\n",
       "    </tr>\n",
       "    <tr>\n",
       "      <th>3</th>\n",
       "      <td>TOP</td>\n",
       "      <td>5237.48</td>\n",
       "    </tr>\n",
       "    <tr>\n",
       "      <th>4</th>\n",
       "      <td>UTILITY</td>\n",
       "      <td>4131.43</td>\n",
       "    </tr>\n",
       "  </tbody>\n",
       "</table>\n",
       "</div>"
      ],
      "text/plain": [
       "  TEAMPOSITION     G_15\n",
       "0       BOTTOM  5628.49\n",
       "1       JUNGLE  5713.10\n",
       "2       MIDDLE  5401.61\n",
       "3          TOP  5237.48\n",
       "4      UTILITY  4131.43"
      ]
     },
     "execution_count": 27,
     "metadata": {},
     "output_type": "execute_result"
    }
   ],
   "source": [
    "my_gold"
   ]
  },
  {
   "cell_type": "code",
   "execution_count": 28,
   "id": "0f858933",
   "metadata": {},
   "outputs": [
    {
     "data": {
      "application/vnd.plotly.v1+json": {
       "config": {
        "linkText": "Export to plot.ly",
        "plotlyServerURL": "https://plot.ly",
        "showLink": false
       },
       "data": [
        {
         "alignmentgroup": "True",
         "hovertemplate": "TEAMPOSITION=%{x}<br>G_15=%{y}<extra></extra>",
         "legendgroup": "BOTTOM",
         "marker": {
          "color": "#636efa",
          "pattern": {
           "shape": ""
          }
         },
         "name": "BOTTOM",
         "offsetgroup": "BOTTOM",
         "orientation": "v",
         "showlegend": true,
         "textposition": "auto",
         "type": "bar",
         "x": [
          "BOTTOM"
         ],
         "xaxis": "x",
         "y": [
          5628.49
         ],
         "yaxis": "y"
        },
        {
         "alignmentgroup": "True",
         "hovertemplate": "TEAMPOSITION=%{x}<br>G_15=%{y}<extra></extra>",
         "legendgroup": "JUNGLE",
         "marker": {
          "color": "#EF553B",
          "pattern": {
           "shape": ""
          }
         },
         "name": "JUNGLE",
         "offsetgroup": "JUNGLE",
         "orientation": "v",
         "showlegend": true,
         "textposition": "auto",
         "type": "bar",
         "x": [
          "JUNGLE"
         ],
         "xaxis": "x",
         "y": [
          5713.1
         ],
         "yaxis": "y"
        },
        {
         "alignmentgroup": "True",
         "hovertemplate": "TEAMPOSITION=%{x}<br>G_15=%{y}<extra></extra>",
         "legendgroup": "MIDDLE",
         "marker": {
          "color": "#00cc96",
          "pattern": {
           "shape": ""
          }
         },
         "name": "MIDDLE",
         "offsetgroup": "MIDDLE",
         "orientation": "v",
         "showlegend": true,
         "textposition": "auto",
         "type": "bar",
         "x": [
          "MIDDLE"
         ],
         "xaxis": "x",
         "y": [
          5401.61
         ],
         "yaxis": "y"
        },
        {
         "alignmentgroup": "True",
         "hovertemplate": "TEAMPOSITION=%{x}<br>G_15=%{y}<extra></extra>",
         "legendgroup": "TOP",
         "marker": {
          "color": "#ab63fa",
          "pattern": {
           "shape": ""
          }
         },
         "name": "TOP",
         "offsetgroup": "TOP",
         "orientation": "v",
         "showlegend": true,
         "textposition": "auto",
         "type": "bar",
         "x": [
          "TOP"
         ],
         "xaxis": "x",
         "y": [
          5237.48
         ],
         "yaxis": "y"
        },
        {
         "alignmentgroup": "True",
         "hovertemplate": "TEAMPOSITION=%{x}<br>G_15=%{y}<extra></extra>",
         "legendgroup": "UTILITY",
         "marker": {
          "color": "#FFA15A",
          "pattern": {
           "shape": ""
          }
         },
         "name": "UTILITY",
         "offsetgroup": "UTILITY",
         "orientation": "v",
         "showlegend": true,
         "textposition": "auto",
         "type": "bar",
         "x": [
          "UTILITY"
         ],
         "xaxis": "x",
         "y": [
          4131.43
         ],
         "yaxis": "y"
        }
       ],
       "layout": {
        "barmode": "relative",
        "legend": {
         "title": {
          "text": "TEAMPOSITION"
         },
         "tracegroupgap": 0
        },
        "template": {
         "data": {
          "bar": [
           {
            "error_x": {
             "color": "#2a3f5f"
            },
            "error_y": {
             "color": "#2a3f5f"
            },
            "marker": {
             "line": {
              "color": "#E5ECF6",
              "width": 0.5
             },
             "pattern": {
              "fillmode": "overlay",
              "size": 10,
              "solidity": 0.2
             }
            },
            "type": "bar"
           }
          ],
          "barpolar": [
           {
            "marker": {
             "line": {
              "color": "#E5ECF6",
              "width": 0.5
             },
             "pattern": {
              "fillmode": "overlay",
              "size": 10,
              "solidity": 0.2
             }
            },
            "type": "barpolar"
           }
          ],
          "carpet": [
           {
            "aaxis": {
             "endlinecolor": "#2a3f5f",
             "gridcolor": "white",
             "linecolor": "white",
             "minorgridcolor": "white",
             "startlinecolor": "#2a3f5f"
            },
            "baxis": {
             "endlinecolor": "#2a3f5f",
             "gridcolor": "white",
             "linecolor": "white",
             "minorgridcolor": "white",
             "startlinecolor": "#2a3f5f"
            },
            "type": "carpet"
           }
          ],
          "choropleth": [
           {
            "colorbar": {
             "outlinewidth": 0,
             "ticks": ""
            },
            "type": "choropleth"
           }
          ],
          "contour": [
           {
            "colorbar": {
             "outlinewidth": 0,
             "ticks": ""
            },
            "colorscale": [
             [
              0,
              "#0d0887"
             ],
             [
              0.1111111111111111,
              "#46039f"
             ],
             [
              0.2222222222222222,
              "#7201a8"
             ],
             [
              0.3333333333333333,
              "#9c179e"
             ],
             [
              0.4444444444444444,
              "#bd3786"
             ],
             [
              0.5555555555555556,
              "#d8576b"
             ],
             [
              0.6666666666666666,
              "#ed7953"
             ],
             [
              0.7777777777777778,
              "#fb9f3a"
             ],
             [
              0.8888888888888888,
              "#fdca26"
             ],
             [
              1,
              "#f0f921"
             ]
            ],
            "type": "contour"
           }
          ],
          "contourcarpet": [
           {
            "colorbar": {
             "outlinewidth": 0,
             "ticks": ""
            },
            "type": "contourcarpet"
           }
          ],
          "heatmap": [
           {
            "colorbar": {
             "outlinewidth": 0,
             "ticks": ""
            },
            "colorscale": [
             [
              0,
              "#0d0887"
             ],
             [
              0.1111111111111111,
              "#46039f"
             ],
             [
              0.2222222222222222,
              "#7201a8"
             ],
             [
              0.3333333333333333,
              "#9c179e"
             ],
             [
              0.4444444444444444,
              "#bd3786"
             ],
             [
              0.5555555555555556,
              "#d8576b"
             ],
             [
              0.6666666666666666,
              "#ed7953"
             ],
             [
              0.7777777777777778,
              "#fb9f3a"
             ],
             [
              0.8888888888888888,
              "#fdca26"
             ],
             [
              1,
              "#f0f921"
             ]
            ],
            "type": "heatmap"
           }
          ],
          "heatmapgl": [
           {
            "colorbar": {
             "outlinewidth": 0,
             "ticks": ""
            },
            "colorscale": [
             [
              0,
              "#0d0887"
             ],
             [
              0.1111111111111111,
              "#46039f"
             ],
             [
              0.2222222222222222,
              "#7201a8"
             ],
             [
              0.3333333333333333,
              "#9c179e"
             ],
             [
              0.4444444444444444,
              "#bd3786"
             ],
             [
              0.5555555555555556,
              "#d8576b"
             ],
             [
              0.6666666666666666,
              "#ed7953"
             ],
             [
              0.7777777777777778,
              "#fb9f3a"
             ],
             [
              0.8888888888888888,
              "#fdca26"
             ],
             [
              1,
              "#f0f921"
             ]
            ],
            "type": "heatmapgl"
           }
          ],
          "histogram": [
           {
            "marker": {
             "pattern": {
              "fillmode": "overlay",
              "size": 10,
              "solidity": 0.2
             }
            },
            "type": "histogram"
           }
          ],
          "histogram2d": [
           {
            "colorbar": {
             "outlinewidth": 0,
             "ticks": ""
            },
            "colorscale": [
             [
              0,
              "#0d0887"
             ],
             [
              0.1111111111111111,
              "#46039f"
             ],
             [
              0.2222222222222222,
              "#7201a8"
             ],
             [
              0.3333333333333333,
              "#9c179e"
             ],
             [
              0.4444444444444444,
              "#bd3786"
             ],
             [
              0.5555555555555556,
              "#d8576b"
             ],
             [
              0.6666666666666666,
              "#ed7953"
             ],
             [
              0.7777777777777778,
              "#fb9f3a"
             ],
             [
              0.8888888888888888,
              "#fdca26"
             ],
             [
              1,
              "#f0f921"
             ]
            ],
            "type": "histogram2d"
           }
          ],
          "histogram2dcontour": [
           {
            "colorbar": {
             "outlinewidth": 0,
             "ticks": ""
            },
            "colorscale": [
             [
              0,
              "#0d0887"
             ],
             [
              0.1111111111111111,
              "#46039f"
             ],
             [
              0.2222222222222222,
              "#7201a8"
             ],
             [
              0.3333333333333333,
              "#9c179e"
             ],
             [
              0.4444444444444444,
              "#bd3786"
             ],
             [
              0.5555555555555556,
              "#d8576b"
             ],
             [
              0.6666666666666666,
              "#ed7953"
             ],
             [
              0.7777777777777778,
              "#fb9f3a"
             ],
             [
              0.8888888888888888,
              "#fdca26"
             ],
             [
              1,
              "#f0f921"
             ]
            ],
            "type": "histogram2dcontour"
           }
          ],
          "mesh3d": [
           {
            "colorbar": {
             "outlinewidth": 0,
             "ticks": ""
            },
            "type": "mesh3d"
           }
          ],
          "parcoords": [
           {
            "line": {
             "colorbar": {
              "outlinewidth": 0,
              "ticks": ""
             }
            },
            "type": "parcoords"
           }
          ],
          "pie": [
           {
            "automargin": true,
            "type": "pie"
           }
          ],
          "scatter": [
           {
            "marker": {
             "colorbar": {
              "outlinewidth": 0,
              "ticks": ""
             }
            },
            "type": "scatter"
           }
          ],
          "scatter3d": [
           {
            "line": {
             "colorbar": {
              "outlinewidth": 0,
              "ticks": ""
             }
            },
            "marker": {
             "colorbar": {
              "outlinewidth": 0,
              "ticks": ""
             }
            },
            "type": "scatter3d"
           }
          ],
          "scattercarpet": [
           {
            "marker": {
             "colorbar": {
              "outlinewidth": 0,
              "ticks": ""
             }
            },
            "type": "scattercarpet"
           }
          ],
          "scattergeo": [
           {
            "marker": {
             "colorbar": {
              "outlinewidth": 0,
              "ticks": ""
             }
            },
            "type": "scattergeo"
           }
          ],
          "scattergl": [
           {
            "marker": {
             "colorbar": {
              "outlinewidth": 0,
              "ticks": ""
             }
            },
            "type": "scattergl"
           }
          ],
          "scattermapbox": [
           {
            "marker": {
             "colorbar": {
              "outlinewidth": 0,
              "ticks": ""
             }
            },
            "type": "scattermapbox"
           }
          ],
          "scatterpolar": [
           {
            "marker": {
             "colorbar": {
              "outlinewidth": 0,
              "ticks": ""
             }
            },
            "type": "scatterpolar"
           }
          ],
          "scatterpolargl": [
           {
            "marker": {
             "colorbar": {
              "outlinewidth": 0,
              "ticks": ""
             }
            },
            "type": "scatterpolargl"
           }
          ],
          "scatterternary": [
           {
            "marker": {
             "colorbar": {
              "outlinewidth": 0,
              "ticks": ""
             }
            },
            "type": "scatterternary"
           }
          ],
          "surface": [
           {
            "colorbar": {
             "outlinewidth": 0,
             "ticks": ""
            },
            "colorscale": [
             [
              0,
              "#0d0887"
             ],
             [
              0.1111111111111111,
              "#46039f"
             ],
             [
              0.2222222222222222,
              "#7201a8"
             ],
             [
              0.3333333333333333,
              "#9c179e"
             ],
             [
              0.4444444444444444,
              "#bd3786"
             ],
             [
              0.5555555555555556,
              "#d8576b"
             ],
             [
              0.6666666666666666,
              "#ed7953"
             ],
             [
              0.7777777777777778,
              "#fb9f3a"
             ],
             [
              0.8888888888888888,
              "#fdca26"
             ],
             [
              1,
              "#f0f921"
             ]
            ],
            "type": "surface"
           }
          ],
          "table": [
           {
            "cells": {
             "fill": {
              "color": "#EBF0F8"
             },
             "line": {
              "color": "white"
             }
            },
            "header": {
             "fill": {
              "color": "#C8D4E3"
             },
             "line": {
              "color": "white"
             }
            },
            "type": "table"
           }
          ]
         },
         "layout": {
          "annotationdefaults": {
           "arrowcolor": "#2a3f5f",
           "arrowhead": 0,
           "arrowwidth": 1
          },
          "autotypenumbers": "strict",
          "coloraxis": {
           "colorbar": {
            "outlinewidth": 0,
            "ticks": ""
           }
          },
          "colorscale": {
           "diverging": [
            [
             0,
             "#8e0152"
            ],
            [
             0.1,
             "#c51b7d"
            ],
            [
             0.2,
             "#de77ae"
            ],
            [
             0.3,
             "#f1b6da"
            ],
            [
             0.4,
             "#fde0ef"
            ],
            [
             0.5,
             "#f7f7f7"
            ],
            [
             0.6,
             "#e6f5d0"
            ],
            [
             0.7,
             "#b8e186"
            ],
            [
             0.8,
             "#7fbc41"
            ],
            [
             0.9,
             "#4d9221"
            ],
            [
             1,
             "#276419"
            ]
           ],
           "sequential": [
            [
             0,
             "#0d0887"
            ],
            [
             0.1111111111111111,
             "#46039f"
            ],
            [
             0.2222222222222222,
             "#7201a8"
            ],
            [
             0.3333333333333333,
             "#9c179e"
            ],
            [
             0.4444444444444444,
             "#bd3786"
            ],
            [
             0.5555555555555556,
             "#d8576b"
            ],
            [
             0.6666666666666666,
             "#ed7953"
            ],
            [
             0.7777777777777778,
             "#fb9f3a"
            ],
            [
             0.8888888888888888,
             "#fdca26"
            ],
            [
             1,
             "#f0f921"
            ]
           ],
           "sequentialminus": [
            [
             0,
             "#0d0887"
            ],
            [
             0.1111111111111111,
             "#46039f"
            ],
            [
             0.2222222222222222,
             "#7201a8"
            ],
            [
             0.3333333333333333,
             "#9c179e"
            ],
            [
             0.4444444444444444,
             "#bd3786"
            ],
            [
             0.5555555555555556,
             "#d8576b"
            ],
            [
             0.6666666666666666,
             "#ed7953"
            ],
            [
             0.7777777777777778,
             "#fb9f3a"
            ],
            [
             0.8888888888888888,
             "#fdca26"
            ],
            [
             1,
             "#f0f921"
            ]
           ]
          },
          "colorway": [
           "#636efa",
           "#EF553B",
           "#00cc96",
           "#ab63fa",
           "#FFA15A",
           "#19d3f3",
           "#FF6692",
           "#B6E880",
           "#FF97FF",
           "#FECB52"
          ],
          "font": {
           "color": "#2a3f5f"
          },
          "geo": {
           "bgcolor": "white",
           "lakecolor": "white",
           "landcolor": "#E5ECF6",
           "showlakes": true,
           "showland": true,
           "subunitcolor": "white"
          },
          "hoverlabel": {
           "align": "left"
          },
          "hovermode": "closest",
          "mapbox": {
           "style": "light"
          },
          "paper_bgcolor": "white",
          "plot_bgcolor": "#E5ECF6",
          "polar": {
           "angularaxis": {
            "gridcolor": "white",
            "linecolor": "white",
            "ticks": ""
           },
           "bgcolor": "#E5ECF6",
           "radialaxis": {
            "gridcolor": "white",
            "linecolor": "white",
            "ticks": ""
           }
          },
          "scene": {
           "xaxis": {
            "backgroundcolor": "#E5ECF6",
            "gridcolor": "white",
            "gridwidth": 2,
            "linecolor": "white",
            "showbackground": true,
            "ticks": "",
            "zerolinecolor": "white"
           },
           "yaxis": {
            "backgroundcolor": "#E5ECF6",
            "gridcolor": "white",
            "gridwidth": 2,
            "linecolor": "white",
            "showbackground": true,
            "ticks": "",
            "zerolinecolor": "white"
           },
           "zaxis": {
            "backgroundcolor": "#E5ECF6",
            "gridcolor": "white",
            "gridwidth": 2,
            "linecolor": "white",
            "showbackground": true,
            "ticks": "",
            "zerolinecolor": "white"
           }
          },
          "shapedefaults": {
           "line": {
            "color": "#2a3f5f"
           }
          },
          "ternary": {
           "aaxis": {
            "gridcolor": "white",
            "linecolor": "white",
            "ticks": ""
           },
           "baxis": {
            "gridcolor": "white",
            "linecolor": "white",
            "ticks": ""
           },
           "bgcolor": "#E5ECF6",
           "caxis": {
            "gridcolor": "white",
            "linecolor": "white",
            "ticks": ""
           }
          },
          "title": {
           "x": 0.05
          },
          "xaxis": {
           "automargin": true,
           "gridcolor": "white",
           "linecolor": "white",
           "ticks": "",
           "title": {
            "standoff": 15
           },
           "zerolinecolor": "white",
           "zerolinewidth": 2
          },
          "yaxis": {
           "automargin": true,
           "gridcolor": "white",
           "linecolor": "white",
           "ticks": "",
           "title": {
            "standoff": 15
           },
           "zerolinecolor": "white",
           "zerolinewidth": 2
          }
         }
        },
        "title": {
         "text": "권태한_라인별 15분 골드 그래프"
        },
        "xaxis": {
         "anchor": "y",
         "categoryarray": [
          "BOTTOM",
          "JUNGLE",
          "MIDDLE",
          "TOP",
          "UTILITY"
         ],
         "categoryorder": "array",
         "domain": [
          0,
          1
         ],
         "title": {
          "text": "TEAMPOSITION"
         }
        },
        "yaxis": {
         "anchor": "x",
         "domain": [
          0,
          1
         ],
         "title": {
          "text": "G_15"
         }
        }
       }
      },
      "text/html": [
       "<div>                            <div id=\"eb147cfb-d47e-4a09-8deb-16c16473bf18\" class=\"plotly-graph-div\" style=\"height:525px; width:100%;\"></div>            <script type=\"text/javascript\">                require([\"plotly\"], function(Plotly) {                    window.PLOTLYENV=window.PLOTLYENV || {};                                    if (document.getElementById(\"eb147cfb-d47e-4a09-8deb-16c16473bf18\")) {                    Plotly.newPlot(                        \"eb147cfb-d47e-4a09-8deb-16c16473bf18\",                        [{\"alignmentgroup\":\"True\",\"hovertemplate\":\"TEAMPOSITION=%{x}<br>G_15=%{y}<extra></extra>\",\"legendgroup\":\"BOTTOM\",\"marker\":{\"color\":\"#636efa\",\"pattern\":{\"shape\":\"\"}},\"name\":\"BOTTOM\",\"offsetgroup\":\"BOTTOM\",\"orientation\":\"v\",\"showlegend\":true,\"textposition\":\"auto\",\"x\":[\"BOTTOM\"],\"xaxis\":\"x\",\"y\":[5628.49],\"yaxis\":\"y\",\"type\":\"bar\"},{\"alignmentgroup\":\"True\",\"hovertemplate\":\"TEAMPOSITION=%{x}<br>G_15=%{y}<extra></extra>\",\"legendgroup\":\"JUNGLE\",\"marker\":{\"color\":\"#EF553B\",\"pattern\":{\"shape\":\"\"}},\"name\":\"JUNGLE\",\"offsetgroup\":\"JUNGLE\",\"orientation\":\"v\",\"showlegend\":true,\"textposition\":\"auto\",\"x\":[\"JUNGLE\"],\"xaxis\":\"x\",\"y\":[5713.1],\"yaxis\":\"y\",\"type\":\"bar\"},{\"alignmentgroup\":\"True\",\"hovertemplate\":\"TEAMPOSITION=%{x}<br>G_15=%{y}<extra></extra>\",\"legendgroup\":\"MIDDLE\",\"marker\":{\"color\":\"#00cc96\",\"pattern\":{\"shape\":\"\"}},\"name\":\"MIDDLE\",\"offsetgroup\":\"MIDDLE\",\"orientation\":\"v\",\"showlegend\":true,\"textposition\":\"auto\",\"x\":[\"MIDDLE\"],\"xaxis\":\"x\",\"y\":[5401.61],\"yaxis\":\"y\",\"type\":\"bar\"},{\"alignmentgroup\":\"True\",\"hovertemplate\":\"TEAMPOSITION=%{x}<br>G_15=%{y}<extra></extra>\",\"legendgroup\":\"TOP\",\"marker\":{\"color\":\"#ab63fa\",\"pattern\":{\"shape\":\"\"}},\"name\":\"TOP\",\"offsetgroup\":\"TOP\",\"orientation\":\"v\",\"showlegend\":true,\"textposition\":\"auto\",\"x\":[\"TOP\"],\"xaxis\":\"x\",\"y\":[5237.48],\"yaxis\":\"y\",\"type\":\"bar\"},{\"alignmentgroup\":\"True\",\"hovertemplate\":\"TEAMPOSITION=%{x}<br>G_15=%{y}<extra></extra>\",\"legendgroup\":\"UTILITY\",\"marker\":{\"color\":\"#FFA15A\",\"pattern\":{\"shape\":\"\"}},\"name\":\"UTILITY\",\"offsetgroup\":\"UTILITY\",\"orientation\":\"v\",\"showlegend\":true,\"textposition\":\"auto\",\"x\":[\"UTILITY\"],\"xaxis\":\"x\",\"y\":[4131.43],\"yaxis\":\"y\",\"type\":\"bar\"}],                        {\"barmode\":\"relative\",\"legend\":{\"title\":{\"text\":\"TEAMPOSITION\"},\"tracegroupgap\":0},\"template\":{\"data\":{\"barpolar\":[{\"marker\":{\"line\":{\"color\":\"#E5ECF6\",\"width\":0.5},\"pattern\":{\"fillmode\":\"overlay\",\"size\":10,\"solidity\":0.2}},\"type\":\"barpolar\"}],\"bar\":[{\"error_x\":{\"color\":\"#2a3f5f\"},\"error_y\":{\"color\":\"#2a3f5f\"},\"marker\":{\"line\":{\"color\":\"#E5ECF6\",\"width\":0.5},\"pattern\":{\"fillmode\":\"overlay\",\"size\":10,\"solidity\":0.2}},\"type\":\"bar\"}],\"carpet\":[{\"aaxis\":{\"endlinecolor\":\"#2a3f5f\",\"gridcolor\":\"white\",\"linecolor\":\"white\",\"minorgridcolor\":\"white\",\"startlinecolor\":\"#2a3f5f\"},\"baxis\":{\"endlinecolor\":\"#2a3f5f\",\"gridcolor\":\"white\",\"linecolor\":\"white\",\"minorgridcolor\":\"white\",\"startlinecolor\":\"#2a3f5f\"},\"type\":\"carpet\"}],\"choropleth\":[{\"colorbar\":{\"outlinewidth\":0,\"ticks\":\"\"},\"type\":\"choropleth\"}],\"contourcarpet\":[{\"colorbar\":{\"outlinewidth\":0,\"ticks\":\"\"},\"type\":\"contourcarpet\"}],\"contour\":[{\"colorbar\":{\"outlinewidth\":0,\"ticks\":\"\"},\"colorscale\":[[0.0,\"#0d0887\"],[0.1111111111111111,\"#46039f\"],[0.2222222222222222,\"#7201a8\"],[0.3333333333333333,\"#9c179e\"],[0.4444444444444444,\"#bd3786\"],[0.5555555555555556,\"#d8576b\"],[0.6666666666666666,\"#ed7953\"],[0.7777777777777778,\"#fb9f3a\"],[0.8888888888888888,\"#fdca26\"],[1.0,\"#f0f921\"]],\"type\":\"contour\"}],\"heatmapgl\":[{\"colorbar\":{\"outlinewidth\":0,\"ticks\":\"\"},\"colorscale\":[[0.0,\"#0d0887\"],[0.1111111111111111,\"#46039f\"],[0.2222222222222222,\"#7201a8\"],[0.3333333333333333,\"#9c179e\"],[0.4444444444444444,\"#bd3786\"],[0.5555555555555556,\"#d8576b\"],[0.6666666666666666,\"#ed7953\"],[0.7777777777777778,\"#fb9f3a\"],[0.8888888888888888,\"#fdca26\"],[1.0,\"#f0f921\"]],\"type\":\"heatmapgl\"}],\"heatmap\":[{\"colorbar\":{\"outlinewidth\":0,\"ticks\":\"\"},\"colorscale\":[[0.0,\"#0d0887\"],[0.1111111111111111,\"#46039f\"],[0.2222222222222222,\"#7201a8\"],[0.3333333333333333,\"#9c179e\"],[0.4444444444444444,\"#bd3786\"],[0.5555555555555556,\"#d8576b\"],[0.6666666666666666,\"#ed7953\"],[0.7777777777777778,\"#fb9f3a\"],[0.8888888888888888,\"#fdca26\"],[1.0,\"#f0f921\"]],\"type\":\"heatmap\"}],\"histogram2dcontour\":[{\"colorbar\":{\"outlinewidth\":0,\"ticks\":\"\"},\"colorscale\":[[0.0,\"#0d0887\"],[0.1111111111111111,\"#46039f\"],[0.2222222222222222,\"#7201a8\"],[0.3333333333333333,\"#9c179e\"],[0.4444444444444444,\"#bd3786\"],[0.5555555555555556,\"#d8576b\"],[0.6666666666666666,\"#ed7953\"],[0.7777777777777778,\"#fb9f3a\"],[0.8888888888888888,\"#fdca26\"],[1.0,\"#f0f921\"]],\"type\":\"histogram2dcontour\"}],\"histogram2d\":[{\"colorbar\":{\"outlinewidth\":0,\"ticks\":\"\"},\"colorscale\":[[0.0,\"#0d0887\"],[0.1111111111111111,\"#46039f\"],[0.2222222222222222,\"#7201a8\"],[0.3333333333333333,\"#9c179e\"],[0.4444444444444444,\"#bd3786\"],[0.5555555555555556,\"#d8576b\"],[0.6666666666666666,\"#ed7953\"],[0.7777777777777778,\"#fb9f3a\"],[0.8888888888888888,\"#fdca26\"],[1.0,\"#f0f921\"]],\"type\":\"histogram2d\"}],\"histogram\":[{\"marker\":{\"pattern\":{\"fillmode\":\"overlay\",\"size\":10,\"solidity\":0.2}},\"type\":\"histogram\"}],\"mesh3d\":[{\"colorbar\":{\"outlinewidth\":0,\"ticks\":\"\"},\"type\":\"mesh3d\"}],\"parcoords\":[{\"line\":{\"colorbar\":{\"outlinewidth\":0,\"ticks\":\"\"}},\"type\":\"parcoords\"}],\"pie\":[{\"automargin\":true,\"type\":\"pie\"}],\"scatter3d\":[{\"line\":{\"colorbar\":{\"outlinewidth\":0,\"ticks\":\"\"}},\"marker\":{\"colorbar\":{\"outlinewidth\":0,\"ticks\":\"\"}},\"type\":\"scatter3d\"}],\"scattercarpet\":[{\"marker\":{\"colorbar\":{\"outlinewidth\":0,\"ticks\":\"\"}},\"type\":\"scattercarpet\"}],\"scattergeo\":[{\"marker\":{\"colorbar\":{\"outlinewidth\":0,\"ticks\":\"\"}},\"type\":\"scattergeo\"}],\"scattergl\":[{\"marker\":{\"colorbar\":{\"outlinewidth\":0,\"ticks\":\"\"}},\"type\":\"scattergl\"}],\"scattermapbox\":[{\"marker\":{\"colorbar\":{\"outlinewidth\":0,\"ticks\":\"\"}},\"type\":\"scattermapbox\"}],\"scatterpolargl\":[{\"marker\":{\"colorbar\":{\"outlinewidth\":0,\"ticks\":\"\"}},\"type\":\"scatterpolargl\"}],\"scatterpolar\":[{\"marker\":{\"colorbar\":{\"outlinewidth\":0,\"ticks\":\"\"}},\"type\":\"scatterpolar\"}],\"scatter\":[{\"marker\":{\"colorbar\":{\"outlinewidth\":0,\"ticks\":\"\"}},\"type\":\"scatter\"}],\"scatterternary\":[{\"marker\":{\"colorbar\":{\"outlinewidth\":0,\"ticks\":\"\"}},\"type\":\"scatterternary\"}],\"surface\":[{\"colorbar\":{\"outlinewidth\":0,\"ticks\":\"\"},\"colorscale\":[[0.0,\"#0d0887\"],[0.1111111111111111,\"#46039f\"],[0.2222222222222222,\"#7201a8\"],[0.3333333333333333,\"#9c179e\"],[0.4444444444444444,\"#bd3786\"],[0.5555555555555556,\"#d8576b\"],[0.6666666666666666,\"#ed7953\"],[0.7777777777777778,\"#fb9f3a\"],[0.8888888888888888,\"#fdca26\"],[1.0,\"#f0f921\"]],\"type\":\"surface\"}],\"table\":[{\"cells\":{\"fill\":{\"color\":\"#EBF0F8\"},\"line\":{\"color\":\"white\"}},\"header\":{\"fill\":{\"color\":\"#C8D4E3\"},\"line\":{\"color\":\"white\"}},\"type\":\"table\"}]},\"layout\":{\"annotationdefaults\":{\"arrowcolor\":\"#2a3f5f\",\"arrowhead\":0,\"arrowwidth\":1},\"autotypenumbers\":\"strict\",\"coloraxis\":{\"colorbar\":{\"outlinewidth\":0,\"ticks\":\"\"}},\"colorscale\":{\"diverging\":[[0,\"#8e0152\"],[0.1,\"#c51b7d\"],[0.2,\"#de77ae\"],[0.3,\"#f1b6da\"],[0.4,\"#fde0ef\"],[0.5,\"#f7f7f7\"],[0.6,\"#e6f5d0\"],[0.7,\"#b8e186\"],[0.8,\"#7fbc41\"],[0.9,\"#4d9221\"],[1,\"#276419\"]],\"sequential\":[[0.0,\"#0d0887\"],[0.1111111111111111,\"#46039f\"],[0.2222222222222222,\"#7201a8\"],[0.3333333333333333,\"#9c179e\"],[0.4444444444444444,\"#bd3786\"],[0.5555555555555556,\"#d8576b\"],[0.6666666666666666,\"#ed7953\"],[0.7777777777777778,\"#fb9f3a\"],[0.8888888888888888,\"#fdca26\"],[1.0,\"#f0f921\"]],\"sequentialminus\":[[0.0,\"#0d0887\"],[0.1111111111111111,\"#46039f\"],[0.2222222222222222,\"#7201a8\"],[0.3333333333333333,\"#9c179e\"],[0.4444444444444444,\"#bd3786\"],[0.5555555555555556,\"#d8576b\"],[0.6666666666666666,\"#ed7953\"],[0.7777777777777778,\"#fb9f3a\"],[0.8888888888888888,\"#fdca26\"],[1.0,\"#f0f921\"]]},\"colorway\":[\"#636efa\",\"#EF553B\",\"#00cc96\",\"#ab63fa\",\"#FFA15A\",\"#19d3f3\",\"#FF6692\",\"#B6E880\",\"#FF97FF\",\"#FECB52\"],\"font\":{\"color\":\"#2a3f5f\"},\"geo\":{\"bgcolor\":\"white\",\"lakecolor\":\"white\",\"landcolor\":\"#E5ECF6\",\"showlakes\":true,\"showland\":true,\"subunitcolor\":\"white\"},\"hoverlabel\":{\"align\":\"left\"},\"hovermode\":\"closest\",\"mapbox\":{\"style\":\"light\"},\"paper_bgcolor\":\"white\",\"plot_bgcolor\":\"#E5ECF6\",\"polar\":{\"angularaxis\":{\"gridcolor\":\"white\",\"linecolor\":\"white\",\"ticks\":\"\"},\"bgcolor\":\"#E5ECF6\",\"radialaxis\":{\"gridcolor\":\"white\",\"linecolor\":\"white\",\"ticks\":\"\"}},\"scene\":{\"xaxis\":{\"backgroundcolor\":\"#E5ECF6\",\"gridcolor\":\"white\",\"gridwidth\":2,\"linecolor\":\"white\",\"showbackground\":true,\"ticks\":\"\",\"zerolinecolor\":\"white\"},\"yaxis\":{\"backgroundcolor\":\"#E5ECF6\",\"gridcolor\":\"white\",\"gridwidth\":2,\"linecolor\":\"white\",\"showbackground\":true,\"ticks\":\"\",\"zerolinecolor\":\"white\"},\"zaxis\":{\"backgroundcolor\":\"#E5ECF6\",\"gridcolor\":\"white\",\"gridwidth\":2,\"linecolor\":\"white\",\"showbackground\":true,\"ticks\":\"\",\"zerolinecolor\":\"white\"}},\"shapedefaults\":{\"line\":{\"color\":\"#2a3f5f\"}},\"ternary\":{\"aaxis\":{\"gridcolor\":\"white\",\"linecolor\":\"white\",\"ticks\":\"\"},\"baxis\":{\"gridcolor\":\"white\",\"linecolor\":\"white\",\"ticks\":\"\"},\"bgcolor\":\"#E5ECF6\",\"caxis\":{\"gridcolor\":\"white\",\"linecolor\":\"white\",\"ticks\":\"\"}},\"title\":{\"x\":0.05},\"xaxis\":{\"automargin\":true,\"gridcolor\":\"white\",\"linecolor\":\"white\",\"ticks\":\"\",\"title\":{\"standoff\":15},\"zerolinecolor\":\"white\",\"zerolinewidth\":2},\"yaxis\":{\"automargin\":true,\"gridcolor\":\"white\",\"linecolor\":\"white\",\"ticks\":\"\",\"title\":{\"standoff\":15},\"zerolinecolor\":\"white\",\"zerolinewidth\":2}}},\"title\":{\"text\":\"\\uad8c\\ud0dc\\ud55c_\\ub77c\\uc778\\ubcc4 15\\ubd84 \\uace8\\ub4dc \\uadf8\\ub798\\ud504\"},\"xaxis\":{\"anchor\":\"y\",\"categoryarray\":[\"BOTTOM\",\"JUNGLE\",\"MIDDLE\",\"TOP\",\"UTILITY\"],\"categoryorder\":\"array\",\"domain\":[0.0,1.0],\"title\":{\"text\":\"TEAMPOSITION\"}},\"yaxis\":{\"anchor\":\"x\",\"domain\":[0.0,1.0],\"title\":{\"text\":\"G_15\"}}},                        {\"responsive\": true}                    ).then(function(){\n",
       "                            \n",
       "var gd = document.getElementById('eb147cfb-d47e-4a09-8deb-16c16473bf18');\n",
       "var x = new MutationObserver(function (mutations, observer) {{\n",
       "        var display = window.getComputedStyle(gd).display;\n",
       "        if (!display || display === 'none') {{\n",
       "            console.log([gd, 'removed!']);\n",
       "            Plotly.purge(gd);\n",
       "            observer.disconnect();\n",
       "        }}\n",
       "}});\n",
       "\n",
       "// Listen for the removal of the full notebook cells\n",
       "var notebookContainer = gd.closest('#notebook-container');\n",
       "if (notebookContainer) {{\n",
       "    x.observe(notebookContainer, {childList: true});\n",
       "}}\n",
       "\n",
       "// Listen for the clearing of the current output cell\n",
       "var outputEl = gd.closest('.output');\n",
       "if (outputEl) {{\n",
       "    x.observe(outputEl, {childList: true});\n",
       "}}\n",
       "\n",
       "                        })                };                });            </script>        </div>"
      ]
     },
     "metadata": {},
     "output_type": "display_data"
    }
   ],
   "source": [
    "# 8번 문제\n",
    "fig = px.bar(my_gold, title= '권태한_라인별 15분 골드 그래프',\n",
    "                x = 'TEAMPOSITION',\n",
    "                y = 'G_15',\n",
    "            color = 'TEAMPOSITION' )\n",
    "plotly.offline.iplot(fig)"
   ]
  }
 ],
 "metadata": {
  "kernelspec": {
   "display_name": "Python 3 (ipykernel)",
   "language": "python",
   "name": "python3"
  },
  "language_info": {
   "codemirror_mode": {
    "name": "ipython",
    "version": 3
   },
   "file_extension": ".py",
   "mimetype": "text/x-python",
   "name": "python",
   "nbconvert_exporter": "python",
   "pygments_lexer": "ipython3",
   "version": "3.9.12"
  }
 },
 "nbformat": 4,
 "nbformat_minor": 5
}
